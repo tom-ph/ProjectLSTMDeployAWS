{
 "cells": [
  {
   "cell_type": "markdown",
   "metadata": {
    "colab_type": "text",
    "id": "AnU618fVQ1eu"
   },
   "source": [
    "# Creating a Sentiment Analysis Web App\n",
    "## Using PyTorch and SageMaker\n",
    "\n",
    "_Deep Learning Nanodegree Program | Deployment_\n",
    "\n",
    "---\n",
    "\n",
    "Now that we have a basic understanding of how SageMaker works we will try to use it to construct a complete project from end to end. Our goal will be to have a simple web page which a user can use to enter a movie review. The web page will then send the review off to our deployed model which will predict the sentiment of the entered review.\n",
    "\n",
    "## Instructions\n",
    "\n",
    "Some template code has already been provided for you, and you will need to implement additional functionality to successfully complete this notebook. You will not need to modify the included code beyond what is requested. Sections that begin with '**TODO**' in the header indicate that you need to complete or implement some portion within them. Instructions will be provided for each section and the specifics of the implementation are marked in the code block with a `# TODO: ...` comment. Please be sure to read the instructions carefully!\n",
    "\n",
    "In addition to implementing code, there will be questions for you to answer which relate to the task and your implementation. Each section where you will answer a question is preceded by a '**Question:**' header. Carefully read each question and provide your answer below the '**Answer:**' header by editing the Markdown cell.\n",
    "\n",
    "> **Note**: Code and Markdown cells can be executed using the **Shift+Enter** keyboard shortcut. In addition, a cell can be edited by typically clicking it (double-click for Markdown cells) or by pressing **Enter** while it is highlighted.\n",
    "\n",
    "## General Outline\n",
    "\n",
    "Recall the general outline for SageMaker projects using a notebook instance.\n",
    "\n",
    "1. Download or otherwise retrieve the data.\n",
    "2. Process / Prepare the data.\n",
    "3. Upload the processed data to S3.\n",
    "4. Train a chosen model.\n",
    "5. Test the trained model (typically using a batch transform job).\n",
    "6. Deploy the trained model.\n",
    "7. Use the deployed model.\n",
    "\n",
    "For this project, you will be following the steps in the general outline with some modifications. \n",
    "\n",
    "First, you will not be testing the model in its own step. You will still be testing the model, however, you will do it by deploying your model and then using the deployed model by sending the test data to it. One of the reasons for doing this is so that you can make sure that your deployed model is working correctly before moving forward.\n",
    "\n",
    "In addition, you will deploy and use your trained model a second time. In the second iteration you will customize the way that your trained model is deployed by including some of your own code. In addition, your newly deployed model will be used in the sentiment analysis web app."
   ]
  },
  {
   "cell_type": "markdown",
   "metadata": {
    "colab_type": "text",
    "id": "xoR1sSxWQ1e0"
   },
   "source": [
    "## Step 1: Downloading the data\n",
    "\n",
    "As in the XGBoost in SageMaker notebook, we will be using the [IMDb dataset](http://ai.stanford.edu/~amaas/data/sentiment/)\n",
    "\n",
    "> Maas, Andrew L., et al. [Learning Word Vectors for Sentiment Analysis](http://ai.stanford.edu/~amaas/data/sentiment/). In _Proceedings of the 49th Annual Meeting of the Association for Computational Linguistics: Human Language Technologies_. Association for Computational Linguistics, 2011."
   ]
  },
  {
   "cell_type": "code",
   "execution_count": 1,
   "metadata": {
    "colab": {
     "base_uri": "https://localhost:8080/",
     "height": 208
    },
    "colab_type": "code",
    "id": "HB41iGumQ1e3",
    "outputId": "843834d2-acc8-4c56-9c25-0e040ca371c3"
   },
   "outputs": [
    {
     "name": "stdout",
     "output_type": "stream",
     "text": [
      "mkdir: cannot create directory ‘../data’: File exists\n",
      "--2020-04-07 07:43:36--  http://ai.stanford.edu/~amaas/data/sentiment/aclImdb_v1.tar.gz\n",
      "Resolving ai.stanford.edu (ai.stanford.edu)... 171.64.68.10\n",
      "Connecting to ai.stanford.edu (ai.stanford.edu)|171.64.68.10|:80... connected.\n",
      "HTTP request sent, awaiting response... 200 OK\n",
      "Length: 84125825 (80M) [application/x-gzip]\n",
      "Saving to: ‘../data/aclImdb_v1.tar.gz’\n",
      "\n",
      "../data/aclImdb_v1. 100%[===================>]  80.23M  22.9MB/s    in 4.8s    \n",
      "\n",
      "2020-04-07 07:43:41 (16.7 MB/s) - ‘../data/aclImdb_v1.tar.gz’ saved [84125825/84125825]\n",
      "\n"
     ]
    }
   ],
   "source": [
    "%mkdir ../data\n",
    "!wget -O ../data/aclImdb_v1.tar.gz http://ai.stanford.edu/~amaas/data/sentiment/aclImdb_v1.tar.gz\n",
    "!tar -zxf ../data/aclImdb_v1.tar.gz -C ../data"
   ]
  },
  {
   "cell_type": "markdown",
   "metadata": {
    "colab_type": "text",
    "id": "WH7rJK0XQ1fG"
   },
   "source": [
    "## Step 2: Preparing and Processing the data\n",
    "\n",
    "Also, as in the XGBoost notebook, we will be doing some initial data processing. The first few steps are the same as in the XGBoost example. To begin with, we will read in each of the reviews and combine them into a single input structure. Then, we will split the dataset into a training set and a testing set."
   ]
  },
  {
   "cell_type": "code",
   "execution_count": 2,
   "metadata": {
    "colab": {},
    "colab_type": "code",
    "id": "iuu57UEAQ1fH"
   },
   "outputs": [],
   "source": [
    "import os\n",
    "import glob\n",
    "\n",
    "def read_imdb_data(data_dir='../data/aclImdb'):\n",
    "    data = {}\n",
    "    labels = {}\n",
    "    \n",
    "    for data_type in ['train', 'test']:\n",
    "        data[data_type] = {}\n",
    "        labels[data_type] = {}\n",
    "        \n",
    "        for sentiment in ['pos', 'neg']:\n",
    "            data[data_type][sentiment] = []\n",
    "            labels[data_type][sentiment] = []\n",
    "            \n",
    "            path = os.path.join(data_dir, data_type, sentiment, '*.txt')\n",
    "            files = glob.glob(path)\n",
    "            \n",
    "            for f in files:\n",
    "                with open(f) as review:\n",
    "                    data[data_type][sentiment].append(review.read())\n",
    "                    # Here we represent a positive review by '1' and a negative review by '0'\n",
    "                    labels[data_type][sentiment].append(1 if sentiment == 'pos' else 0)\n",
    "                    \n",
    "            assert len(data[data_type][sentiment]) == len(labels[data_type][sentiment]), \\\n",
    "                    \"{}/{} data size does not match labels size\".format(data_type, sentiment)\n",
    "                \n",
    "    return data, labels"
   ]
  },
  {
   "cell_type": "code",
   "execution_count": 3,
   "metadata": {
    "colab": {
     "base_uri": "https://localhost:8080/",
     "height": 35
    },
    "colab_type": "code",
    "id": "5c2cmLV6Q1fP",
    "outputId": "94c6c7e0-10e4-4b44-8c35-92d99f13aec1"
   },
   "outputs": [
    {
     "name": "stdout",
     "output_type": "stream",
     "text": [
      "IMDB reviews: train = 12500 pos / 12500 neg, test = 12500 pos / 12500 neg\n"
     ]
    }
   ],
   "source": [
    "data, labels = read_imdb_data()\n",
    "print(\"IMDB reviews: train = {} pos / {} neg, test = {} pos / {} neg\".format(\n",
    "            len(data['train']['pos']), len(data['train']['neg']),\n",
    "            len(data['test']['pos']), len(data['test']['neg'])))"
   ]
  },
  {
   "cell_type": "markdown",
   "metadata": {
    "colab_type": "text",
    "id": "FBaqPWvOQ1fW"
   },
   "source": [
    "Now that we've read the raw training and testing data from the downloaded dataset, we will combine the positive and negative reviews and shuffle the resulting records."
   ]
  },
  {
   "cell_type": "code",
   "execution_count": 4,
   "metadata": {
    "colab": {},
    "colab_type": "code",
    "id": "KYpD20a5Q1fY"
   },
   "outputs": [],
   "source": [
    "from sklearn.utils import shuffle\n",
    "\n",
    "def prepare_imdb_data(data, labels, train_perc=0.8):\n",
    "    \"\"\"Prepare training and test sets from IMDb movie reviews.\"\"\"\n",
    "    #TF: Shuffle old train and test to change train percentage\n",
    "    data_pos = data['train']['pos'] + data['test']['pos']\n",
    "    data_neg = data['train']['neg'] + data['test']['neg']\n",
    "    labels_pos = labels['train']['pos'] + labels['test']['pos']\n",
    "    labels_neg = labels['train']['neg'] + labels['test']['neg']\n",
    "    data_pos, labels_pos = shuffle(data_pos, labels_pos)\n",
    "    data_neg, labels_neg = shuffle(data_neg, labels_neg)\n",
    "    train_pos_idx = int(len(data_pos)*train_perc)\n",
    "    train_neg_idx = int(len(data_neg)*train_perc)\n",
    "\n",
    "    #TF: New combine positive and negative reviews and labels\n",
    "    data_train = data_pos[:train_pos_idx] + data_neg[:train_neg_idx]\n",
    "    data_test = data_pos[train_pos_idx:] + data_neg[train_neg_idx:]\n",
    "    labels_train = labels_pos[:train_pos_idx] + labels_neg[:train_neg_idx]\n",
    "    labels_test = labels_pos[train_pos_idx:] + labels_neg[train_neg_idx:]\n",
    "\n",
    "    ##Combine positive and negative reviews and labels    \n",
    "    #data_train = data[train][pos] + data[train][neg]\n",
    "    #data_test = data[test][pos] + data[test][neg]\n",
    "    #labels_train = labels[train][pos] + labels[train][neg]\n",
    "    #labels_test = labels[test][pos] + labels[test][neg]\n",
    "    \n",
    "    #Shuffle reviews and corresponding labels within training and test sets\n",
    "    data_train, labels_train = shuffle(data_train, labels_train)\n",
    "    data_test, labels_test = shuffle(data_test, labels_test)\n",
    "    \n",
    "    # Return a unified training data, test data, training labels, test labets\n",
    "    return data_train, data_test, labels_train, labels_test"
   ]
  },
  {
   "cell_type": "code",
   "execution_count": 5,
   "metadata": {
    "colab": {
     "base_uri": "https://localhost:8080/",
     "height": 35
    },
    "colab_type": "code",
    "id": "pok0MwgeQ1fd",
    "outputId": "42e9c1cf-499c-45ff-d915-b477db366104"
   },
   "outputs": [
    {
     "name": "stdout",
     "output_type": "stream",
     "text": [
      "IMDb reviews (combined): train = 40000, test = 10000\n"
     ]
    }
   ],
   "source": [
    "train_X, test_X, train_y, test_y = prepare_imdb_data(data, labels)\n",
    "print(\"IMDb reviews (combined): train = {}, test = {}\".format(len(train_X), len(test_X)))"
   ]
  },
  {
   "cell_type": "markdown",
   "metadata": {
    "colab_type": "text",
    "id": "ITmWryYgQ1fj"
   },
   "source": [
    "Now that we have our training and testing sets unified and prepared, we should do a quick check and see an example of the data our model will be trained on. This is generally a good idea as it allows you to see how each of the further processing steps affects the reviews and it also ensures that the data has been loaded correctly."
   ]
  },
  {
   "cell_type": "code",
   "execution_count": 6,
   "metadata": {
    "colab": {
     "base_uri": "https://localhost:8080/",
     "height": 72
    },
    "colab_type": "code",
    "id": "LyPwwzrYQ1fk",
    "outputId": "97263508-d291-4e2e-f94d-221543655e62"
   },
   "outputs": [
    {
     "name": "stdout",
     "output_type": "stream",
     "text": [
      "Another Son of Sam is definitely not an Oscar winner. Technically, it's horrible. The acting is not too good either. But there is something about it that makes you want to watch more (sort of like a car wreck). The ridiculous close-ups of the killers eyes are more funny than anything. If you are looking for a scare...this ain't the flick for you. It's very obscure and nearly impossible to find. I'm sure there's a reason for that. For a while, it was titled HOSTAGE. It don't matter what you call it, it's still a poor choice for entertainment. It might be good for a MST3000 party or something. Can you believe they would use such a title as ANOTHER SON OF SAM? If that don't have exploitation written all over it, I'll eat my hat. I remember when this was shot in Belmont, NC. A lot of local personalities were used as talent.\n",
      "0\n"
     ]
    }
   ],
   "source": [
    "print(train_X[102])\n",
    "print(train_y[102])"
   ]
  },
  {
   "cell_type": "markdown",
   "metadata": {
    "colab_type": "text",
    "id": "ztBiJlS-Q1fp"
   },
   "source": [
    "The first step in processing the reviews is to make sure that any html tags that appear should be removed. In addition we wish to tokenize our input, that way words such as *entertained* and *entertaining* are considered the same with regard to sentiment analysis."
   ]
  },
  {
   "cell_type": "code",
   "execution_count": 7,
   "metadata": {
    "colab": {
     "base_uri": "https://localhost:8080/",
     "height": 52
    },
    "colab_type": "code",
    "id": "JbmEwXurQ1fq",
    "outputId": "d9a7d1c9-d0c6-460d-9441-9ffa35f73bc0"
   },
   "outputs": [
    {
     "name": "stdout",
     "output_type": "stream",
     "text": [
      "[nltk_data] Downloading package stopwords to\n",
      "[nltk_data]     /home/ec2-user/nltk_data...\n",
      "[nltk_data]   Unzipping corpora/stopwords.zip.\n"
     ]
    }
   ],
   "source": [
    "import nltk\n",
    "nltk.download('stopwords')\n",
    "from nltk.corpus import stopwords\n",
    "from nltk.stem.porter import *\n",
    "\n",
    "import re\n",
    "from bs4 import BeautifulSoup\n",
    "\n",
    "def review_to_words(review):\n",
    "    nltk.download(\"stopwords\", quiet=True)\n",
    "    stemmer = PorterStemmer()\n",
    "    \n",
    "    text = BeautifulSoup(review, \"html.parser\").get_text() # Remove HTML tags\n",
    "    text = re.sub(r\"[^a-zA-Z0-9]\", \" \", text.lower()) # Convert to lower case\n",
    "    words = text.split() # Split string into words\n",
    "    words = [w for w in words if w not in stopwords.words(\"english\")] # Remove stopwords\n",
    "    words = [PorterStemmer().stem(w) for w in words] # stem\n",
    "    \n",
    "    return words"
   ]
  },
  {
   "cell_type": "markdown",
   "metadata": {
    "colab_type": "text",
    "id": "6Xw2FDAtQ1fw"
   },
   "source": [
    "The `review_to_words` method defined above uses `BeautifulSoup` to remove any html tags that appear and uses the `nltk` package to tokenize the reviews. As a check to ensure we know how everything is working, try applying `review_to_words` to one of the reviews in the training set."
   ]
  },
  {
   "cell_type": "code",
   "execution_count": 8,
   "metadata": {
    "colab": {
     "base_uri": "https://localhost:8080/",
     "height": 72
    },
    "colab_type": "code",
    "id": "ksf-_Q_-Q1fw",
    "outputId": "66110506-24e7-422d-bcf5-c12c7a731191"
   },
   "outputs": [
    {
     "name": "stdout",
     "output_type": "stream",
     "text": [
      "['i', 'me', 'my', 'myself', 'we', 'our', 'ours', 'ourselves', 'you', \"you're\", \"you've\", \"you'll\", \"you'd\", 'your', 'yours', 'yourself', 'yourselves', 'he', 'him', 'his', 'himself', 'she', \"she's\", 'her', 'hers', 'herself', 'it', \"it's\", 'its', 'itself', 'they', 'them', 'their', 'theirs', 'themselves', 'what', 'which', 'who', 'whom', 'this', 'that', \"that'll\", 'these', 'those', 'am', 'is', 'are', 'was', 'were', 'be', 'been', 'being', 'have', 'has', 'had', 'having', 'do', 'does', 'did', 'doing', 'a', 'an', 'the', 'and', 'but', 'if', 'or', 'because', 'as', 'until', 'while', 'of', 'at', 'by', 'for', 'with', 'about', 'against', 'between', 'into', 'through', 'during', 'before', 'after', 'above', 'below', 'to', 'from', 'up', 'down', 'in', 'out', 'on', 'off', 'over', 'under', 'again', 'further', 'then', 'once', 'here', 'there', 'when', 'where', 'why', 'how', 'all', 'any', 'both', 'each', 'few', 'more', 'most', 'other', 'some', 'such', 'no', 'nor', 'not', 'only', 'own', 'same', 'so', 'than', 'too', 'very', 's', 't', 'can', 'will', 'just', 'don', \"don't\", 'should', \"should've\", 'now', 'd', 'll', 'm', 'o', 're', 've', 'y', 'ain', 'aren', \"aren't\", 'couldn', \"couldn't\", 'didn', \"didn't\", 'doesn', \"doesn't\", 'hadn', \"hadn't\", 'hasn', \"hasn't\", 'haven', \"haven't\", 'isn', \"isn't\", 'ma', 'mightn', \"mightn't\", 'mustn', \"mustn't\", 'needn', \"needn't\", 'shan', \"shan't\", 'shouldn', \"shouldn't\", 'wasn', \"wasn't\", 'weren', \"weren't\", 'won', \"won't\", 'wouldn', \"wouldn't\"]\n",
      "['total', 'non', 'scari', 'film', 'charact', 'interest', 'time', 'spent', 'car', 'dog', 'best', 'ugli', 'never', 'realli', 'scari', 'interest', 'threaten', 'menac', 'would', 'need', 'least', 'peopl', 'care', 'evok', 'emot', 'least', 'someth', 'interest', 'must', 'happen', 'someth', 'unexpect', 'film', 'drag', 'seem', 'like', 'forev', 'mayb', 'saint', 'bernhard', 'smart', 'choos', 'terribl', 'threat', 'life', 'societi', 'scari', 'movi', 'thriller', 'mysteri', 'whatev', 'genr', 'must', 'charact', 'spark', 'interest', 'make', 'want', 'know', 'happen', 'realli', 'care', 'wait', 'stop', 'wonder', 'better', 'see', 'someth', 'els', 'one', 'weakest', 'king', 'adapt']\n"
     ]
    }
   ],
   "source": [
    "# TODO: Apply review_to_words to a review (train_X[100] or any other review)\n",
    "sws=[w for w in stopwords.words(\"english\")]\n",
    "print(sws)\n",
    "print(review_to_words(train_X[1000]))"
   ]
  },
  {
   "cell_type": "markdown",
   "metadata": {
    "colab_type": "text",
    "id": "4N_tHnZeQ1f1"
   },
   "source": [
    "**Question:** Above we mentioned that `review_to_words` method removes html formatting and allows us to tokenize the words found in a review, for example, converting *entertained* and *entertaining* into *entertain* so that they are treated as though they are the same word. What else, if anything, does this method do to the input?"
   ]
  },
  {
   "cell_type": "markdown",
   "metadata": {
    "colab_type": "text",
    "id": "MEAp8fECQ1f2"
   },
   "source": [
    "**Answer:** It lowercases the words and removes the most common neutral english words."
   ]
  },
  {
   "cell_type": "markdown",
   "metadata": {
    "colab_type": "text",
    "id": "ZEyHllA1Q1f3"
   },
   "source": [
    "The method below applies the `review_to_words` method to each of the reviews in the training and testing datasets. In addition it caches the results. This is because performing this processing step can take a long time. This way if you are unable to complete the notebook in the current session, you can come back without needing to process the data a second time."
   ]
  },
  {
   "cell_type": "code",
   "execution_count": 9,
   "metadata": {
    "colab": {},
    "colab_type": "code",
    "id": "oxwO6rEXQ1f3"
   },
   "outputs": [],
   "source": [
    "import pickle\n",
    "\n",
    "cache_dir = os.path.join(\"../cache\", \"sentiment_analysis\")  # where to store cache files\n",
    "os.makedirs(cache_dir, exist_ok=True)  # ensure cache directory exists\n",
    "\n",
    "def preprocess_data(data_train, data_test, labels_train, labels_test,\n",
    "                    cache_dir=cache_dir, cache_file=\"preprocessed_data.pkl\"):\n",
    "    \"\"\"Convert each review to words; read from cache if available.\"\"\"\n",
    "\n",
    "    # If cache_file is not None, try to read from it first\n",
    "    cache_data = None\n",
    "    if cache_file is not None:\n",
    "        try:\n",
    "            with open(os.path.join(cache_dir, cache_file), \"rb\") as f:\n",
    "                cache_data = pickle.load(f)\n",
    "            print(\"Read preprocessed data from cache file:\", cache_file)\n",
    "        except:\n",
    "            pass  # unable to read from cache, but that's okay\n",
    "    \n",
    "    # If cache is missing, then do the heavy lifting\n",
    "    if cache_data is None:\n",
    "        # Preprocess training and test data to obtain words for each review\n",
    "        #words_train = list(map(review_to_words, data_train))\n",
    "        #words_test = list(map(review_to_words, data_test))\n",
    "        words_train = [review_to_words(review) for review in data_train]\n",
    "        words_test = [review_to_words(review) for review in data_test]\n",
    "        \n",
    "        # Write to cache file for future runs\n",
    "        if cache_file is not None:\n",
    "            cache_data = dict(words_train=words_train, words_test=words_test,\n",
    "                              labels_train=labels_train, labels_test=labels_test)\n",
    "            with open(os.path.join(cache_dir, cache_file), \"wb\") as f:\n",
    "                pickle.dump(cache_data, f)\n",
    "            print(\"Wrote preprocessed data to cache file:\", cache_file)\n",
    "    else:\n",
    "        # Unpack data loaded from cache file\n",
    "        words_train, words_test, labels_train, labels_test = (cache_data['words_train'],\n",
    "                cache_data['words_test'], cache_data['labels_train'], cache_data['labels_test'])\n",
    "    \n",
    "    return words_train, words_test, labels_train, labels_test"
   ]
  },
  {
   "cell_type": "code",
   "execution_count": 10,
   "metadata": {
    "colab": {
     "base_uri": "https://localhost:8080/",
     "height": 35
    },
    "colab_type": "code",
    "id": "s1VLVD3_Q1f8",
    "outputId": "4150c759-9095-49a0-c6d7-3cf59d2bfaf4"
   },
   "outputs": [
    {
     "name": "stdout",
     "output_type": "stream",
     "text": [
      "Read preprocessed data from cache file: preprocessed_data.pkl\n"
     ]
    }
   ],
   "source": [
    "# Preprocess data\n",
    "train_X, test_X, train_y, test_y = preprocess_data(train_X, test_X, train_y, test_y)"
   ]
  },
  {
   "cell_type": "code",
   "execution_count": 11,
   "metadata": {},
   "outputs": [],
   "source": [
    "#TF: add validation (should've done earlier to have balanced positive and negative reviews but i trust the law of large numbers)\n",
    "train_perc = 0.8\n",
    "train_idx = int(len(train_X)*train_perc)\n",
    "valid_X = train_X[train_idx:]\n",
    "valid_y = train_y[train_idx:]\n",
    "train_X = train_X[:train_idx]\n",
    "train_y = train_y[:train_idx]\n",
    "#already shuffled"
   ]
  },
  {
   "cell_type": "code",
   "execution_count": 12,
   "metadata": {
    "colab": {
     "base_uri": "https://localhost:8080/",
     "height": 1000
    },
    "colab_type": "code",
    "id": "APQhiahRycwx",
    "outputId": "7b6a2f1e-2211-4ab7-9834-4ec126eaacc8"
   },
   "outputs": [
    {
     "data": {
      "text/plain": [
       "['hyster',\n",
       " 'thing',\n",
       " 'movi',\n",
       " 'accord',\n",
       " 'director',\n",
       " 'difficulti',\n",
       " 'find',\n",
       " 'distributor',\n",
       " 'u',\n",
       " 'view',\n",
       " 'reconcil',\n",
       " 'seemingli',\n",
       " 'conflict',\n",
       " 'messag',\n",
       " 'christian',\n",
       " 'american',\n",
       " 'angst',\n",
       " 'thought',\n",
       " 'anyon',\n",
       " 'see',\n",
       " 'religi',\n",
       " 'film',\n",
       " 'anyway',\n",
       " 'laughabl',\n",
       " 'minist',\n",
       " 'mission',\n",
       " 'pray',\n",
       " 'homeless',\n",
       " 'wish',\n",
       " 'someon',\n",
       " 'godspe',\n",
       " 'make',\n",
       " 'christian',\n",
       " 'movi',\n",
       " 'one',\n",
       " 'could',\n",
       " 'interpret',\n",
       " 'actual',\n",
       " 'mock',\n",
       " 'religion',\n",
       " 'land',\n",
       " 'plenti',\n",
       " 'materi',\n",
       " 'excess',\n",
       " 'best',\n",
       " 'organ',\n",
       " 'mission',\n",
       " 'hand',\n",
       " 'bowl',\n",
       " 'soup',\n",
       " 'bibl',\n",
       " 'vers',\n",
       " 'plenti',\n",
       " 'unfortun',\n",
       " 'downtrodden',\n",
       " 'mayb',\n",
       " 'plenti',\n",
       " 'useless',\n",
       " 'homeless',\n",
       " 'mission',\n",
       " 'plenti',\n",
       " 'psycho',\n",
       " 'vietnam',\n",
       " 'vet',\n",
       " 'pill',\n",
       " 'pop',\n",
       " 'delusion',\n",
       " 'survivor',\n",
       " 'agent',\n",
       " 'pink',\n",
       " 'think',\n",
       " 'america',\n",
       " 'land',\n",
       " 'plenti',\n",
       " 'paranoid',\n",
       " 'patriot',\n",
       " 'mayb',\n",
       " 'plenti',\n",
       " 'psychiatr',\n",
       " 'patient',\n",
       " 'certainli',\n",
       " 'plenti',\n",
       " 'peopl',\n",
       " 'concern',\n",
       " 'palestin',\n",
       " 'polit',\n",
       " 'base',\n",
       " 'main',\n",
       " 'charact',\n",
       " 'phone',\n",
       " 'convers',\n",
       " 'film',\n",
       " 'cours',\n",
       " 'work',\n",
       " 'german',\n",
       " 'homeless',\n",
       " 'shelter',\n",
       " 'unfortun',\n",
       " 'would',\n",
       " 'much',\n",
       " 'concern',\n",
       " 'peac',\n",
       " 'distant',\n",
       " 'land',\n",
       " 'person',\n",
       " 'surviv',\n",
       " 'world',\n",
       " 'know',\n",
       " 'europ',\n",
       " 'contin',\n",
       " 'plenti',\n",
       " 'come',\n",
       " 'sophist',\n",
       " 'inde',\n",
       " 'agre',\n",
       " 'titl',\n",
       " 'end',\n",
       " 'unit',\n",
       " 'state',\n",
       " 'land',\n",
       " 'plenti',\n",
       " 'particular',\n",
       " 'case',\n",
       " 'refer',\n",
       " 'abund',\n",
       " 'poor',\n",
       " 'script',\n",
       " 'amateur',\n",
       " 'act',\n",
       " 'dispassion',\n",
       " 'direct',\n",
       " 'film',\n",
       " 'life',\n",
       " 'short',\n",
       " 'one',\n",
       " 'even',\n",
       " 'american',\n",
       " 'plenti',\n",
       " 'time',\n",
       " 'wast',\n",
       " 'watch',\n",
       " 'piec']"
      ]
     },
     "execution_count": 12,
     "metadata": {},
     "output_type": "execute_result"
    }
   ],
   "source": [
    "train_X[1000]"
   ]
  },
  {
   "cell_type": "markdown",
   "metadata": {
    "colab_type": "text",
    "id": "YWhX8s3UQ1gC"
   },
   "source": [
    "## Transform the data\n",
    "\n",
    "In the XGBoost notebook we transformed the data from its word representation to a bag-of-words feature representation. For the model we are going to construct in this notebook we will construct a feature representation which is very similar. To start, we will represent each word as an integer. Of course, some of the words that appear in the reviews occur very infrequently and so likely don't contain much information for the purposes of sentiment analysis. The way we will deal with this problem is that we will fix the size of our working vocabulary and we will only include the words that appear most frequently. We will then combine all of the infrequent words into a single category and, in our case, we will label it as `1`.\n",
    "\n",
    "Since we will be using a recurrent neural network, it will be convenient if the length of each review is the same. To do this, we will fix a size for our reviews and then pad short reviews with the category 'no word' (which we will label `0`) and truncate long reviews."
   ]
  },
  {
   "cell_type": "markdown",
   "metadata": {
    "colab_type": "text",
    "id": "9NicdEfCQ1gD"
   },
   "source": [
    "### (TODO) Create a word dictionary\n",
    "\n",
    "To begin with, we need to construct a way to map words that appear in the reviews to integers. Here we fix the size of our vocabulary (including the 'no word' and 'infrequent' categories) to be `5000` but you may wish to change this to see how it affects the model.\n",
    "\n",
    "> **TODO:** Complete the implementation for the `build_dict()` method below. Note that even though the vocab_size is set to `5000`, we only want to construct a mapping for the most frequently appearing `4998` words. This is because we want to reserve the special labels `0` for 'no word' and `1` for 'infrequent word'."
   ]
  },
  {
   "cell_type": "code",
   "execution_count": 13,
   "metadata": {
    "colab": {},
    "colab_type": "code",
    "id": "YEtJrikmQ1gE"
   },
   "outputs": [],
   "source": [
    "import numpy as np\n",
    "\n",
    "def build_dict(data, vocab_size = 5000):\n",
    "    \"\"\"Construct and return a dictionary mapping each of the most frequently appearing words to a unique integer.\"\"\"\n",
    "    \n",
    "    # TODO: Determine how often each word appears in `data`. Note that `data` is a list of sentences and that a\n",
    "    #       sentence is a list of words.\n",
    "    \n",
    "    word_count = {} # A dict storing the words that appear in the reviews along with how often they occur\n",
    "    for sent in data:\n",
    "        for word in sent:\n",
    "            if word in word_count:\n",
    "                word_count[word]+=1\n",
    "            else:\n",
    "                word_count[word]=1\n",
    "\n",
    "    \n",
    "    # TODO: Sort the words found in `data` so that sorted_words[0] is the most frequently appearing word and\n",
    "    #       sorted_words[-1] is the least frequently appearing word.\n",
    "    \n",
    "    sorted_words = sorted(word_count, key=word_count.get, reverse=True)\n",
    "    \n",
    "    word_dict = {} # This is what we are building, a dictionary that translates words into integers\n",
    "    for idx, word in enumerate(sorted_words[:vocab_size - 2]): # The -2 is so that we save room for the 'no word'\n",
    "        word_dict[word] = idx + 2                              # 'infrequent' labels\n",
    "        \n",
    "    return word_dict"
   ]
  },
  {
   "cell_type": "code",
   "execution_count": 14,
   "metadata": {
    "colab": {},
    "colab_type": "code",
    "id": "pk5C6h8UQ1gI"
   },
   "outputs": [],
   "source": [
    "word_dict = build_dict(train_X)"
   ]
  },
  {
   "cell_type": "markdown",
   "metadata": {
    "colab_type": "text",
    "id": "61xCh12xQ1gN"
   },
   "source": [
    "**Question:** What are the five most frequently appearing (tokenized) words in the training set? Does it makes sense that these words appear frequently in the training set?"
   ]
  },
  {
   "cell_type": "markdown",
   "metadata": {
    "colab_type": "text",
    "id": "hdt5u2MaQ1gO"
   },
   "source": [
    "**Answer:** The tokenized words are: 'movi', 'film', 'one', 'like', and 'time'. The first two and the fourth are very context related, while the other two are very common in every context so I'd say yes."
   ]
  },
  {
   "cell_type": "code",
   "execution_count": 15,
   "metadata": {
    "colab": {
     "base_uri": "https://localhost:8080/",
     "height": 55
    },
    "colab_type": "code",
    "id": "CA3TItlbQ1gP",
    "outputId": "a3a51fb1-f8ab-4c4b-f677-db313a09ff77"
   },
   "outputs": [
    {
     "name": "stdout",
     "output_type": "stream",
     "text": [
      "{'movi': 2, 'film': 3, 'one': 4, 'like': 5, 'time': 6, 'good': 7, 'make': 8, 'charact': 9, 'see': 10, 'get': 11, 'watch': 12, 'even': 13, 'stori': 14, 'would': 15, 'realli': 16, 'well': 17, 'scene': 18, 'look': 19, 'show': 20, 'much': 21, 'end': 22, 'bad': 23, 'peopl': 24, 'great': 25, 'go': 26, 'love': 27, 'also': 28, 'first': 29, 'act': 30, 'play': 31, 'think': 32, 'way': 33, 'thing': 34, 'made': 35, 'could': 36, 'know': 37, 'say': 38, 'seem': 39, 'work': 40, 'plot': 41, 'two': 42, 'actor': 43, 'mani': 44, 'seen': 45, 'come': 46, 'year': 47, 'take': 48, 'want': 49, 'life': 50, 'never': 51, 'tri': 52, 'best': 53, 'littl': 54, 'ever': 55, 'man': 56, 'better': 57, 'give': 58, 'still': 59, 'find': 60, 'perform': 61, 'part': 62, 'feel': 63, 'someth': 64, 'use': 65, 'director': 66, 'back': 67, 'actual': 68, 'lot': 69, 'interest': 70, 'real': 71, 'guy': 72, 'live': 73, 'old': 74, 'music': 75, 'though': 76, 'funni': 77, 'cast': 78, 'anoth': 79, 'enjoy': 80, 'noth': 81, '10': 82, 'role': 83, 'star': 84, 'set': 85, 'start': 86, 'new': 87, 'point': 88, 'everi': 89, 'day': 90, 'girl': 91, 'believ': 92, 'world': 93, 'turn': 94, 'thought': 95, 'origin': 96, 'direct': 97, 'kill': 98, 'quit': 99, 'action': 100, 'minut': 101, 'comedi': 102, 'us': 103, 'horror': 104, 'fact': 105, 'pretti': 106, 'effect': 107, 'happen': 108, 'long': 109, 'young': 110, 'around': 111, 'wonder': 112, 'big': 113, 'line': 114, 'right': 115, 'enough': 116, 'howev': 117, 'got': 118, 'fan': 119, 'bit': 120, 'person': 121, 'friend': 122, 'may': 123, 'seri': 124, 'must': 125, 'script': 126, 'beauti': 127, 'without': 128, 'need': 129, 'famili': 130, 'saw': 131, 'alway': 132, 'tell': 133, 'becom': 134, 'reason': 135, 'almost': 136, 'put': 137, 'final': 138, 'laugh': 139, 'done': 140, 'least': 141, 'kid': 142, 'whole': 143, 'complet': 144, 'last': 145, 'place': 146, 'sure': 147, 'far': 148, 'shot': 149, 'differ': 150, 'name': 151, 'kind': 152, 'expect': 153, 'mean': 154, 'might': 155, 'call': 156, 'sinc': 157, 'book': 158, 'let': 159, '2': 160, 'tv': 161, 'screen': 162, 'anyth': 163, 'probabl': 164, 'begin': 165, 'entertain': 166, 'yet': 167, 'run': 168, 'help': 169, 'woman': 170, 'moment': 171, 'away': 172, 'anyon': 173, 'rather': 174, 'lead': 175, 'worst': 176, 'fun': 177, 'idea': 178, 'american': 179, 'read': 180, 'hard': 181, 'audienc': 182, 'dvd': 183, 'found': 184, 'keep': 185, 'war': 186, 'appear': 187, 'hope': 188, 'bore': 189, 'although': 190, 'especi': 191, 'cours': 192, 'move': 193, 'episod': 194, 'job': 195, 'sens': 196, 'three': 197, 'goe': 198, 'sound': 199, 'everyth': 200, 'mind': 201, 'recommend': 202, 'mayb': 203, 'someon': 204, 'worth': 205, 'main': 206, 'problem': 207, 'night': 208, 'special': 209, 'everyon': 210, 'boy': 211, 'second': 212, 'nice': 213, 'human': 214, 'follow': 215, 'true': 216, 'money': 217, 'togeth': 218, 'product': 219, 'view': 220, 'leav': 221, 'excel': 222, 'face': 223, 'rate': 224, 'black': 225, 'hous': 226, 'version': 227, 'john': 228, 'wast': 229, 'talk': 230, 'high': 231, 'open': 232, 'hand': 233, 'eye': 234, 'instead': 235, 'classic': 236, 'said': 237, '1': 238, 'anim': 239, 'half': 240, 'hour': 241, 'death': 242, 'understand': 243, 'later': 244, 'care': 245, 'review': 246, 'left': 247, 'miss': 248, 'wife': 249, 'short': 250, 'die': 251, 'chang': 252, 'head': 253, 'write': 254, 'rememb': 255, 'murder': 256, 'gener': 257, 'total': 258, 'father': 259, 'piec': 260, 'top': 261, 'includ': 262, 'budget': 263, 'entir': 264, 'els': 265, 'involv': 266, 'viewer': 267, 'surpris': 268, 'simpli': 269, 'pictur': 270, 'fight': 271, 'poor': 272, 'terribl': 273, 'along': 274, 'camera': 275, 'home': 276, 'stupid': 277, 'less': 278, 'power': 279, 'coupl': 280, 'men': 281, 'produc': 282, 'fall': 283, 'releas': 284, '3': 285, 'attempt': 286, 'usual': 287, 'dead': 288, 'portray': 289, 'possibl': 290, 'word': 291, 'song': 292, 'low': 293, 'video': 294, 'absolut': 295, 'wrong': 296, 'suppos': 297, 'featur': 298, 'aw': 299, 'disappoint': 300, 'lack': 301, 'given': 302, 'full': 303, 'school': 304, 'either': 305, 'titl': 306, 'hollywood': 307, 'rest': 308, 'definit': 309, 'talent': 310, 'emot': 311, 'decid': 312, 'except': 313, 'women': 314, 'next': 315, 'style': 316, 'sex': 317, 'writer': 318, 'mr': 319, 'game': 320, 'perfect': 321, 'close': 322, 'truli': 323, 'sever': 324, 'sort': 325, 'save': 326, 'comment': 327, 'case': 328, 'art': 329, 'base': 330, 'heart': 331, 'bring': 332, 'came': 333, 'flick': 334, 'joke': 335, 'mother': 336, 'dialogu': 337, 'creat': 338, 'other': 339, 'dark': 340, 'humor': 341, 'perhap': 342, 'small': 343, 'age': 344, 'written': 345, 'meet': 346, 'brother': 347, 'stop': 348, 'experi': 349, 'often': 350, 'guess': 351, 'drama': 352, 'sequenc': 353, 'forc': 354, 'earli': 355, 'consid': 356, 'children': 357, 'cut': 358, 'light': 359, 'develop': 360, 'side': 361, 'qualiti': 362, 'cinema': 363, 'ask': 364, 'ye': 365, 'imagin': 366, 'killer': 367, 'mention': 368, 'unfortun': 369, 'car': 370, 'exampl': 371, 'went': 372, 'manag': 373, 'matter': 374, 'voic': 375, 'amaz': 376, 'lost': 377, 'oh': 378, 'actress': 379, 'horribl': 380, 'certainli': 381, 'son': 382, 'natur': 383, 'stand': 384, 'fail': 385, 'extrem': 386, 'hit': 387, 'wors': 388, 'impress': 389, 'white': 390, 'hero': 391, '4': 392, 'overal': 393, 'wait': 394, 'type': 395, 'present': 396, 'favorit': 397, 'evil': 398, 'learn': 399, 'support': 400, 'basic': 401, 'felt': 402, 'walk': 403, '5': 404, 'relationship': 405, 'throughout': 406, 'credit': 407, 'genr': 408, 'michael': 409, 'alreadi': 410, 'number': 411, 'hate': 412, 'deal': 413, 'today': 414, 'despit': 415, 'fine': 416, 'question': 417, 'town': 418, 'mysteri': 419, 'sit': 420, 'rent': 421, 'danc': 422, 'abl': 423, 'b': 424, 'success': 425, 'histori': 426, 'daughter': 427, 'twist': 428, 'sometim': 429, 'deserv': 430, 'citi': 431, 'past': 432, 'god': 433, 'situat': 434, 'late': 435, 'realiz': 436, 'score': 437, 'touch': 438, 'wish': 439, 'anyway': 440, 'group': 441, 'edit': 442, 'event': 443, 'stuff': 444, 'add': 445, 'child': 446, 'stay': 447, 'pleas': 448, 'theme': 449, 'appar': 450, 'brilliant': 451, 'hilari': 452, 'order': 453, 'behind': 454, 'level': 455, 'annoy': 456, 'chanc': 457, 'bodi': 458, 'etc': 459, 'robert': 460, 'return': 461, 'blood': 462, 'gave': 463, 'obvious': 464, 'speak': 465, 'shoot': 466, 'major': 467, 'career': 468, 'decent': 469, 'slow': 470, 'soon': 471, 'comic': 472, 'highli': 473, 'pick': 474, 'self': 475, 'figur': 476, 'pace': 477, 'incred': 478, 'took': 479, 'ridicul': 480, 'continu': 481, 'element': 482, 'import': 483, 'monster': 484, 'told': 485, 'heard': 486, 'known': 487, 'sad': 488, 'strang': 489, 'polic': 490, 'thank': 491, 'cool': 492, 'novel': 493, 'countri': 494, 'state': 495, 'dream': 496, 'critic': 497, 'pain': 498, 'suspens': 499, 'clich': 500, 'cop': 501, 'realiti': 502, 'husband': 503, 'david': 504, 'sister': 505, 'strong': 506, 'effort': 507, 'crap': 508, 'compar': 509, 'jame': 510, 'happi': 511, 'break': 512, 'violenc': 513, 'provid': 514, 'result': 515, 'offer': 516, 'gore': 517, 'cannot': 518, 'caus': 519, 'visual': 520, 'serious': 521, 'zombi': 522, 'recent': 523, 'documentari': 524, 'thriller': 525, 'ok': 526, 'opinion': 527, 'ladi': 528, 'predict': 529, 'room': 530, 'huge': 531, 'femal': 532, 'sequel': 533, 'seriou': 534, 'explain': 535, 'obviou': 536, 'subject': 537, 'shown': 538, 'hell': 539, 'simpl': 540, 'exist': 541, 'ago': 542, 'deliv': 543, 'particularli': 544, 'hold': 545, 'rock': 546, 'buy': 547, 'convinc': 548, 'allow': 549, 'alon': 550, 'check': 551, 'across': 552, 'theater': 553, 'local': 554, 'taken': 555, 'hear': 556, 'valu': 557, 'confus': 558, 'english': 559, 'dog': 560, 'note': 561, 'none': 562, 'shock': 563, 'class': 564, 'exactli': 565, 'dialog': 566, 'avoid': 567, 'sexual': 568, 'silli': 569, 'offic': 570, 'four': 571, 'scari': 572, 'spoiler': 573, 'jack': 574, 'cover': 575, 'form': 576, 'apart': 577, 'polit': 578, 'cinematographi': 579, 'similar': 580, 'whose': 581, 'build': 582, 'team': 583, 'middl': 584, 'filmmak': 585, 'mostli': 586, 'attent': 587, 'messag': 588, 'pull': 589, 'unlik': 590, 'singl': 591, 'excit': 592, 'parent': 593, 'street': 594, '80': 595, 'villain': 596, 'member': 597, 'televis': 598, 'escap': 599, 'modern': 600, 'drug': 601, 'due': 602, 'pay': 603, 'train': 604, 'tale': 605, 'win': 606, 'gun': 607, 'fill': 608, 'knew': 609, 'king': 610, 'william': 611, 'crime': 612, 'pass': 613, 'somewhat': 614, 'space': 615, 'typic': 616, 'season': 617, 'respect': 618, 'upon': 619, 'sing': 620, 'prove': 621, 'charm': 622, 'remind': 623, 'carri': 624, 'ten': 625, 'oscar': 626, 'western': 627, 'toward': 628, 'imag': 629, 'doubt': 630, 'stage': 631, 'air': 632, '7': 633, 'soundtrack': 634, 'detail': 635, 'artist': 636, 'beyond': 637, 'fire': 638, 'cheap': 639, 'non': 640, 'five': 641, 'alien': 642, 'british': 643, 'straight': 644, 'richard': 645, 'earth': 646, 'drive': 647, 'remain': 648, 'fit': 649, 'georg': 650, 'clearli': 651, 'clear': 652, 'realist': 653, 'posit': 654, 'romant': 655, 'discov': 656, 'date': 657, 'plan': 658, 'intellig': 659, 'atmospher': 660, 'attack': 661, 'marri': 662, 'weak': 663, 'forget': 664, 'appreci': 665, 'teenag': 666, 'within': 667, '8': 668, 'mark': 669, 'adapt': 670, 'aspect': 671, 'futur': 672, 'water': 673, 'bunch': 674, 'soldier': 675, 'notic': 676, 'suck': 677, 'easili': 678, 'captur': 679, 'french': 680, 'locat': 681, 'chase': 682, 'dull': 683, 'near': 684, 'box': 685, 'master': 686, 'list': 687, 'whether': 688, 'certain': 689, 'inspir': 690, 'peter': 691, 'period': 692, 'fantast': 693, 'ad': 694, 'storylin': 695, 'fast': 696, 'easi': 697, 'materi': 698, 'agre': 699, 'spend': 700, 'eventu': 701, 'paul': 702, 'doctor': 703, 'standard': 704, 'vampir': 705, 'suffer': 706, 'adult': 707, 'truth': 708, 'greatest': 709, 'victim': 710, 'among': 711, 'e': 712, 'bill': 713, 'gone': 714, 'busi': 715, 'cultur': 716, 'color': 717, 'battl': 718, 'accept': 719, 'lose': 720, 'wit': 721, 'sorri': 722, 'contain': 723, 'nearli': 724, 'copi': 725, 'dramat': 726, 'student': 727, 'kept': 728, '9': 729, 'island': 730, 'issu': 731, 'suggest': 732, 'troubl': 733, 'finish': 734, 'throw': 735, 'larg': 736, 'mess': 737, '20': 738, 'red': 739, 'adventur': 740, 'cartoon': 741, 'normal': 742, 'gay': 743, 'brought': 744, 'masterpiec': 745, 'tom': 746, 'match': 747, 'dr': 748, 'mix': 749, 'shame': 750, 'somehow': 751, 'refer': 752, 'famou': 753, 'okay': 754, 'york': 755, 'relat': 756, 'averag': 757, 'prison': 758, 'reveal': 759, 'premis': 760, 'ultim': 761, 'cri': 762, 'imdb': 763, 'male': 764, 'german': 765, 'america': 766, 'third': 767, 'memor': 768, 'babi': 769, 'describ': 770, 'parti': 771, 'fear': 772, 'de': 773, 'bother': 774, 'societi': 775, 'romanc': 776, 'spirit': 777, 'rare': 778, 'free': 779, 'fli': 780, 'background': 781, 'attract': 782, 'project': 783, 'hot': 784, 'deep': 785, 'lie': 786, 'treat': 787, 'girlfriend': 788, 'poorli': 789, 'control': 790, 'scare': 791, 'warn': 792, 'crew': 793, 'particular': 794, 'fi': 795, 'week': 796, 'weird': 797, 'lee': 798, 'pure': 799, 'lame': 800, 'sci': 801, 'odd': 802, 'mad': 803, 'forward': 804, 'depict': 805, 'appeal': 806, 'express': 807, 'fiction': 808, 'admit': 809, 'wood': 810, 'secret': 811, 'costum': 812, 'whatev': 813, 'cheesi': 814, 'footag': 815, 'choic': 816, 'becam': 817, 'lover': 818, '70': 819, 'surviv': 820, 'flaw': 821, 'struggl': 822, 'studio': 823, 'outsid': 824, 'inde': 825, 'screenplay': 826, 'accent': 827, '30': 828, 'unless': 829, 'crazi': 830, 'joe': 831, 'wear': 832, 'difficult': 833, 'award': 834, 'amus': 835, 'magic': 836, 'disney': 837, 'badli': 838, 'japanes': 839, 'harri': 840, 'land': 841, 'insid': 842, 'rich': 843, 'otherwis': 844, 'eat': 845, 'superb': 846, 'design': 847, 'potenti': 848, 'dumb': 849, 'stereotyp': 850, 'plu': 851, 'perfectli': 852, 'jump': 853, 'grow': 854, 'plenti': 855, 'fantasi': 856, 'previou': 857, 'quickli': 858, 'moral': 859, 'bare': 860, 'public': 861, 'ride': 862, 'dress': 863, 'popular': 864, 'mari': 865, 'front': 866, 'hair': 867, 'connect': 868, 'band': 869, 'execut': 870, 'uniqu': 871, 'roll': 872, 'remak': 873, 'maker': 874, 'travel': 875, 'scream': 876, 'compani': 877, 'listen': 878, 'disturb': 879, 'creepi': 880, 'stick': 881, 'channel': 882, 'serv': 883, 'answer': 884, 'brain': 885, 'concept': 886, 'steal': 887, 'catch': 888, 'co': 889, 'cat': 890, 'older': 891, 'beat': 892, 'law': 893, 'store': 894, 'combin': 895, 'track': 896, 'term': 897, 'earlier': 898, 'equal': 899, 'inform': 900, 'amount': 901, 'promis': 902, 'innoc': 903, 'teen': 904, 'c': 905, 'post': 906, 'fairli': 907, 'memori': 908, 'kick': 909, 'centuri': 910, 'social': 911, 'era': 912, 'variou': 913, 'clever': 914, '90': 915, 'ghost': 916, 'italian': 917, 'destroy': 918, 'la': 919, 'record': 920, 'meant': 921, 'danger': 922, 'blue': 923, 'histor': 924, 'plain': 925, 'cute': 926, '50': 927, 'intent': 928, 'mistak': 929, 'rip': 930, 'creatur': 931, 'univers': 932, 'intens': 933, 'collect': 934, 'door': 935, 'respons': 936, 'tast': 937, 'depth': 938, 'step': 939, 'abil': 940, 'ignor': 941, 'soul': 942, 'hardli': 943, 'sweet': 944, 'desper': 945, 'suit': 946, 'nuditi': 947, 'limit': 948, 'camp': 949, 'hole': 950, 'caught': 951, 'flat': 952, 'spent': 953, 'familiar': 954, 'concern': 955, 'wrote': 956, 'introduc': 957, 'player': 958, 'van': 959, 'pop': 960, 'violent': 961, 'claim': 962, 'cross': 963, 'park': 964, 'achiev': 965, 'cold': 966, 'languag': 967, 'extra': 968, 'judg': 969, 'tension': 970, 'engag': 971, 'commun': 972, 'sadli': 973, 'arriv': 974, 'fake': 975, 'share': 976, 'search': 977, 'spot': 978, 'purpos': 979, 'sleep': 980, 'detect': 981, 'tone': 982, 'gang': 983, 'sick': 984, 'manner': 985, 'liter': 986, 'receiv': 987, 'complex': 988, 'tortur': 989, 'trip': 990, 'race': 991, '6': 992, 'ship': 993, 'trash': 994, 'hurt': 995, 'physic': 996, 'nation': 997, 'slightli': 998, 'common': 999, 'fascin': 1000, 'reach': 1001, 'ann': 1002, 'approach': 1003, 'scott': 1004, 'drop': 1005, 'scienc': 1006, 'christma': 1007, 'immedi': 1008, 'ruin': 1009, 'angel': 1010, 'neither': 1011, 'indian': 1012, 'yeah': 1013, 'unbeliev': 1014, 'remark': 1015, 'count': 1016, 'road': 1017, 'jane': 1018, 'anti': 1019, 'biggest': 1020, 'ben': 1021, 'former': 1022, 'younger': 1023, 'skill': 1024, 'million': 1025, 'slasher': 1026, 'fair': 1027, 'drag': 1028, 'suddenli': 1029, 'mental': 1030, 'bizarr': 1031, 'commit': 1032, 'edg': 1033, 'suspect': 1034, 'conclus': 1035, 'genuin': 1036, 'pathet': 1037, 'intrigu': 1038, 'aliv': 1039, 'rape': 1040, 'bond': 1041, '15': 1042, 'delight': 1043, 'paint': 1044, 'mere': 1045, 'colleg': 1046, 'consist': 1047, 'fashion': 1048, 'pointless': 1049, 'imposs': 1050, 'handl': 1051, 'crimin': 1052, 'tear': 1053, 'faith': 1054, 'rais': 1055, 'f': 1056, 'intend': 1057, 'ring': 1058, 'u': 1059, 'visit': 1060, 'agent': 1061, 'bar': 1062, 'garbag': 1063, 'comput': 1064, 'reveng': 1065, 'minor': 1066, 'laughabl': 1067, 'christian': 1068, 'mood': 1069, 'asid': 1070, 'key': 1071, 'govern': 1072, 'regard': 1073, 'rule': 1074, 'wild': 1075, 'charl': 1076, 'burn': 1077, 'focu': 1078, 'demon': 1079, 'awesom': 1080, 'longer': 1081, 'armi': 1082, 'humour': 1083, 'excus': 1084, 'haunt': 1085, 'tire': 1086, 'bed': 1087, 'opera': 1088, 'ex': 1089, 'idiot': 1090, 'exploit': 1091, 'solid': 1092, '100': 1093, 'passion': 1094, 'besid': 1095, 'cloth': 1096, 'motion': 1097, 'giant': 1098, 'g': 1099, 'folk': 1100, 'sign': 1101, 'grade': 1102, 'author': 1103, 'dad': 1104, 'occasion': 1105, 'interview': 1106, 'depress': 1107, 'bought': 1108, 'embarrass': 1109, 'scientist': 1110, 'super': 1111, 'machin': 1112, 'nobodi': 1113, 'charli': 1114, 'enter': 1115, 'technic': 1116, 'arm': 1117, 'obsess': 1118, 'motiv': 1119, 'toni': 1120, 'brutal': 1121, 'avail': 1122, 'somewher': 1123, 'creativ': 1124, 'geniu': 1125, 'honest': 1126, 'mouth': 1127, 'blow': 1128, 'tough': 1129, 'wall': 1130, 'sexi': 1131, 'investig': 1132, 'south': 1133, 'surprisingli': 1134, 'sam': 1135, 'decad': 1136, 'journey': 1137, 'hang': 1138, 'honestli': 1139, 'cult': 1140, 'festiv': 1141, 'ed': 1142, 'stun': 1143, 'tradit': 1144, 'bottom': 1145, 'nowher': 1146, 'focus': 1147, 'cost': 1148, 'repeat': 1149, 'nake': 1150, 'club': 1151, 'chemistri': 1152, 'compel': 1153, 'green': 1154, 'explor': 1155, 'heavi': 1156, 'loos': 1157, 'planet': 1158, 'opportun': 1159, 'frank': 1160, 'west': 1161, 'wind': 1162, 'boyfriend': 1163, 'frame': 1164, 'addit': 1165, 'affect': 1166, 'glad': 1167, 'ground': 1168, 'militari': 1169, 'narr': 1170, 'cinemat': 1171, 'affair': 1172, 'flashback': 1173, 'draw': 1174, 'area': 1175, 'boss': 1176, 'redeem': 1177, 'ray': 1178, 'damn': 1179, 'center': 1180, 'dub': 1181, 'bomb': 1182, 'l': 1183, 'jim': 1184, 'desir': 1185, 'jone': 1186, 'steve': 1187, 'plane': 1188, 'hors': 1189, 'admir': 1190, 'send': 1191, 'display': 1192, 'sceneri': 1193, 'thrill': 1194, 'report': 1195, 'trailer': 1196, 'smile': 1197, 'studi': 1198, 'graphic': 1199, 'subtl': 1200, 'profession': 1201, 'everybodi': 1202, 'gag': 1203, 'terrif': 1204, '60': 1205, 'seek': 1206, 'london': 1207, 'grace': 1208, 'russian': 1209, 'challeng': 1210, 'requir': 1211, 'presenc': 1212, 'silent': 1213, 'insult': 1214, 'smart': 1215, 'month': 1216, 'climax': 1217, 'j': 1218, 'gem': 1219, 'hey': 1220, 'doubl': 1221, 'content': 1222, 'practic': 1223, 'billi': 1224, 'loud': 1225, 'wow': 1226, 'thrown': 1227, 'martin': 1228, 'desert': 1229, 'industri': 1230, 'evid': 1231, 'sell': 1232, 'surround': 1233, 'conflict': 1234, 'constantli': 1235, 'vote': 1236, 'push': 1237, 'r': 1238, 'fulli': 1239, 'chri': 1240, '40': 1241, 'narrat': 1242, 'satisfi': 1243, 'commerci': 1244, 'drink': 1245, 'stone': 1246, 'rel': 1247, 'iron': 1248, 'crash': 1249, 'news': 1250, 'photographi': 1251, 'phone': 1252, 'davi': 1253, 'slowli': 1254, 'brief': 1255, 'individu': 1256, 'initi': 1257, 'bruce': 1258, 'hospit': 1259, 'trap': 1260, 'batman': 1261, 'thu': 1262, 'hide': 1263, 'radio': 1264, 'sent': 1265, 'encount': 1266, 'assum': 1267, 'lesson': 1268, 'sub': 1269, 'tape': 1270, 'wise': 1271, 'protagonist': 1272, 'summer': 1273, 'utterli': 1274, 'ill': 1275, 'p': 1276, 'jean': 1277, 'random': 1278, 'grant': 1279, 'hunt': 1280, 'essenti': 1281, 'model': 1282, 'hire': 1283, 'system': 1284, 'smith': 1285, 'teacher': 1286, 'bear': 1287, 'central': 1288, 'spoil': 1289, 'station': 1290, 'outstand': 1291, 'angl': 1292, 'drawn': 1293, 'worthi': 1294, 'will': 1295, 'queen': 1296, 'marriag': 1297, 'shop': 1298, 'buddi': 1299, 'justic': 1300, 'prepar': 1301, 'blame': 1302, 'christoph': 1303, 'rise': 1304, 'wide': 1305, 'mediocr': 1306, 'pleasur': 1307, 'pari': 1308, 'choos': 1309, 'psycholog': 1310, 'forev': 1311, 'discuss': 1312, 'mom': 1313, 'dollar': 1314, 'pack': 1315, 'occur': 1316, 'field': 1317, 'neg': 1318, 'trust': 1319, 'insan': 1320, 'born': 1321, 'serial': 1322, 'reaction': 1323, 'logic': 1324, 'reflect': 1325, 'current': 1326, 'page': 1327, 'mainli': 1328, 'six': 1329, 'resembl': 1330, 'captain': 1331, 'fresh': 1332, 'theatr': 1333, 'kelli': 1334, 'favourit': 1335, 'tie': 1336, 'intern': 1337, 'tragic': 1338, 'sea': 1339, 'join': 1340, 'round': 1341, 'nomin': 1342, 'ahead': 1343, 'repres': 1344, 'stewart': 1345, 'symbol': 1346, 'abus': 1347, 'board': 1348, 'decis': 1349, 'vs': 1350, 'noir': 1351, 'ugli': 1352, 'accur': 1353, 'epic': 1354, 'commentari': 1355, 'prefer': 1356, 'supposedli': 1357, 'suicid': 1358, 'heroin': 1359, 'adam': 1360, 'absurd': 1361, 'fell': 1362, 'fellow': 1363, 'convers': 1364, 'hotel': 1365, 'mile': 1366, 'shine': 1367, 'independ': 1368, 'process': 1369, 'ii': 1370, 'sport': 1371, 'held': 1372, 'unit': 1373, 'ball': 1374, 'photograph': 1375, 'skip': 1376, 'porn': 1377, 'church': 1378, 'impact': 1379, 'object': 1380, 'dirti': 1381, 'strike': 1382, 'gangster': 1383, 'fool': 1384, 'dread': 1385, 'length': 1386, 'improv': 1387, 'mine': 1388, 'disgust': 1389, 'clean': 1390, 'singer': 1391, 'highlight': 1392, 'twenti': 1393, 'program': 1394, 'pair': 1395, 'gorgeou': 1396, 'brown': 1397, 'nightmar': 1398, 'superior': 1399, 'steven': 1400, 'likabl': 1401, 'pilot': 1402, 'hunter': 1403, 'ms': 1404, 'cameo': 1405, 'accid': 1406, 'vision': 1407, 'seemingli': 1408, 'terror': 1409, 'sight': 1410, 'anymor': 1411, 'influenc': 1412, 'latter': 1413, 'unusu': 1414, 'disast': 1415, 'fox': 1416, 'jackson': 1417, 'quick': 1418, 'warm': 1419, 'fortun': 1420, 'establish': 1421, 'readi': 1422, 'tragedi': 1423, 'satir': 1424, 'ryan': 1425, 'mask': 1426, 'partner': 1427, 'nonsens': 1428, 'nasti': 1429, 'forgotten': 1430, 'hitchcock': 1431, 'irrit': 1432, 'celebr': 1433, 'therefor': 1434, 'twice': 1435, 'rescu': 1436, 'recogn': 1437, 'blond': 1438, 'rang': 1439, 'remot': 1440, 'led': 1441, 'worri': 1442, 'funniest': 1443, 'seven': 1444, 'attitud': 1445, 'joy': 1446, 'disappear': 1447, 'tend': 1448, 'ident': 1449, 'paid': 1450, 'enemi': 1451, 'youth': 1452, 'witch': 1453, 'clue': 1454, 'n': 1455, 'market': 1456, 'opposit': 1457, 'replac': 1458, 'tune': 1459, 'energi': 1460, 'roger': 1461, 'hill': 1462, 'rob': 1463, 'henri': 1464, 'kevin': 1465, 'weapon': 1466, 'invent': 1467, 'price': 1468, 'stuck': 1469, 'segment': 1470, 'progress': 1471, 'fault': 1472, 'lord': 1473, 'robot': 1474, 'parodi': 1475, 'stephen': 1476, 'refus': 1477, 'leader': 1478, '000': 1479, 'food': 1480, 'crowd': 1481, 'window': 1482, 'possess': 1483, 'thin': 1484, 'comparison': 1485, 'rush': 1486, 'awar': 1487, 'formula': 1488, 'x': 1489, 'that': 1490, 'teach': 1491, 'onto': 1492, 'wooden': 1493, 'explan': 1494, 'danni': 1495, 'kiss': 1496, 'test': 1497, 'afraid': 1498, 'zero': 1499, 'angri': 1500, 'childhood': 1501, 'villag': 1502, 'moon': 1503, 'boat': 1504, '11': 1505, 'owner': 1506, 'jerri': 1507, 'tim': 1508, 'friendship': 1509, 'religi': 1510, 'favor': 1511, 'thoma': 1512, 'cgi': 1513, 'seat': 1514, 'insight': 1515, 'whatsoev': 1516, 'johnni': 1517, 'grand': 1518, 'mission': 1519, 'credibl': 1520, 'craft': 1521, 'protect': 1522, 'river': 1523, 'stock': 1524, 'piti': 1525, 'al': 1526, 'stunt': 1527, 'thousand': 1528, 'transform': 1529, 'frustrat': 1530, 'assist': 1531, 'jason': 1532, 'shakespear': 1533, '12': 1534, 'martial': 1535, 'lock': 1536, 'gold': 1537, 'failur': 1538, 'lone': 1539, 'began': 1540, 'movement': 1541, 'floor': 1542, 'presid': 1543, 'ass': 1544, 'heaven': 1545, 'convey': 1546, 'juli': 1547, 'watchabl': 1548, 'eddi': 1549, 'thoroughli': 1550, 'chick': 1551, 'nazi': 1552, 'shadow': 1553, 'dare': 1554, 'anybodi': 1555, 'behavior': 1556, 'hidden': 1557, 'ford': 1558, 'blind': 1559, 'magnific': 1560, 'explos': 1561, 'arthur': 1562, 'franc': 1563, 'load': 1564, 'separ': 1565, 'necessari': 1566, 'legend': 1567, 'mountain': 1568, '1950': 1569, 'chines': 1570, 'hint': 1571, 'trick': 1572, 'patient': 1573, 'target': 1574, 'up': 1575, 'demand': 1576, 'instanc': 1577, 'mike': 1578, 'european': 1579, 'bloodi': 1580, 'servic': 1581, 'fate': 1582, 'strength': 1583, 'command': 1584, '1980': 1585, 'charg': 1586, 'marvel': 1587, 'nativ': 1588, 'regular': 1589, 'smoke': 1590, 'hook': 1591, 'utter': 1592, 'jr': 1593, 'hundr': 1594, 'soap': 1595, '1970': 1596, 'unknown': 1597, 'fat': 1598, 'vh': 1599, 'taylor': 1600, 'bank': 1601, 'techniqu': 1602, 'dozen': 1603, 'deepli': 1604, 'knowledg': 1605, 'fame': 1606, 'w': 1607, 'soft': 1608, 'foreign': 1609, 'flesh': 1610, 'mid': 1611, 'interpret': 1612, 'pre': 1613, 'wayn': 1614, 'flow': 1615, 'moor': 1616, 'freak': 1617, 'aim': 1618, 'virtual': 1619, 'notabl': 1620, 'bob': 1621, 'compet': 1622, 'prais': 1623, 'account': 1624, 'correct': 1625, 'contrast': 1626, 'translat': 1627, 'ice': 1628, 'anywher': 1629, 'statu': 1630, 'appropri': 1631, 'brian': 1632, 'snake': 1633, 'allen': 1634, 'cabl': 1635, 'accord': 1636, 'uncl': 1637, 'punch': 1638, 'paper': 1639, 'oper': 1640, 'ordinari': 1641, 'core': 1642, 'interact': 1643, 'priest': 1644, 'civil': 1645, 'whilst': 1646, 'breath': 1647, 'andi': 1648, 'research': 1649, 'depart': 1650, 'addict': 1651, 'privat': 1652, 'comed': 1653, 'recal': 1654, 'activ': 1655, 'kidnap': 1656, 'somebodi': 1657, 'observ': 1658, 'sat': 1659, 'empti': 1660, 'bland': 1661, 'devil': 1662, 'tree': 1663, 'met': 1664, 'pretend': 1665, 'jennif': 1666, 'stranger': 1667, 'confront': 1668, 'betti': 1669, 'distract': 1670, 'belong': 1671, 'determin': 1672, 'loss': 1673, 'alan': 1674, 'fish': 1675, 'sum': 1676, 'site': 1677, 'drunk': 1678, 'factor': 1679, 'morn': 1680, 'subtitl': 1681, 'root': 1682, 'perspect': 1683, 'andrew': 1684, 'belief': 1685, 'debut': 1686, 'gari': 1687, 'curs': 1688, 'guard': 1689, 'convent': 1690, 'speed': 1691, 'succeed': 1692, 'constant': 1693, 'buck': 1694, 'sentiment': 1695, 'crappi': 1696, 'bug': 1697, 'sean': 1698, 'leg': 1699, 'rank': 1700, 'howard': 1701, 'quiet': 1702, 'contriv': 1703, 'chill': 1704, 'sourc': 1705, 'realism': 1706, 'flash': 1707, 'print': 1708, 'assassin': 1709, 'k': 1710, 'speech': 1711, 'broken': 1712, 'lesbian': 1713, 'threaten': 1714, 'associ': 1715, 'robin': 1716, 'numer': 1717, 'quot': 1718, 'castl': 1719, 'cheat': 1720, 'spanish': 1721, 'jeff': 1722, 'surreal': 1723, 'rubbish': 1724, 'knock': 1725, 'veteran': 1726, 'beach': 1727, 'hall': 1728, 'altern': 1729, 'driver': 1730, 'revolv': 1731, 'v': 1732, 'wave': 1733, 'academi': 1734, 'educ': 1735, 'unnecessari': 1736, 'manipul': 1737, 'bright': 1738, 'edward': 1739, 'complic': 1740, 'witti': 1741, 'daniel': 1742, 'realis': 1743, 'hat': 1744, 'spoof': 1745, 'nick': 1746, 'contribut': 1747, 'lewi': 1748, 'guest': 1749, 'jimmi': 1750, 'clip': 1751, 'matt': 1752, 'wound': 1753, 'lynch': 1754, 'nurs': 1755, 'le': 1756, 'cash': 1757, 'shallow': 1758, 'specif': 1759, 'media': 1760, 'routin': 1761, 'peac': 1762, 'feet': 1763, 'complain': 1764, 'technolog': 1765, 'max': 1766, 'frighten': 1767, 'network': 1768, 'unrealist': 1769, 'grave': 1770, 'wed': 1771, 'safe': 1772, 'experienc': 1773, 'texa': 1774, 'england': 1775, 'skin': 1776, 'dimension': 1777, 'dougla': 1778, 'dislik': 1779, 'kinda': 1780, 'unfold': 1781, 'corrupt': 1782, 'intellectu': 1783, 'pile': 1784, 'meanwhil': 1785, '13': 1786, 'theatric': 1787, 'advanc': 1788, 'luck': 1789, 'sheriff': 1790, 'bigger': 1791, 'whenev': 1792, 'vehicl': 1793, 'anthoni': 1794, 'structur': 1795, 'gotten': 1796, 'stretch': 1797, 'glass': 1798, 'candi': 1799, 'golden': 1800, 'capabl': 1801, 'aid': 1802, 'letter': 1803, 'grip': 1804, 'advic': 1805, 'construct': 1806, 'lucki': 1807, 'rain': 1808, 'balanc': 1809, 'reli': 1810, 'offens': 1811, 'europ': 1812, 'context': 1813, 'domin': 1814, 'forgiv': 1815, 'joan': 1816, 'accomplish': 1817, 'unabl': 1818, 'freedom': 1819, 'frankli': 1820, 'bridg': 1821, 'circumst': 1822, 'attend': 1823, 'werewolf': 1824, 'awkward': 1825, 'wake': 1826, 'gain': 1827, 'abandon': 1828, 'crack': 1829, 'tini': 1830, 'dan': 1831, 'higher': 1832, 'japan': 1833, 'seagal': 1834, 'defin': 1835, 'comfort': 1836, 'gori': 1837, 'condit': 1838, 'path': 1839, 'chan': 1840, 'sheer': 1841, 'wander': 1842, 'toy': 1843, 'winner': 1844, 'finest': 1845, 'worker': 1846, 'spectacular': 1847, 'eric': 1848, 'organ': 1849, 'compos': 1850, 'tabl': 1851, 'cheer': 1852, 'puppet': 1853, 'truck': 1854, 'keaton': 1855, 'unfunni': 1856, 'sympathet': 1857, 'consider': 1858, 'comedian': 1859, 'depend': 1860, 'categori': 1861, 'driven': 1862, 'jungl': 1863, 'rose': 1864, 'invit': 1865, 'shape': 1866, 'regret': 1867, 'welcom': 1868, 'brook': 1869, 'honor': 1870, 'corni': 1871, 'cage': 1872, 'signific': 1873, 'bet': 1874, 'dick': 1875, 'section': 1876, 'relief': 1877, 'pretenti': 1878, 'topic': 1879, 'grown': 1880, 'frequent': 1881, 'brilliantli': 1882, 'grab': 1883, 'african': 1884, 'princ': 1885, 'cell': 1886, 'trek': 1887, 'remov': 1888, 'promot': 1889, 'blockbust': 1890, 'matur': 1891, 'gross': 1892, 'demonstr': 1893, 'anna': 1894, 'willi': 1895, 'foot': 1896, 'card': 1897, 'australian': 1898, 'sky': 1899, 'par': 1900, 'sole': 1901, 'statement': 1902, 'treatment': 1903, 'lower': 1904, 'sensit': 1905, 'heck': 1906, 'laughter': 1907, 'unintent': 1908, 'consequ': 1909, 'ran': 1910, 'risk': 1911, 'convict': 1912, 'rental': 1913, 'walter': 1914, 'built': 1915, 'accident': 1916, 'degre': 1917, 'earn': 1918, 'h': 1919, 'switch': 1920, 'monkey': 1921, 'scale': 1922, 'dri': 1923, 'host': 1924, 'wing': 1925, 'endless': 1926, 'overli': 1927, 'sake': 1928, 'screenwrit': 1929, 'indic': 1930, 'solv': 1931, 'surfac': 1932, 'secur': 1933, 'theori': 1934, 'captiv': 1935, 'spi': 1936, 'menac': 1937, 'alic': 1938, 'barbara': 1939, 'asian': 1940, 'handsom': 1941, 'religion': 1942, 'cant': 1943, 'bullet': 1944, 'colour': 1945, 'liner': 1946, 'psycho': 1947, 'revel': 1948, 'fu': 1949, 'grew': 1950, 'miser': 1951, 'footbal': 1952, 'scenario': 1953, 'michel': 1954, 'entri': 1955, 'bone': 1956, 'germani': 1957, 'sudden': 1958, 'fred': 1959, 'gordon': 1960, 'professor': 1961, 'hitler': 1962, 'neighbor': 1963, 'dude': 1964, 'tediou': 1965, 'com': 1966, 'unexpect': 1967, '0': 1968, '25': 1969, 'simon': 1970, 'devic': 1971, 'north': 1972, 'bird': 1973, 'sharp': 1974, 'code': 1975, 'contemporari': 1976, 'accompani': 1977, 'gratuit': 1978, 'cook': 1979, 'advertis': 1980, 'gift': 1981, 'cynic': 1982, 'mirror': 1983, 'holm': 1984, 'underr': 1985, 'amateur': 1986, 'strongli': 1987, 'provok': 1988, 'halloween': 1989, 'mass': 1990, 'gonna': 1991, 'purchas': 1992, 'jesu': 1993, 'identifi': 1994, 'controversi': 1995, 'citizen': 1996, 'massiv': 1997, 'patrick': 1998, 'mini': 1999, 'canadian': 2000, 'anderson': 2001, 'guid': 2002, 'lane': 2003, 'ador': 2004, 'turkey': 2005, 'ancient': 2006, 'chief': 2007, 'reput': 2008, 'authent': 2009, 'finger': 2010, 'treasur': 2011, 'denni': 2012, 'emerg': 2013, 'curiou': 2014, 'stare': 2015, 'stumbl': 2016, 'string': 2017, 'eight': 2018, 'imit': 2019, 'gut': 2020, 'chaplin': 2021, 'gene': 2022, 'kong': 2023, 'doll': 2024, 'prostitut': 2025, 'ear': 2026, 'dancer': 2027, 'destruct': 2028, 'ideal': 2029, 'morgan': 2030, 'loui': 2031, 'expos': 2032, 'bbc': 2033, 'amateurish': 2034, 'outrag': 2035, 'lousi': 2036, 'ted': 2037, 'southern': 2038, 'overlook': 2039, 'environ': 2040, 'landscap': 2041, 'corps': 2042, 'previous': 2043, 'jacki': 2044, 'character': 2045, 'substanc': 2046, 'alex': 2047, 'proper': 2048, 'prime': 2049, 'indi': 2050, 'notch': 2051, 'massacr': 2052, 'clark': 2053, 'sympathi': 2054, 'maintain': 2055, 'larri': 2056, 'predat': 2057, 'cowboy': 2058, 'justifi': 2059, 'chosen': 2060, 'fare': 2061, 'jail': 2062, 'subplot': 2063, 'freddi': 2064, 'inevit': 2065, 'guilti': 2066, 'mexican': 2067, 'nevertheless': 2068, 'harsh': 2069, 'sitcom': 2070, 'lo': 2071, 'trial': 2072, 'washington': 2073, 'chose': 2074, 'lawyer': 2075, 'kate': 2076, 'loser': 2077, 'rival': 2078, 'refresh': 2079, 'descript': 2080, 'nois': 2081, 'reject': 2082, 'strip': 2083, 'resid': 2084, 'shake': 2085, 'alcohol': 2086, 'endur': 2087, 'irish': 2088, 'merit': 2089, 'friday': 2090, 'sun': 2091, 'saturday': 2092, 'creator': 2093, 'tight': 2094, 'lake': 2095, 'albert': 2096, 'jewish': 2097, 'wrap': 2098, 'pleasant': 2099, 'semi': 2100, 'cousin': 2101, 'bell': 2102, 'gritti': 2103, 'propaganda': 2104, 'cooper': 2105, 'toler': 2106, 'terrorist': 2107, 'task': 2108, 'sentenc': 2109, 'varieti': 2110, 'poster': 2111, 'borrow': 2112, 'tarzan': 2113, 'prevent': 2114, 'contact': 2115, 'slapstick': 2116, 'vagu': 2117, 'arrest': 2118, 'sincer': 2119, 'complaint': 2120, 'wilson': 2121, 'lift': 2122, 'advis': 2123, 'fatal': 2124, 'till': 2125, 'broadway': 2126, 'murphi': 2127, 'size': 2128, 'russel': 2129, 'jerk': 2130, 'kung': 2131, 'vietnam': 2132, 'sir': 2133, 'nail': 2134, 'con': 2135, 'accus': 2136, 'bu': 2137, 'incid': 2138, 'punish': 2139, 'exact': 2140, 'rough': 2141, 'johnson': 2142, 'argu': 2143, 'east': 2144, 'superman': 2145, 'bag': 2146, 'melodrama': 2147, 'anger': 2148, 'defeat': 2149, 'junk': 2150, 'hood': 2151, 'sword': 2152, 'expert': 2153, 'trilog': 2154, 'dig': 2155, 'mate': 2156, 'ninja': 2157, 'spell': 2158, 'pitch': 2159, 'liber': 2160, 'supernatur': 2161, 'leagu': 2162, 'twin': 2163, 'latest': 2164, 'doom': 2165, 'satan': 2166, 'chain': 2167, 'quirki': 2168, 'court': 2169, 'wolf': 2170, 'dragon': 2171, 'shut': 2172, 'yell': 2173, 'san': 2174, 'makeup': 2175, 'moron': 2176, 'pose': 2177, 'upset': 2178, '1930': 2179, 'ape': 2180, 'cain': 2181, 'forest': 2182, 'select': 2183, 'bat': 2184, 'vacat': 2185, 'slap': 2186, 'worthwhil': 2187, 'employ': 2188, 'deadli': 2189, 'bite': 2190, '1960': 2191, 'beast': 2192, 'offend': 2193, 'amazingli': 2194, 'deni': 2195, 'princess': 2196, 'betray': 2197, 'weekend': 2198, 'oliv': 2199, 'fals': 2200, 'campi': 2201, 'wash': 2202, 'donald': 2203, 'concert': 2204, 'shoe': 2205, 'naiv': 2206, 'expens': 2207, 'excess': 2208, 'asleep': 2209, 'retard': 2210, 'afterward': 2211, 'closer': 2212, 'link': 2213, 'aka': 2214, 'fulci': 2215, 'proud': 2216, 'exagger': 2217, 'blend': 2218, 'tour': 2219, 'thirti': 2220, 'urban': 2221, 'presum': 2222, 'joseph': 2223, 'concentr': 2224, 'forgett': 2225, 'barri': 2226, 'erot': 2227, 'teeth': 2228, 'silver': 2229, 'spite': 2230, 'medic': 2231, 'nose': 2232, 'goal': 2233, 'warner': 2234, 'legendari': 2235, 'confess': 2236, 'bound': 2237, 'glimps': 2238, 'cruel': 2239, 'directli': 2240, 'drew': 2241, 'hank': 2242, 'plant': 2243, 'flight': 2244, 'uk': 2245, 'elizabeth': 2246, 'whoever': 2247, 'virgin': 2248, 'inner': 2249, 'blown': 2250, 'examin': 2251, 'press': 2252, 'courag': 2253, 'obnoxi': 2254, 'parker': 2255, 'winter': 2256, 'miller': 2257, 'china': 2258, 'eastwood': 2259, 'everyday': 2260, 'relev': 2261, 'roy': 2262, 'atroci': 2263, 'preview': 2264, 'ludicr': 2265, 'spin': 2266, 'basebal': 2267, 'corner': 2268, 'lifetim': 2269, 'storm': 2270, 'stolen': 2271, 'lay': 2272, 'warrior': 2273, 'brave': 2274, 'introduct': 2275, 'imageri': 2276, 'sarah': 2277, 'homosexu': 2278, 'reward': 2279, 'screw': 2280, 'mainstream': 2281, 'bollywood': 2282, 'wwii': 2283, 'own': 2284, 'prior': 2285, 'dracula': 2286, 'benefit': 2287, 'inept': 2288, 'chop': 2289, 'birth': 2290, 'extraordinari': 2291, 'helen': 2292, 'widow': 2293, 'ton': 2294, 'reminisc': 2295, 'distinct': 2296, 'method': 2297, 'insist': 2298, 'ha': 2299, 'forth': 2300, 'breast': 2301, 'summari': 2302, 'funnier': 2303, 'plagu': 2304, 'kane': 2305, 'split': 2306, 'dinner': 2307, 'multipl': 2308, 'damag': 2309, 'dean': 2310, 'deliveri': 2311, 'proceed': 2312, 'sink': 2313, 'daili': 2314, 'underground': 2315, '2001': 2316, 'jaw': 2317, 'gruesom': 2318, 'ala': 2319, 'storytel': 2320, 'attach': 2321, 'address': 2322, 'vincent': 2323, 'ga': 2324, 'overcom': 2325, 'burton': 2326, 'sinatra': 2327, 'render': 2328, 'swear': 2329, 'creation': 2330, 'format': 2331, 'pregnant': 2332, 'usa': 2333, 'hyster': 2334, 'particip': 2335, 'everywher': 2336, 'hoffman': 2337, 'contest': 2338, 'border': 2339, 'luke': 2340, 'crude': 2341, 'wreck': 2342, 'india': 2343, 'obscur': 2344, 'metal': 2345, 'tongu': 2346, 'cring': 2347, 'offici': 2348, 'un': 2349, 'chuck': 2350, 'dinosaur': 2351, 'buff': 2352, 'heavili': 2353, 'california': 2354, 'puzzl': 2355, 'buri': 2356, 'lip': 2357, 'hype': 2358, 'bergman': 2359, 'confid': 2360, 'uninterest': 2361, 'beer': 2362, 'cure': 2363, '14': 2364, 'st': 2365, 'shark': 2366, 'encourag': 2367, 'lloyd': 2368, 'understood': 2369, 'laura': 2370, 'settl': 2371, 'error': 2372, 'racist': 2373, 'pro': 2374, 'isol': 2375, 'chees': 2376, 'thief': 2377, 'explod': 2378, 'gather': 2379, 'forgot': 2380, 'duti': 2381, 'greater': 2382, 'argument': 2383, 'scheme': 2384, 'mickey': 2385, 'bobbi': 2386, 'repetit': 2387, 'alright': 2388, 'tremend': 2389, 'pursu': 2390, 'carpent': 2391, 'fabul': 2392, 'dave': 2393, 'pan': 2394, 'broadcast': 2395, 'blah': 2396, 'kim': 2397, 'bitter': 2398, 'revolut': 2399, 'instal': 2400, 'rage': 2401, 'julia': 2402, 'measur': 2403, 'boot': 2404, 'indulg': 2405, 'soviet': 2406, 'halfway': 2407, 'farm': 2408, 'resist': 2409, 'via': 2410, 'circl': 2411, 'lion': 2412, 'behav': 2413, 'row': 2414, 'mildli': 2415, 'scarecrow': 2416, 'racism': 2417, 'terrifi': 2418, 'deeper': 2419, 'shirt': 2420, 'cannib': 2421, 'button': 2422, 'tens': 2423, 'integr': 2424, 'popul': 2425, 'stanwyck': 2426, 'photo': 2427, 'oppos': 2428, 'fix': 2429, 'blade': 2430, 'victor': 2431, 'stomach': 2432, 'chair': 2433, 'tommi': 2434, 'basi': 2435, 'nude': 2436, 'walker': 2437, 'sunday': 2438, 'mob': 2439, 'nuclear': 2440, 'belov': 2441, 'ranger': 2442, 'engin': 2443, 'extend': 2444, 'facial': 2445, 'duke': 2446, 'coach': 2447, 'karen': 2448, 'hippi': 2449, 'succe': 2450, 'downright': 2451, 'susan': 2452, 'necessarili': 2453, 'extent': 2454, 'competit': 2455, 'ticket': 2456, 'adopt': 2457, 'crush': 2458, 'block': 2459, 'fourth': 2460, 'polish': 2461, 'thumb': 2462, 'advantag': 2463, 'ocean': 2464, 'sin': 2465, 'woodi': 2466, 'divorc': 2467, 'subsequ': 2468, 'holiday': 2469, 'amongst': 2470, 'neck': 2471, 'assign': 2472, 'stab': 2473, 'defend': 2474, 'text': 2475, 'showcas': 2476, 'shift': 2477, 'parallel': 2478, 'jon': 2479, 'dedic': 2480, 'survivor': 2481, '1990': 2482, 'homag': 2483, 'santa': 2484, 'swim': 2485, 'elev': 2486, 'quest': 2487, 'savag': 2488, 'unconvinc': 2489, '1940': 2490, 'corpor': 2491, 'devot': 2492, 'cathol': 2493, 'stalk': 2494, 'aunt': 2495, 'icon': 2496, 'horrif': 2497, 'christ': 2498, 'beg': 2499, 'nonetheless': 2500, 'alter': 2501, 'hugh': 2502, 'disagre': 2503, 'guarante': 2504, 'raw': 2505, 'spare': 2506, 'victoria': 2507, 'fade': 2508, 'dawn': 2509, 'mst3k': 2510, 'diamond': 2511, 'reduc': 2512, 'jess': 2513, 'afternoon': 2514, 'portrait': 2515, 'garden': 2516, 'matrix': 2517, 'anticip': 2518, 'disbelief': 2519, 'hip': 2520, 'wherea': 2521, 'nine': 2522, 'transfer': 2523, 'rebel': 2524, 'goofi': 2525, 'fbi': 2526, 'dear': 2527, 'silenc': 2528, 'inhabit': 2529, 'columbo': 2530, 'user': 2531, 'tool': 2532, 'shout': 2533, 'von': 2534, 'proof': 2535, 'sleazi': 2536, 'musician': 2537, 'overact': 2538, 'invis': 2539, 'conceiv': 2540, 'asham': 2541, 'appli': 2542, 'threat': 2543, 'suitabl': 2544, 'jay': 2545, 'ron': 2546, 'albeit': 2547, 'shoulder': 2548, 'stylish': 2549, 'mgm': 2550, 'britain': 2551, 'union': 2552, 'trade': 2553, 'franchis': 2554, 'catherin': 2555, 'deliber': 2556, 'hong': 2557, 'holli': 2558, 'greek': 2559, 'brand': 2560, 'announc': 2561, 'bride': 2562, 'sidney': 2563, 'mexico': 2564, 'properli': 2565, 'uninspir': 2566, 'internet': 2567, 'lesli': 2568, 'chuckl': 2569, 'restor': 2570, 'mous': 2571, 'africa': 2572, 'immens': 2573, 'miscast': 2574, 'fairi': 2575, 'occas': 2576, 'spoken': 2577, 'princip': 2578, 'sinist': 2579, 'snow': 2580, 'wanna': 2581, 'freeman': 2582, 'mummi': 2583, 'friendli': 2584, 'lazi': 2585, 'burt': 2586, 'horrifi': 2587, 'fighter': 2588, 'mindless': 2589, 'conveni': 2590, '16': 2591, 'philosoph': 2592, 'heat': 2593, 'premier': 2594, 'shower': 2595, 'blair': 2596, 'assur': 2597, '18': 2598, 'spiritu': 2599, 'slight': 2600, 'em': 2601, 'itali': 2602, 'lyric': 2603, 'titan': 2604, 'unforgett': 2605, 'spring': 2606, 'magazin': 2607, 'plastic': 2608, 'sophist': 2609, 'punk': 2610, 'sandra': 2611, 'salli': 2612, '2005': 2613, 'boredom': 2614, 'discoveri': 2615, 'pacino': 2616, 'powel': 2617, 'retir': 2618, 'per': 2619, 'fest': 2620, 'hack': 2621, 'distribut': 2622, 'stink': 2623, 'midnight': 2624, 'lugosi': 2625, 'rat': 2626, 'sutherland': 2627, 'torn': 2628, 'neat': 2629, 'slip': 2630, 'emili': 2631, '2000': 2632, 'cardboard': 2633, 'frankenstein': 2634, 'phillip': 2635, 'marin': 2636, 'arrog': 2637, 'heroic': 2638, 'weight': 2639, 'fifti': 2640, 'zone': 2641, 'feed': 2642, 'gotta': 2643, 'bulli': 2644, 'flop': 2645, 'editor': 2646, 'outfit': 2647, 'cave': 2648, 'enhanc': 2649, 'regardless': 2650, 'oz': 2651, 'appal': 2652, 'knight': 2653, 'foster': 2654, 'brad': 2655, 'redempt': 2656, 'toilet': 2657, 'pet': 2658, 'disguis': 2659, 'stole': 2660, 'distanc': 2661, 'tribut': 2662, 'react': 2663, 'slave': 2664, 'mechan': 2665, 'float': 2666, 'mitchel': 2667, 'pool': 2668, 'oil': 2669, 'lovabl': 2670, 'absorb': 2671, '2006': 2672, 'etern': 2673, 'jami': 2674, 'innov': 2675, 'nanci': 2676, 'wealthi': 2677, 'jew': 2678, 'march': 2679, 'upper': 2680, 'tarantino': 2681, 'philip': 2682, 'hammer': 2683, 'glori': 2684, 'sadist': 2685, 'kennedi': 2686, 'fulfil': 2687, 'useless': 2688, 'cameron': 2689, 'electr': 2690, 'exercis': 2691, 'precis': 2692, 'butt': 2693, 'vega': 2694, 'bath': 2695, 'nut': 2696, 'carol': 2697, 'orient': 2698, 'jessica': 2699, 'endear': 2700, 'scratch': 2701, 'ironi': 2702, 'pitt': 2703, 'exchang': 2704, 'piano': 2705, 'navi': 2706, 'min': 2707, 'conneri': 2708, 'instantli': 2709, 'dynam': 2710, 'web': 2711, 'oddli': 2712, 'dian': 2713, 'tag': 2714, 'laid': 2715, 'sold': 2716, 'conspiraci': 2717, 'file': 2718, '45': 2719, 'henc': 2720, 'diseas': 2721, 'overwhelm': 2722, 'territori': 2723, 'pg': 2724, 'repeatedli': 2725, 'poison': 2726, 'throat': 2727, 'layer': 2728, 'suppli': 2729, 'ward': 2730, 'simpson': 2731, '17': 2732, 'needless': 2733, 'wrestl': 2734, 'larger': 2735, 'induc': 2736, 'termin': 2737, 'backdrop': 2738, 'ego': 2739, 'impli': 2740, 'pat': 2741, 'uncomfort': 2742, 'graduat': 2743, 'broke': 2744, 'basement': 2745, 'rabbit': 2746, 'label': 2747, 'nobl': 2748, 'fallen': 2749, 'alik': 2750, 'lisa': 2751, 'thug': 2752, 'brazil': 2753, 'spark': 2754, 'nowaday': 2755, 'scarlett': 2756, 'steel': 2757, 'cinematograph': 2758, 'greatli': 2759, 'blank': 2760, 'fund': 2761, 'reader': 2762, 'phrase': 2763, 'resolut': 2764, 'ensu': 2765, 'reel': 2766, 'clair': 2767, 'maria': 2768, 'digit': 2769, 'australia': 2770, 'minim': 2771, 'prop': 2772, 'lawrenc': 2773, 'notori': 2774, 'enorm': 2775, 'implaus': 2776, 'cancel': 2777, 'access': 2778, 'spielberg': 2779, 'ensembl': 2780, 'relax': 2781, 'carl': 2782, 'fanci': 2783, '20th': 2784, 'coher': 2785, 'factori': 2786, 'chapter': 2787, 'toss': 2788, 'horrend': 2789, 'neighborhood': 2790, 'wilder': 2791, 'creep': 2792, 'unbear': 2793, 'nelson': 2794, 'mel': 2795, 'grim': 2796, 'hamlet': 2797, 'franki': 2798, 'kudo': 2799, 'ambiti': 2800, 'deriv': 2801, 'pulp': 2802, 'restaur': 2803, 'knife': 2804, 'coincid': 2805, 'birthday': 2806, 'forti': 2807, 'peak': 2808, 'flip': 2809, 'terri': 2810, 'maniac': 2811, 'climb': 2812, 'matthew': 2813, 'capit': 2814, 'mill': 2815, 'norman': 2816, 'outcom': 2817, 'function': 2818, 'outer': 2819, '24': 2820, 'butcher': 2821, 'matthau': 2822, 'briefli': 2823, 'roman': 2824, 'airplan': 2825, 'guilt': 2826, 'poignant': 2827, 'elabor': 2828, 'flynn': 2829, 'pound': 2830, 'montag': 2831, 'incompet': 2832, 'khan': 2833, 'dump': 2834, 'hardi': 2835, 'shi': 2836, 'ham': 2837, 'lili': 2838, 'breathtak': 2839, 'happili': 2840, 'persona': 2841, 'emma': 2842, 'hawk': 2843, 'fianc': 2844, 'lesser': 2845, 'meaning': 2846, 'mar': 2847, 'funer': 2848, 'rap': 2849, 'melodramat': 2850, 'kubrick': 2851, 'rave': 2852, 'squar': 2853, 'struck': 2854, 'sacrific': 2855, 'kitchen': 2856, 'vulner': 2857, 'dealt': 2858, 'multi': 2859, 'resort': 2860, 'stiff': 2861, 'nuanc': 2862, 'christi': 2863, 'nod': 2864, 'stoog': 2865, 'increas': 2866, 'sidekick': 2867, 'tall': 2868, 'fetch': 2869, 'tank': 2870, 'hudson': 2871, 'financi': 2872, 'inconsist': 2873, 'tower': 2874, 'increasingli': 2875, 'prize': 2876, 'pie': 2877, 'portion': 2878, 'eighti': 2879, 'pride': 2880, 'newspap': 2881, 'crisi': 2882, 'profound': 2883, 'owen': 2884, 'urg': 2885, 'admittedli': 2886, 'muppet': 2887, 'gray': 2888, 'helicopt': 2889, 'item': 2890, 'ireland': 2891, 'ambigu': 2892, 'heist': 2893, 'gothic': 2894, 'immigr': 2895, 'threw': 2896, 'gradual': 2897, 'trail': 2898, 'mute': 2899, 'recreat': 2900, 'be': 2901, 'bang': 2902, 'godfath': 2903, 'sensibl': 2904, 'reynold': 2905, 'transit': 2906, 'stanley': 2907, 'revers': 2908, 'incoher': 2909, 'tender': 2910, 'shall': 2911, 'chicago': 2912, 'document': 2913, 'grey': 2914, 'importantli': 2915, 'charisma': 2916, 'metaphor': 2917, 'illustr': 2918, 'elsewher': 2919, 'audio': 2920, 'packag': 2921, 'trite': 2922, 'cheek': 2923, 'wannab': 2924, 'carter': 2925, 'easier': 2926, 'blast': 2927, 'difficulti': 2928, 'pressur': 2929, 'brillianc': 2930, 'contract': 2931, 'korean': 2932, 'mansion': 2933, 'rachel': 2934, 'bruno': 2935, 'melt': 2936, 'unpleas': 2937, 'cliff': 2938, 'custom': 2939, 'lab': 2940, 'swing': 2941, 'recov': 2942, 'slaughter': 2943, 'hbo': 2944, 'bush': 2945, 'amanda': 2946, 'nerd': 2947, 'flower': 2948, 'wire': 2949, 'fifteen': 2950, 'spread': 2951, 'stress': 2952, 'enthusiast': 2953, 'pun': 2954, 'arrang': 2955, 'essenc': 2956, 'jet': 2957, 'alfr': 2958, 'pant': 2959, 'triumph': 2960, 'ralph': 2961, 'notion': 2962, 'meat': 2963, 'infam': 2964, 'subtleti': 2965, 'gate': 2966, 'ah': 2967, 'pirat': 2968, 'resolv': 2969, 'aspir': 2970, 'tap': 2971, 'curios': 2972, 'adequ': 2973, 'secretari': 2974, 'conclud': 2975, 'bottl': 2976, 'spike': 2977, 'lust': 2978, 'grandfath': 2979, 'jake': 2980, 'alli': 2981, 'viru': 2982, 'pearl': 2983, 'eccentr': 2984, 'babe': 2985, '1st': 2986, 'ultra': 2987, 'combat': 2988, 'stan': 2989, 'caricatur': 2990, 'craig': 2991, 'resourc': 2992, 'luci': 2993, 'prejudic': 2994, 'elect': 2995, 'juvenil': 2996, 'empir': 2997, 'superfici': 2998, '2004': 2999, 'stood': 3000, 'scientif': 3001, 'assault': 3002, 'tame': 3003, 'disc': 3004, 'racial': 3005, 'cruis': 3006, 'cabin': 3007, 'shortli': 3008, 'ya': 3009, 'clown': 3010, 'evok': 3011, 'bibl': 3012, 'stinker': 3013, 'eeri': 3014, 'mock': 3015, 'rid': 3016, 'harm': 3017, 'health': 3018, 'thread': 3019, 'librari': 3020, 'sixti': 3021, 'crook': 3022, 'reserv': 3023, 'invest': 3024, 'rendit': 3025, 'arnold': 3026, 'lou': 3027, 'grasp': 3028, 'hal': 3029, 'penn': 3030, 'colonel': 3031, 'charismat': 3032, 'sneak': 3033, 'jonathan': 3034, 'eve': 3035, 'tip': 3036, 'pad': 3037, 'q': 3038, 'justin': 3039, 'glenn': 3040, 'wine': 3041, 'declar': 3042, 'murray': 3043, 'communist': 3044, 'equip': 3045, 'sketch': 3046, 'wick': 3047, 'companion': 3048, 'nearbi': 3049, 'preciou': 3050, 'linda': 3051, 'vari': 3052, 'drown': 3053, 'austen': 3054, 'evolv': 3055, 'owe': 3056, 'patriot': 3057, 'kirk': 3058, 'argento': 3059, 'bust': 3060, 'dorothi': 3061, 'claud': 3062, 'ami': 3063, 'fed': 3064, 'pit': 3065, 'inexplic': 3066, 'elderli': 3067, 'crocodil': 3068, 'lifestyl': 3069, 'farc': 3070, 'graham': 3071, 'gentl': 3072, 'medium': 3073, 'ken': 3074, 'collabor': 3075, 'debat': 3076, 'inspector': 3077, 'jealou': 3078, 'surf': 3079, 'emperor': 3080, 'sale': 3081, 'astonish': 3082, 'disjoint': 3083, 'luckili': 3084, 'wet': 3085, 'qualifi': 3086, 'seduc': 3087, 'height': 3088, 'protest': 3089, 'wax': 3090, 'divers': 3091, 'robinson': 3092, 'hitch': 3093, 'traci': 3094, 'transport': 3095, 'afford': 3096, 'philosophi': 3097, 'franco': 3098, 'mild': 3099, 'timeless': 3100, 'ned': 3101, 'ho': 3102, 'damm': 3103, 'crystal': 3104, 'coat': 3105, 'eleg': 3106, 'closet': 3107, 'jeremi': 3108, 'baker': 3109, 'journalist': 3110, 'updat': 3111, 'insert': 3112, 'strictli': 3113, 'bin': 3114, 'strain': 3115, 'antic': 3116, 'directori': 3117, 'huh': 3118, 'nerv': 3119, 'cup': 3120, 'cole': 3121, 'altogeth': 3122, 'dust': 3123, 'eleph': 3124, 'bash': 3125, 'chew': 3126, 'tourist': 3127, 'slice': 3128, 'chest': 3129, 'swedish': 3130, 'contrari': 3131, '1999': 3132, 'anni': 3133, 'beaten': 3134, 'voyag': 3135, 'clint': 3136, 'broad': 3137, 'flawless': 3138, 'reviv': 3139, 'seventi': 3140, 'programm': 3141, 'illeg': 3142, 'distant': 3143, 'yesterday': 3144, 'revolutionari': 3145, 'pseudo': 3146, 'rick': 3147, 'plausibl': 3148, 'valley': 3149, 'duo': 3150, 'smash': 3151, 'estat': 3152, 'unwatch': 3153, 'pink': 3154, 'staff': 3155, 'hollow': 3156, 'rivet': 3157, 'fist': 3158, 'respond': 3159, 'mistress': 3160, 'partli': 3161, 'horrid': 3162, 'templ': 3163, '99': 3164, 'rita': 3165, 'suspend': 3166, 'solo': 3167, 'karloff': 3168, 'publish': 3169, 'psychot': 3170, 'enterpris': 3171, 'furthermor': 3172, 'ban': 3173, 'websit': 3174, 'splatter': 3175, 'griffith': 3176, 'spooki': 3177, 'tea': 3178, 'bull': 3179, 'rocket': 3180, 'cloud': 3181, 'meaningless': 3182, 'casual': 3183, 'fond': 3184, 'servant': 3185, '2007': 3186, 'iii': 3187, 'boll': 3188, 'countless': 3189, 'reunion': 3190, 'buster': 3191, 'superbl': 3192, 'trio': 3193, 'rural': 3194, 'passeng': 3195, 'chicken': 3196, 'fx': 3197, 'merci': 3198, 'wont': 3199, 'junior': 3200, 'legal': 3201, 'unorigin': 3202, 'grate': 3203, 'porno': 3204, 'bathroom': 3205, 'burst': 3206, 'cinderella': 3207, 'dimens': 3208, 'calm': 3209, 'ruthless': 3210, 'highest': 3211, 'madonna': 3212, 'hatr': 3213, 'instinct': 3214, 'pleasantli': 3215, 'experiment': 3216, 'sloppi': 3217, 'grandmoth': 3218, 'crucial': 3219, 'bless': 3220, 'befriend': 3221, 'synopsi': 3222, 'duck': 3223, 'coast': 3224, 'ingredi': 3225, 'cia': 3226, 'canada': 3227, 'explicit': 3228, 'eaten': 3229, 'primarili': 3230, 'politician': 3231, 'holi': 3232, 'confirm': 3233, 'reev': 3234, 'biographi': 3235, 'shade': 3236, 'inherit': 3237, 'mutant': 3238, 'wallac': 3239, 'cusack': 3240, 'album': 3241, 'doc': 3242, 'eastern': 3243, 'yellow': 3244, 'airport': 3245, 'choreograph': 3246, 'twelv': 3247, 'principl': 3248, 'poverti': 3249, 'inan': 3250, 'jar': 3251, 'bleak': 3252, 'reed': 3253, 'neil': 3254, 'destin': 3255, 'ambit': 3256, 'franci': 3257, 'spiral': 3258, 'overdon': 3259, 'celluloid': 3260, 'keith': 3261, 'poetri': 3262, 'suspici': 3263, 'paus': 3264, 'baldwin': 3265, 'marshal': 3266, 'egg': 3267, 'russia': 3268, 'branagh': 3269, 'cd': 3270, 'che': 3271, 'coffe': 3272, 'jazz': 3273, 'alexand': 3274, 'worthless': 3275, 'hopper': 3276, 'carlo': 3277, 'devast': 3278, 'absenc': 3279, 'woo': 3280, 'hesit': 3281, 'dismiss': 3282, 'spit': 3283, 'dire': 3284, 'selfish': 3285, 'turner': 3286, 'stronger': 3287, 'poetic': 3288, 'campbel': 3289, 'slightest': 3290, 'defi': 3291, 'beneath': 3292, 'mail': 3293, 'humili': 3294, 'skit': 3295, 'jewel': 3296, 'randi': 3297, 'dealer': 3298, 'intim': 3299, 'aforement': 3300, 'angela': 3301, 'nicol': 3302, 'trademark': 3303, 'martha': 3304, 'uneven': 3305, 'giallo': 3306, 'brando': 3307, 'foul': 3308, 'blake': 3309, 'cox': 3310, 'hop': 3311, 'evan': 3312, 'garbo': 3313, 'abysm': 3314, 'vivid': 3315, 'descend': 3316, 'eas': 3317, 'vast': 3318, 'incident': 3319, '2002': 3320, 'pig': 3321, 'gabriel': 3322, 'convolut': 3323, 'region': 3324, 'inject': 3325, 'chao': 3326, 'pin': 3327, 'promin': 3328, 'z': 3329, 'troop': 3330, 'colleagu': 3331, 'quarter': 3332, 'abc': 3333, 'sheen': 3334, 'tiger': 3335, 'monk': 3336, 'pal': 3337, 'rope': 3338, '2003': 3339, 'eva': 3340, 'ventur': 3341, 'boast': 3342, 'pierc': 3343, 'repli': 3344, 'drunken': 3345, 'tyler': 3346, 'counter': 3347, 'pauli': 3348, 'launch': 3349, 'bourn': 3350, 'exit': 3351, 'digniti': 3352, 'awe': 3353, 'simplist': 3354, 'vice': 3355, 'sensat': 3356, 'maci': 3357, 'dash': 3358, 'royal': 3359, 'spider': 3360, 'slick': 3361, 'leonard': 3362, 'homicid': 3363, 'derek': 3364, 'talki': 3365, 'cue': 3366, 'rotten': 3367, 'improvis': 3368, 'todd': 3369, 'bori': 3370, 'strand': 3371, 'cassavet': 3372, 'blatant': 3373, 'da': 3374, 'consum': 3375, 'emphasi': 3376, 'hamilton': 3377, 'garfield': 3378, 'leap': 3379, 'primari': 3380, 'uniform': 3381, 'squad': 3382, 'hardcor': 3383, 'stir': 3384, 'acknowledg': 3385, 'sullivan': 3386, 'option': 3387, 'dentist': 3388, 'ramon': 3389, 'ian': 3390, 'recruit': 3391, 'secondli': 3392, 'altman': 3393, 'imperson': 3394, 'miyazaki': 3395, 'pervers': 3396, 'bowl': 3397, 'sandler': 3398, 'pray': 3399, 'lend': 3400, 'kurt': 3401, 'manhattan': 3402, 'acclaim': 3403, 'bold': 3404, 'robberi': 3405, 'cannon': 3406, 'rant': 3407, 'hart': 3408, 'mason': 3409, 'flee': 3410, 'dive': 3411, 'global': 3412, 'recycl': 3413, 'streep': 3414, 'quinn': 3415, 'lit': 3416, 'museum': 3417, 'clock': 3418, 'embrac': 3419, 'mankind': 3420, 'harder': 3421, 'humbl': 3422, 'devoid': 3423, 'psychic': 3424, 'thick': 3425, 'wizard': 3426, 'trace': 3427, 'cope': 3428, '2nd': 3429, 'favour': 3430, 'ought': 3431, 'mesmer': 3432, 'whip': 3433, 'francisco': 3434, 'myer': 3435, 'tribe': 3436, 'carrey': 3437, 'seduct': 3438, '00': 3439, 'viciou': 3440, 'yawn': 3441, 'despair': 3442, 'defens': 3443, 'flame': 3444, 'automat': 3445, 'awak': 3446, 'cake': 3447, 'vanish': 3448, 'exot': 3449, 'et': 3450, 'destini': 3451, 'miracl': 3452, 'craze': 3453, 'runner': 3454, 'psychopath': 3455, 'disgrac': 3456, 'sand': 3457, 'fonda': 3458, 'popcorn': 3459, '1995': 3460, 'wore': 3461, 'rex': 3462, 'mayor': 3463, 'gap': 3464, 'bay': 3465, 'torment': 3466, 'undoubtedli': 3467, 'wipe': 3468, 'poke': 3469, 'artifici': 3470, 'boil': 3471, 'gear': 3472, 'neglect': 3473, 'recognit': 3474, 'forbidden': 3475, 'fri': 3476, 'dictat': 3477, 'flood': 3478, 'pale': 3479, 'han': 3480, 'mafia': 3481, 'frost': 3482, 'spock': 3483, 'karat': 3484, 'steam': 3485, 'soprano': 3486, 'composit': 3487, 'bate': 3488, 'similarli': 3489, 'leon': 3490, 'loyal': 3491, 'curti': 3492, 'walken': 3493, 'infect': 3494, 'wacki': 3495, 'centr': 3496, 'bullock': 3497, 'drivel': 3498, 'habit': 3499, 'homeless': 3500, 'laurel': 3501, 'luca': 3502, 'monologu': 3503, 'trait': 3504, 'grotesqu': 3505, '1968': 3506, 'assembl': 3507, 'natali': 3508, 'phantom': 3509, 'applaud': 3510, 'divid': 3511, 'sweep': 3512, 'lean': 3513, 'farmer': 3514, 'sappi': 3515, 'visibl': 3516, 'conserv': 3517, 'bean': 3518, 'stake': 3519, 'suprem': 3520, 'warren': 3521, 'inappropri': 3522, 'trashi': 3523, 'im': 3524, 'lang': 3525, 'pen': 3526, 'honesti': 3527, 'margaret': 3528, 'stilt': 3529, 'conduct': 3530, 'mystic': 3531, 'invas': 3532, 'glover': 3533, 'compass': 3534, 'lowest': 3535, 'moodi': 3536, 'sailor': 3537, 'muslim': 3538, 'adolesc': 3539, 'interior': 3540, 'bett': 3541, 'critter': 3542, 'predecessor': 3543, 'milk': 3544, 'what': 3545, 'bonu': 3546, 'await': 3547, 'rocki': 3548, 'detract': 3549, 'campaign': 3550, 'clone': 3551, 'heartbreak': 3552, 'childish': 3553, 'downhil': 3554, 'elimin': 3555, 'solut': 3556, 'retain': 3557, '35': 3558, 'streisand': 3559, 'rubber': 3560, 'stellar': 3561, 'cagney': 3562, 'barrel': 3563, 'hopeless': 3564, 'boom': 3565, 'sh': 3566, 'countrysid': 3567, 'butler': 3568, 'characterist': 3569, 'pattern': 3570, 'repuls': 3571, 'decor': 3572, 'glanc': 3573, 'carmen': 3574, 'eager': 3575, 'ellen': 3576, 'tempt': 3577, 'mistaken': 3578, 'bumbl': 3579, 'wheel': 3580, 'glow': 3581, 'hideou': 3582, 'colin': 3583, 'institut': 3584, 'resurrect': 3585, 'leo': 3586, 'fever': 3587, 'candid': 3588, 'troma': 3589, 'shirley': 3590, 'aveng': 3591, 'liberti': 3592, 'ruth': 3593, 'phoni': 3594, 'tackl': 3595, 'ponyo': 3596, 'yard': 3597, 'awaken': 3598, 'sustain': 3599, 'clumsi': 3600, 'dose': 3601, 'prey': 3602, 'gambl': 3603, 'ali': 3604, 'plight': 3605, 'smooth': 3606, 'mode': 3607, 'shelf': 3608, 'smell': 3609, 'overr': 3610, 'passabl': 3611, 'nicholson': 3612, 'secondari': 3613, 'choreographi': 3614, 'convincingli': 3615, 'josh': 3616, 'fay': 3617, 'judi': 3618, 'exhibit': 3619, 'bump': 3620, 'delic': 3621, 'meander': 3622, 'surpass': 3623, 'swallow': 3624, 'blew': 3625, 'inferior': 3626, 'fought': 3627, 'partial': 3628, 'bam': 3629, 'shed': 3630, 'samuel': 3631, 'incomprehens': 3632, 'sibl': 3633, 'apocalyps': 3634, 'spacey': 3635, 'interrupt': 3636, 'minist': 3637, 'craven': 3638, 'apolog': 3639, 'felix': 3640, 'worn': 3641, 'aggress': 3642, 'smaller': 3643, 'mtv': 3644, 'stale': 3645, 'extens': 3646, 'nun': 3647, 'volum': 3648, 'obtain': 3649, '3rd': 3650, 'riot': 3651, 'profan': 3652, 'fanat': 3653, 'jeffrey': 3654, 'newman': 3655, 'tiresom': 3656, 'labor': 3657, 'scoobi': 3658, 'unsettl': 3659, 'gu': 3660, 'scope': 3661, 'cream': 3662, 'watson': 3663, 'samurai': 3664, 'substitut': 3665, 'superhero': 3666, 'alert': 3667, 'testament': 3668, 'mislead': 3669, 'andr': 3670, 'er': 3671, 'li': 3672, 'slide': 3673, 'giggl': 3674, 'myth': 3675, 'bargain': 3676, 'mixtur': 3677, 'lincoln': 3678, 'edgar': 3679, 'norri': 3680, 'muddl': 3681, 'morri': 3682, 'seed': 3683, 'tripe': 3684, 'declin': 3685, 'niro': 3686, 'abort': 3687, 'instrument': 3688, 'grudg': 3689, 'goer': 3690, 'ration': 3691, 'divin': 3692, 'donna': 3693, 'mann': 3694, 'compliment': 3695, 'climact': 3696, 'lol': 3697, 'splendid': 3698, 'contempl': 3699, 'acid': 3700, 'bedroom': 3701, 'june': 3702, 'breed': 3703, 'nostalgia': 3704, 'tad': 3705, 'versu': 3706, 'underli': 3707, 'drain': 3708, 'timothi': 3709, 'carradin': 3710, 'hay': 3711, 'victori': 3712, 'elvi': 3713, 'jo': 3714, 'ant': 3715, 'disabl': 3716, 'crawl': 3717, 'minimum': 3718, 'gloriou': 3719, 'feminist': 3720, 'twilight': 3721, 'patricia': 3722, 'mario': 3723, 'instant': 3724, 'miseri': 3725, 'employe': 3726, 'rambl': 3727, 'ethnic': 3728, 'vulgar': 3729, 'orang': 3730, 'florida': 3731, 'seal': 3732, 'collaps': 3733, 'properti': 3734, 'spain': 3735, 'antonio': 3736, 'literatur': 3737, 'engross': 3738, 'lemmon': 3739, 'enlighten': 3740, 'heston': 3741, 'atlanti': 3742, 'injur': 3743, 'agenda': 3744, 'repress': 3745, 'underst': 3746, 'invad': 3747, 'immort': 3748, 'robber': 3749, 'vein': 3750, 'perri': 3751, '1972': 3752, 'tail': 3753, 'charlott': 3754, 'proce': 3755, 'parad': 3756, 'gal': 3757, 'exquisit': 3758, 'asylum': 3759, 'milo': 3760, 'gender': 3761, 'hulk': 3762, 'saint': 3763, 'turkish': 3764, 'pot': 3765, 'cleverli': 3766, 'outing': 3767, 'irrelev': 3768, 'derang': 3769, 'dreari': 3770, 'aaron': 3771, 'bubbl': 3772, 'tacki': 3773, 'distinguish': 3774, 'awhil': 3775, 'olivi': 3776, 'futurist': 3777, 'realm': 3778, 'diana': 3779, 'triangl': 3780, 'rout': 3781, 'judgment': 3782, 'perceiv': 3783, 'meg': 3784, 'ensur': 3785, 'pervert': 3786, 'bleed': 3787, 'wagon': 3788, 'reson': 3789, 'enchant': 3790, 'uplift': 3791, 'harold': 3792, 'map': 3793, 'bo': 3794, 'holocaust': 3795, 'pete': 3796, 'voight': 3797, 'salman': 3798, 'unhappi': 3799, 'wwe': 3800, 'shatter': 3801, 'joey': 3802, 'cigarett': 3803, 'alongsid': 3804, 'equival': 3805, 'kay': 3806, 'safeti': 3807, 'venic': 3808, 'dutch': 3809, 'steer': 3810, 'psychiatrist': 3811, 'policeman': 3812, 'blob': 3813, 'leigh': 3814, 'bud': 3815, 'cow': 3816, 'garner': 3817, 'shaw': 3818, 'darker': 3819, 'taught': 3820, 'dawson': 3821, 'champion': 3822, 'aesthet': 3823, 'circu': 3824, 'hostag': 3825, 'harvey': 3826, 'joel': 3827, 'phil': 3828, 'hum': 3829, 'confin': 3830, 'unseen': 3831, 'wagner': 3832, 'gimmick': 3833, 'vocal': 3834, 'bitch': 3835, 'vengeanc': 3836, 'topless': 3837, 'approv': 3838, 'virginia': 3839, 'drift': 3840, 'nervou': 3841, 'taxi': 3842, 'idol': 3843, 'gentleman': 3844, 'elvira': 3845, 'trend': 3846, 'startl': 3847, 'banal': 3848, 'romero': 3849, 'stroke': 3850, 'rude': 3851, 'commend': 3852, 'delici': 3853, 'crawford': 3854, 'cancer': 3855, 'freez': 3856, '1983': 3857, 'ram': 3858, 'guitar': 3859, 'priceless': 3860, 'valuabl': 3861, 'household': 3862, 'deaf': 3863, 'roof': 3864, 'saga': 3865, 'condemn': 3866, 'geek': 3867, 'bronson': 3868, 'barney': 3869, 'preach': 3870, 'heal': 3871, '3000': 3872, 'sleaz': 3873, '1996': 3874, 'acquir': 3875, 'herzog': 3876, 'uwe': 3877, 'nyc': 3878, 'earl': 3879, 'mighti': 3880, 'cg': 3881, '1997': 3882, 'kitti': 3883, 'tactic': 3884, 'compens': 3885, 'stark': 3886, 'absent': 3887, 'arguabl': 3888, 'connor': 3889, 'wig': 3890, 'static': 3891, 'pursuit': 3892, 'roller': 3893, 'gadget': 3894, 'whine': 3895, 'drake': 3896, 'hooker': 3897, 'reunit': 3898, 'cruelti': 3899, 'jackass': 3900, 'vomit': 3901, 'straightforward': 3902, 'tonight': 3903, 'underworld': 3904, 'domest': 3905, 'analysi': 3906, '13th': 3907, '1969': 3908, 'panic': 3909, 'eugen': 3910, 'petti': 3911, 'illog': 3912, 'austin': 3913, 'we': 3914, 'samantha': 3915, 'mundan': 3916, 'pour': 3917, 'julian': 3918, 'despis': 3919, 'util': 3920, 'maggi': 3921, 'likewis': 3922, 'godzilla': 3923, 'incorpor': 3924, 'monoton': 3925, 'sympath': 3926, 'passag': 3927, 'hung': 3928, 'echo': 3929, 'poem': 3930, 'rapist': 3931, 'wive': 3932, 'radic': 3933, 'rome': 3934, 'snipe': 3935, 'doo': 3936, 'coloni': 3937, 'faster': 3938, 'feast': 3939, 'cyborg': 3940, 'spaghetti': 3941, 'belt': 3942, 'doug': 3943, 'jacket': 3944, 'corman': 3945, 'sublim': 3946, 'thompson': 3947, 'nemesi': 3948, 'bunni': 3949, 'closest': 3950, 'profess': 3951, 'sensual': 3952, 'amazon': 3953, 'nichola': 3954, 'stiller': 3955, 'occupi': 3956, 'prom': 3957, 'sore': 3958, 'loneli': 3959, 'sung': 3960, 'penguin': 3961, 'ponder': 3962, 'rifl': 3963, 'cent': 3964, 'worship': 3965, 'enthusiasm': 3966, 'sucker': 3967, 'marion': 3968, 'unreal': 3969, 'gypsi': 3970, 'mildr': 3971, 'vital': 3972, 'stuart': 3973, 'bow': 3974, 'dane': 3975, 'jade': 3976, 'deed': 3977, 'schedul': 3978, 'wrench': 3979, 'teas': 3980, 'showdown': 3981, 'tunnel': 3982, 'cum': 3983, 'hungri': 3984, 'interestingli': 3985, 'bravo': 3986, 'dysfunct': 3987, 'crippl': 3988, 'ritter': 3989, 'edgi': 3990, 'quaid': 3991, 'behaviour': 3992, 'kenneth': 3993, 'enforc': 3994, 'isabel': 3995, 'brooklyn': 3996, 'plod': 3997, 'represent': 3998, 'filler': 3999, 'beard': 4000, 'percept': 4001, 'propos': 4002, 'thru': 4003, 'firm': 4004, 'chainsaw': 4005, 'aussi': 4006, 'econom': 4007, 'glamor': 4008, 'arc': 4009, 'tomorrow': 4010, 'weather': 4011, 'correctli': 4012, 'linger': 4013, 'daddi': 4014, 'loyalti': 4015, 'onlin': 4016, 'session': 4017, 'widmark': 4018, 'sue': 4019, 'dud': 4020, 'revolt': 4021, 'accuraci': 4022, 'sunshin': 4023, 'conrad': 4024, 'drum': 4025, 'shore': 4026, 'motorcycl': 4027, 'baddi': 4028, 'compromis': 4029, 'shove': 4030, 'fenc': 4031, 'fisher': 4032, '1971': 4033, 'firstli': 4034, 'foxx': 4035, 'melodi': 4036, 'greedi': 4037, 'decept': 4038, 'bias': 4039, 'warrant': 4040, 'warmth': 4041, 'crow': 4042, 'helpless': 4043, 'tomato': 4044, 'net': 4045, 'lure': 4046, 'weakest': 4047, 'egyptian': 4048, 'numb': 4049, 'bernard': 4050, 'gere': 4051, 'unpredict': 4052, 'snap': 4053, 'exposit': 4054, 'hokey': 4055, 'travesti': 4056, 'profit': 4057, 'greed': 4058, 'baffl': 4059, 'axe': 4060, 'slash': 4061, 'seller': 4062, 'attribut': 4063, 'atroc': 4064, 'fuel': 4065, 'dispos': 4066, 'emphas': 4067, 'distress': 4068, 'preachi': 4069, 'romp': 4070, 'travolta': 4071, 'falk': 4072, 'golf': 4073, 'dame': 4074, 'erika': 4075, 'inabl': 4076, 'rupert': 4077, 'drove': 4078, 'widescreen': 4079, 'mormon': 4080, 'newli': 4081, 'injuri': 4082, 'dunn': 4083, 'berlin': 4084, 'recognis': 4085, 'transcend': 4086, 'audit': 4087, 'hypnot': 4088, 'darn': 4089, 'nostalg': 4090, 'spade': 4091, 'dilemma': 4092, 'inmat': 4093, 'dalton': 4094, 'robbin': 4095, 'span': 4096, 'maid': 4097, 'dirt': 4098, 'gestur': 4099, 'oppress': 4100, 'mobster': 4101, 'andrea': 4102, 'skull': 4103, 'huston': 4104, 'pretens': 4105, 'miniseri': 4106, 'neo': 4107, 'expand': 4108, 'christina': 4109, 'conscious': 4110, 'shell': 4111, 'paranoia': 4112, 'reluct': 4113, 'astound': 4114, 'arab': 4115, 'senseless': 4116, 'astronaut': 4117, 'beatti': 4118, 'kingdom': 4119, 'nbc': 4120, 'drill': 4121, 'businessman': 4122, 'heel': 4123, 'busey': 4124, 'dee': 4125, 'penni': 4126, 'catchi': 4127, 'simultan': 4128, 'exterior': 4129, 'simplic': 4130, 'demis': 4131, '1984': 4132, 'loy': 4133, 'mayhem': 4134, 'barrymor': 4135, 'clash': 4136, 'preced': 4137, 'clerk': 4138, 'knee': 4139, 'meryl': 4140, 'frog': 4141, 'traffic': 4142, 'cooki': 4143, 'unexpectedli': 4144, 'traumat': 4145, 'flag': 4146, 'wisdom': 4147, 'soccer': 4148, 'disregard': 4149, 'dreck': 4150, 'reign': 4151, 'wildli': 4152, 'akshay': 4153, 'rear': 4154, 'nineti': 4155, 'recit': 4156, 'en': 4157, 'unimagin': 4158, '1993': 4159, 'chat': 4160, 'clueless': 4161, 'prequel': 4162, 'bend': 4163, 'dalla': 4164, 'secretli': 4165, 'feat': 4166, 'flair': 4167, 'provoc': 4168, 'archiv': 4169, 'variat': 4170, 'championship': 4171, 'tech': 4172, 'pacif': 4173, 'femm': 4174, 'wong': 4175, 'kahn': 4176, 'regist': 4177, 'profil': 4178, 'culmin': 4179, 'civilian': 4180, 'click': 4181, 'descent': 4182, 'delet': 4183, 'censor': 4184, 'ross': 4185, 'overlong': 4186, 'stack': 4187, 'gloria': 4188, 'cube': 4189, 'request': 4190, 'cemeteri': 4191, 'distort': 4192, 'juliet': 4193, 'nolan': 4194, 'wealth': 4195, 'paranorm': 4196, 'macbeth': 4197, 'keen': 4198, '19th': 4199, 'scriptwrit': 4200, 'agenc': 4201, 'barker': 4202, 'cycl': 4203, 'jenni': 4204, 'denzel': 4205, 'client': 4206, 'shoddi': 4207, 'lanc': 4208, 'paradis': 4209, 'licens': 4210, 'lampoon': 4211, 'alec': 4212, 'dismal': 4213, 'angst': 4214, 'indiffer': 4215, 'crisp': 4216, 'dazzl': 4217, 'climat': 4218, 'ridden': 4219, 'alley': 4220, '23': 4221, 'latin': 4222, 'rooney': 4223, 'restrain': 4224, 'rubi': 4225, 'molli': 4226, 'speci': 4227, 'meal': 4228, 'moreov': 4229, 'bewar': 4230, 'contradict': 4231, 'skeleton': 4232, 'exhaust': 4233, '95': 4234, 'conscienc': 4235, 'backward': 4236, 'outlin': 4237, 'architect': 4238, 'yep': 4239, 'worm': 4240, 'clooney': 4241, '1973': 4242, 'rampag': 4243, 'bike': 4244, 'valentin': 4245, 'perpetu': 4246, 'sicken': 4247, 'el': 4248, 'unsatisfi': 4249, 'duval': 4250, 'sara': 4251, 'tendenc': 4252, 'tube': 4253, 'suspicion': 4254, 'shootout': 4255, 'blunt': 4256, 'chucki': 4257, 'biblic': 4258, 'greg': 4259, 'leland': 4260, 'inher': 4261, 'kramer': 4262, 'purpl': 4263, 'randomli': 4264, 'dement': 4265, 'sunni': 4266, 'fifth': 4267, 'painter': 4268, 'youngster': 4269, '1939': 4270, 'playboy': 4271, 'tax': 4272, 'valid': 4273, 'spoke': 4274, 'athlet': 4275, 'rene': 4276, 'financ': 4277, 'graini': 4278, 'bounc': 4279, 'scifi': 4280, 'pierr': 4281, 'pole': 4282, 'orson': 4283, 'dillon': 4284, 'shortcom': 4285, 'polici': 4286, 'lacklust': 4287, 'uncov': 4288, 'april': 4289, 'delv': 4290, 'enlist': 4291, 'proport': 4292, 'marti': 4293, 'preposter': 4294, 'coppola': 4295, 'empathi': 4296, 'bradi': 4297, 'skateboard': 4298, 'peer': 4299, 'lurk': 4300, 'rhythm': 4301, 'seldom': 4302, 'couch': 4303, 'monument': 4304, 'weav': 4305, 'patienc': 4306, 'raymond': 4307, 'hello': 4308, 'ritual': 4309, 'corn': 4310, 'illus': 4311, 'sweat': 4312, 'bela': 4313, 'preston': 4314, 'underwat': 4315, 'watcher': 4316, 'velvet': 4317, 'suffici': 4318, 'undead': 4319, 'dwarf': 4320, 'brood': 4321, 'mitchum': 4322, 'visitor': 4323, 'radiat': 4324, 'mall': 4325, 'kathi': 4326, 'dicken': 4327, 'www': 4328, 'crown': 4329, 'surgeri': 4330, 'howl': 4331, 'preserv': 4332, 'steadi': 4333, 'sydney': 4334, '22': 4335, 'boob': 4336, 'grin': 4337, 'chip': 4338, 'zoom': 4339, 'choppi': 4340, 'goldberg': 4341, 'exclus': 4342, '1979': 4343, 'inaccur': 4344, 'ernest': 4345, 'primit': 4346, 'cuba': 4347, 'rehash': 4348, 'scottish': 4349, 'consciou': 4350, 'jordan': 4351, '19': 4352, 'strongest': 4353, 'lunch': 4354, 'gabl': 4355, 'wendi': 4356, 'collector': 4357, 'newcom': 4358, '1981': 4359, 'exposur': 4360, 'hi': 4361, 'constitut': 4362, 'wholli': 4363, 'carey': 4364, 'abomin': 4365, 'cari': 4366, 'perman': 4367, 'vinc': 4368, 'highway': 4369, 'psych': 4370, 'tooth': 4371, 'wretch': 4372, 'unawar': 4373, 'tramp': 4374, 'bogart': 4375, 'surrend': 4376, 'harbor': 4377, 'submarin': 4378, 'damon': 4379, 'standout': 4380, 'kapoor': 4381, 'choru': 4382, 'chronicl': 4383, 'prank': 4384, 'roommat': 4385, 'iraq': 4386, 'duel': 4387, 'clad': 4388, 'odyssey': 4389, 'monti': 4390, 'pioneer': 4391, 'wardrob': 4392, 'drip': 4393, 'smack': 4394, 'thrust': 4395, 'booth': 4396, 'unfair': 4397, 'pocket': 4398, 'hackney': 4399, 'entranc': 4400, 'literari': 4401, 'danish': 4402, 'sarandon': 4403, 'roth': 4404, 'spaceship': 4405, 'scar': 4406, 'sheet': 4407, 'harmless': 4408, 'setup': 4409, 'reliabl': 4410, 'northern': 4411, 'rochest': 4412, 'kyle': 4413, 'hoot': 4414, 'hogan': 4415, 'technicolor': 4416, 'atom': 4417, 'spawn': 4418, 'gandhi': 4419, 'entitl': 4420, 'blackmail': 4421, 'glorifi': 4422, 'furi': 4423, 'lucil': 4424, 'deceas': 4425, 'churn': 4426, '1945': 4427, 'prospect': 4428, 'heap': 4429, 'degrad': 4430, 'gerard': 4431, 'bounti': 4432, 'olivia': 4433, 'abrupt': 4434, 'orlean': 4435, 'cann': 4436, 'spice': 4437, 'narrow': 4438, 'gorilla': 4439, 'muscl': 4440, 'wesley': 4441, 'alarm': 4442, '1988': 4443, 'embark': 4444, 'missil': 4445, 'quietli': 4446, 'abound': 4447, 'stallon': 4448, 'jan': 4449, 'imaginari': 4450, 'undeni': 4451, 'anchor': 4452, 'biker': 4453, 'unleash': 4454, 'unravel': 4455, 'sergeant': 4456, 'ronald': 4457, 'resum': 4458, 'bent': 4459, 'antagonist': 4460, 'isra': 4461, 'heartwarm': 4462, 'lectur': 4463, 'acquaint': 4464, 'spectacl': 4465, 'nephew': 4466, 'down': 4467, 'improb': 4468, 'styliz': 4469, 'septemb': 4470, 'stimul': 4471, 'paxton': 4472, 'tasteless': 4473, 'unrel': 4474, 'scorpion': 4475, 'insur': 4476, 'hilton': 4477, 'rod': 4478, 'victorian': 4479, 'boston': 4480, 'waitress': 4481, 'chess': 4482, 'shorter': 4483, 'montgomeri': 4484, 'viewpoint': 4485, '1982': 4486, 'hayworth': 4487, 'gregori': 4488, 'peck': 4489, 'critiqu': 4490, 'coaster': 4491, 'lynn': 4492, 'behold': 4493, 'belushi': 4494, 'joanna': 4495, 'sandi': 4496, 'showtim': 4497, 'hartley': 4498, 'columbia': 4499, 'buffalo': 4500, 'yearn': 4501, 'pimp': 4502, '1989': 4503, 'breakdown': 4504, 'harrison': 4505, 'biopic': 4506, 'rambo': 4507, 'privileg': 4508, 'minu': 4509, '75': 4510, 'del': 4511, 'convert': 4512, 'modest': 4513, 'stream': 4514, 'richardson': 4515, 'shaki': 4516, 'arrow': 4517, 'rehears': 4518, 'jealousi': 4519, 'abraham': 4520, 'slam': 4521, 'evolut': 4522, 'contend': 4523, 'interrog': 4524, 'impos': 4525, 'hindi': 4526, 'skate': 4527, 'furiou': 4528, 'walsh': 4529, 'obligatori': 4530, 'bacon': 4531, 'loath': 4532, 'baron': 4533, 'paramount': 4534, 'facil': 4535, 'redneck': 4536, 'lethal': 4537, 'immatur': 4538, 'implic': 4539, 'christin': 4540, 'cap': 4541, 'characteris': 4542, 'farrel': 4543, 'rider': 4544, 'legitim': 4545, 'btw': 4546, 'deniro': 4547, 'turd': 4548, '1974': 4549, 'unexplain': 4550, 'niec': 4551, 'hain': 4552, 'suffic': 4553, 'palac': 4554, '1998': 4555, 'sock': 4556, 'vibrant': 4557, 'suburban': 4558, 'senat': 4559, 'someday': 4560, 'temper': 4561, 'amor': 4562, 'info': 4563, 'brosnan': 4564, 'fleet': 4565, 'semit': 4566, 'domino': 4567, 'curli': 4568, 'ideolog': 4569, 'underneath': 4570, 'discern': 4571, 'spout': 4572, 'august': 4573, 'vignett': 4574, 'aircraft': 4575, 'lifeless': 4576, 'orchestr': 4577, 'dont': 4578, 'fluff': 4579, 'lionel': 4580, 'disord': 4581, 'fundament': 4582, 'schlock': 4583, 'spill': 4584, 'boxer': 4585, 'analyz': 4586, 'attorney': 4587, 'mum': 4588, 'bro': 4589, 'scroog': 4590, 'ethan': 4591, 'thiev': 4592, 'enabl': 4593, 'gasp': 4594, 'fruit': 4595, 'rhett': 4596, 'hallucin': 4597, 'oblig': 4598, 'coward': 4599, 'vastli': 4600, 'devito': 4601, 'daisi': 4602, 'frantic': 4603, 'noah': 4604, 'comprehend': 4605, 'calib': 4606, 'uh': 4607, 'restrict': 4608, 'globe': 4609, 'akin': 4610, 'snowman': 4611, 'pc': 4612, 'ginger': 4613, 'filth': 4614, 'legaci': 4615, 'gibson': 4616, 'genet': 4617, 'walt': 4618, 'sid': 4619, 'macarthur': 4620, 'mencia': 4621, 'miracul': 4622, 'verbal': 4623, 'conquer': 4624, 'ingeni': 4625, 'poker': 4626, 'exorcist': 4627, '1987': 4628, 'bonni': 4629, 'vet': 4630, 'firmli': 4631, 'flavor': 4632, 'fabric': 4633, 'travi': 4634, 'youtub': 4635, 'sarcast': 4636, 'leather': 4637, 'piper': 4638, 'departur': 4639, 'mama': 4640, 'roar': 4641, 'subtli': 4642, 'comeback': 4643, 'ark': 4644, 'whale': 4645, 'candl': 4646, 'armstrong': 4647, '1976': 4648, 'dylan': 4649, 'foundat': 4650, 'norm': 4651, 'gein': 4652, 'slug': 4653, 'conan': 4654, 'warden': 4655, 'logan': 4656, 'snl': 4657, 'reform': 4658, 'horn': 4659, 'russo': 4660, 'spine': 4661, 'headach': 4662, 'gentlemen': 4663, '4th': 4664, 'iren': 4665, '1978': 4666, 'rot': 4667, 'diner': 4668, 'brit': 4669, 'razor': 4670, 'instruct': 4671, 'mon': 4672, 'undertak': 4673, 'counterpart': 4674, 'foolish': 4675, 'youngest': 4676, 'virtu': 4677, 'shatner': 4678, 'satisfact': 4679, 'lauren': 4680, 'riddl': 4681, 'ladder': 4682, 'blatantli': 4683, 'olli': 4684, 'garland': 4685, 'barn': 4686, 'debt': 4687, 'rub': 4688, 'soup': 4689, 'abduct': 4690, 'bikini': 4691, 'immers': 4692, 'futil': 4693, 'repris': 4694, 'scandal': 4695, 'curtain': 4696, 'occup': 4697, 'ish': 4698, 'abstract': 4699, 'hapless': 4700, 'amitabh': 4701, 'mytholog': 4702, 'di': 4703, '200': 4704, 'pistol': 4705, 'galaxi': 4706, 'ricci': 4707, 'ol': 4708, 'rapid': 4709, 'mermaid': 4710, 'prot': 4711, 'paranoid': 4712, 'ivan': 4713, 'basketbal': 4714, 'glu': 4715, 'rainbow': 4716, 'beverli': 4717, 'louis': 4718, 'remad': 4719, 'goof': 4720, 'tick': 4721, 'polanski': 4722, 'macho': 4723, 'despic': 4724, 'senior': 4725, 'tokyo': 4726, 'stair': 4727, 'ethic': 4728, 'aztec': 4729, 'rosemari': 4730, 'swayz': 4731, 'novak': 4732, 'sander': 4733, 'neill': 4734, 'fort': 4735, 'cb': 4736, 'shepherd': 4737, 'brick': 4738, 'orphan': 4739, 'fright': 4740, 'chronolog': 4741, 'hopelessli': 4742, 'uncut': 4743, 'messi': 4744, '1986': 4745, 'su': 4746, 'montana': 4747, 'israel': 4748, 'dana': 4749, 'millionair': 4750, '28': 4751, 'errol': 4752, 'embodi': 4753, 'lengthi': 4754, 'fluid': 4755, 'wield': 4756, 'scariest': 4757, 'ranch': 4758, 'dodg': 4759, 'apocalypt': 4760, 'peculiar': 4761, 'havoc': 4762, 'hostil': 4763, 'poet': 4764, 'sooner': 4765, 'medicin': 4766, 'tenant': 4767, 'insipid': 4768, 'eater': 4769, 'spencer': 4770, 'stardom': 4771, 'aristocrat': 4772, 'nicola': 4773, 'out': 4774, 'nightclub': 4775, 'enthral': 4776, 'expedit': 4777, 'mortal': 4778, 'ballet': 4779, '1920': 4780, 'dixon': 4781, 'phenomen': 4782, 'belli': 4783, 'eyr': 4784, 'plate': 4785, 'orchestra': 4786, 'toronto': 4787, 'hepburn': 4788, 'sigh': 4789, 'blur': 4790, 'underwear': 4791, 'incorrect': 4792, 'adjust': 4793, 'whore': 4794, 'substanti': 4795, '1994': 4796, 'boyl': 4797, 'healthi': 4798, 'foil': 4799, 'intric': 4800, 'trivia': 4801, 'peril': 4802, 'fart': 4803, 'simmon': 4804, 'decay': 4805, 'ashley': 4806, 'whack': 4807, 'bitten': 4808, 'neighbour': 4809, 'karl': 4810, 'mccoy': 4811, 'appl': 4812, 'astair': 4813, 'goodby': 4814, '2008': 4815, 'coffin': 4816, 'hilar': 4817, 'obscen': 4818, 'energet': 4819, 'mick': 4820, 'recogniz': 4821, 'seymour': 4822, 'http': 4823, 'voodoo': 4824, 'disco': 4825, 'persuad': 4826, 'phenomenon': 4827, 'grass': 4828, 'anytim': 4829, 'brainless': 4830, 'cobra': 4831, 'uniformli': 4832, 'trigger': 4833, 'stray': 4834, 'affleck': 4835, 'durat': 4836, 'deputi': 4837, '1933': 4838, 'snuff': 4839, 'margin': 4840, 'sabrina': 4841, 'oppon': 4842, 'collin': 4843, 'shanghai': 4844, 'intoler': 4845, 'eh': 4846, 'homer': 4847, 'omin': 4848, 'abruptli': 4849, 'bandit': 4850, 'laurenc': 4851, 'liv': 4852, 'dim': 4853, 'liar': 4854, 'hallmark': 4855, 'python': 4856, 'visconti': 4857, 'camcord': 4858, 'shrink': 4859, 'retrospect': 4860, 'claustrophob': 4861, 'banter': 4862, 'mobil': 4863, 'moder': 4864, 'taboo': 4865, 'grief': 4866, 'rebelli': 4867, 'potter': 4868, 'greet': 4869, 'inclus': 4870, 'gilbert': 4871, 'beatl': 4872, 'sherlock': 4873, 'outlaw': 4874, 'aris': 4875, 'parrot': 4876, 'cab': 4877, 'costello': 4878, 'heartfelt': 4879, 'marc': 4880, 'syndrom': 4881, 'casper': 4882, 'stuf': 4883, 'junki': 4884, 'iv': 4885, 'longest': 4886, 'bake': 4887, 'submit': 4888, 'drab': 4889, 'sack': 4890, 'naughti': 4891, 'kumar': 4892, 'asset': 4893, 'intro': 4894, 'hammi': 4895, 'arquett': 4896, 'jacob': 4897, 'se': 4898, 'retriev': 4899, 'clay': 4900, 'shelter': 4901, 'cerebr': 4902, 'romeo': 4903, 'lester': 4904, 'miik': 4905, 'infinit': 4906, 'kidman': 4907, 'afghanistan': 4908, 'stalker': 4909, 'lush': 4910, 'outright': 4911, 'understat': 4912, 'detach': 4913, 'luxuri': 4914, 'brenda': 4915, 'meantim': 4916, 'hyper': 4917, 'fog': 4918, 'spree': 4919, '3d': 4920, 'alvin': 4921, 'gamera': 4922, 'kurtz': 4923, 'vivian': 4924, 'bum': 4925, 'puppi': 4926, 'fierc': 4927, 'slimi': 4928, 'wright': 4929, 'filter': 4930, 'preming': 4931, 'ash': 4932, 'handicap': 4933, 'rapidli': 4934, 'mutual': 4935, 'entireti': 4936, 'dustin': 4937, 'wrestler': 4938, 'hara': 4939, 'sissi': 4940, 'fascist': 4941, 'weari': 4942, 'saddl': 4943, 'tack': 4944, 'mount': 4945, 'caper': 4946, 'harrow': 4947, 'misfortun': 4948, 'speaker': 4949, 'dori': 4950, 'swept': 4951, 'thunder': 4952, 'strive': 4953, 'injustic': 4954, 'daffi': 4955, 'frozen': 4956, 'pronounc': 4957, 'sabotag': 4958, 'overblown': 4959, 'mediev': 4960, 'czech': 4961, 'wheelchair': 4962, 'envi': 4963, 'brat': 4964, 'lunat': 4965, 'elit': 4966, 'horni': 4967, 'auto': 4968, 'euro': 4969, 'artsi': 4970, 'cohen': 4971, 'subway': 4972, 'summar': 4973, 'log': 4974, 'morbid': 4975, 'breakfast': 4976, 'congratul': 4977, 'seedi': 4978, 'grinch': 4979, 'undermin': 4980, 'hopkin': 4981, 'inclin': 4982, 'ordeal': 4983, 'corey': 4984, 'crop': 4985, 'ny': 4986, 'asia': 4987, 'palanc': 4988, 'jock': 4989, 'recur': 4990, 'effici': 4991, 'horizon': 4992, '21st': 4993, 'proclaim': 4994, 'salt': 4995, 'kurosawa': 4996, 'ps': 4997, 'unsur': 4998, 'dolph': 4999}\n"
     ]
    }
   ],
   "source": [
    "# TODO: Use this space to determine the five most frequently appearing words in the training set.\n",
    "print(word_dict)"
   ]
  },
  {
   "cell_type": "markdown",
   "metadata": {
    "colab_type": "text",
    "id": "jZ2CCob8Q1gU"
   },
   "source": [
    "### Save `word_dict`\n",
    "\n",
    "Later on when we construct an endpoint which processes a submitted review we will need to make use of the `word_dict` which we have created. As such, we will save it to a file now for future use."
   ]
  },
  {
   "cell_type": "code",
   "execution_count": 16,
   "metadata": {
    "colab": {},
    "colab_type": "code",
    "id": "A3pQ30YsQ1gV"
   },
   "outputs": [],
   "source": [
    "data_dir = '../data/pytorch' # The folder we will use for storing data\n",
    "if not os.path.exists(data_dir): # Make sure that the folder exists\n",
    "    os.makedirs(data_dir)\n",
    "sample_dir = data_dir + '/sample'\n",
    "if not os.path.exists(sample_dir): # Make sure that the folder exists\n",
    "    os.makedirs(sample_dir)"
   ]
  },
  {
   "cell_type": "code",
   "execution_count": 17,
   "metadata": {
    "colab": {},
    "colab_type": "code",
    "id": "H_Fem9YxQ1gc"
   },
   "outputs": [],
   "source": [
    "with open(os.path.join(data_dir, 'word_dict.pkl'), \"wb\") as f:\n",
    "    pickle.dump(word_dict, f)\n",
    "with open(os.path.join(sample_dir, 'word_dict.pkl'), \"wb\") as f:\n",
    "    pickle.dump(word_dict, f)"
   ]
  },
  {
   "cell_type": "markdown",
   "metadata": {
    "colab_type": "text",
    "id": "y8IFWOnwQ1gh"
   },
   "source": [
    "### Transform the reviews\n",
    "\n",
    "Now that we have our word dictionary which allows us to transform the words appearing in the reviews into integers, it is time to make use of it and convert our reviews to their integer sequence representation, making sure to pad or truncate to a fixed length, which in our case is `500`."
   ]
  },
  {
   "cell_type": "code",
   "execution_count": 18,
   "metadata": {
    "colab": {},
    "colab_type": "code",
    "id": "CHRrYv1bQ1gi"
   },
   "outputs": [],
   "source": [
    "def convert_and_pad(word_dict, sentence, pad=500):\n",
    "    NOWORD = 0 # We will use 0 to represent the 'no word' category\n",
    "    INFREQ = 1 # and we use 1 to represent the infrequent words, i.e., words not appearing in word_dict\n",
    "    \n",
    "    working_sentence = [NOWORD] * pad\n",
    "    \n",
    "    for word_index, word in enumerate(sentence[:pad]):\n",
    "        if word in word_dict:\n",
    "            working_sentence[word_index] = word_dict[word]\n",
    "        else:\n",
    "            working_sentence[word_index] = INFREQ\n",
    "            \n",
    "    return working_sentence, min(len(sentence), pad)\n",
    "\n",
    "def convert_and_pad_data(word_dict, data, pad=500):\n",
    "    result = []\n",
    "    lengths = []\n",
    "    \n",
    "    for sentence in data:\n",
    "        converted, leng = convert_and_pad(word_dict, sentence, pad)\n",
    "        result.append(converted)\n",
    "        lengths.append(leng)\n",
    "        \n",
    "    return np.array(result), np.array(lengths)"
   ]
  },
  {
   "cell_type": "code",
   "execution_count": 19,
   "metadata": {
    "colab": {},
    "colab_type": "code",
    "id": "Oi-XfDFPQ1gp"
   },
   "outputs": [],
   "source": [
    "train_X, train_X_len = convert_and_pad_data(word_dict, train_X)\n",
    "valid_X, valid_X_len = convert_and_pad_data(word_dict, valid_X)\n",
    "test_X, test_X_len = convert_and_pad_data(word_dict, test_X)"
   ]
  },
  {
   "cell_type": "markdown",
   "metadata": {
    "colab_type": "text",
    "id": "9gZb_VTvQ1gs"
   },
   "source": [
    "As a quick check to make sure that things are working as intended, check to see what one of the reviews in the training set looks like after having been processeed. Does this look reasonable? What is the length of a review in the training set?"
   ]
  },
  {
   "cell_type": "code",
   "execution_count": 20,
   "metadata": {
    "colab": {
     "base_uri": "https://localhost:8080/",
     "height": 1000
    },
    "colab_type": "code",
    "id": "CsGvkwAjQ1gt",
    "outputId": "204e2cee-fc82-477e-e197-5dd1f7339433"
   },
   "outputs": [
    {
     "name": "stdout",
     "output_type": "stream",
     "text": [
      "[  29   54 2302 1195  151    1  401   52   11   14  522    1   60 1169\n",
      " 1072 4184  213  588 1072    1   33    2   17  159  535    2  637 2080\n",
      "  178 1657  545 1832 1073  163  650 3849    1  116  246 1032 1030 3584\n",
      "  126 2263    5  345    1    1  209  107  243 1368    3  293  263  517\n",
      "  107   19  719   49   18  638 3036  547    1  698    1 1422   11  638\n",
      "   26 2769  445    8   19    5 1561    1    1  320   30   17  159  137\n",
      "   33 1273  553 1394  966  180  126  509 2903   13   26 2873   60  879\n",
      "   76  200  734  466  442 1657  155  237  754   19    7  159  284 1191\n",
      " 1704 4661   13   32   32 1657  402    7  116  183  284  183  362  801\n",
      "  795  882  362  539   13    3  304  362 4888  783    3  304   15   11\n",
      " 1056   13 1056    5 1056  268   15   52   11    1  402   65  131   34\n",
      " 1890  874    2  217  115 1356   32    1 2828    1 2384 3201    1   63\n",
      "    7   32  403  115   19   67  575 2099  908 4751   90  244   60    3\n",
      " 1142  810   15   12   38 2211   21  245    3  591  273    2   45   45\n",
      "  163 1142  810 2360  388   19  534  363   21  667  625 1763  164   58\n",
      "   23 4662   59  202  121  254   66  364  980  208  117  152  121   11\n",
      "  139   16   23  444  202  551  300    0    0    0    0    0    0    0\n",
      "    0    0    0    0    0    0    0    0    0    0    0    0    0    0\n",
      "    0    0    0    0    0    0    0    0    0    0    0    0    0    0\n",
      "    0    0    0    0    0    0    0    0    0    0    0    0    0    0\n",
      "    0    0    0    0    0    0    0    0    0    0    0    0    0    0\n",
      "    0    0    0    0    0    0    0    0    0    0    0    0    0    0\n",
      "    0    0    0    0    0    0    0    0    0    0    0    0    0    0\n",
      "    0    0    0    0    0    0    0    0    0    0    0    0    0    0\n",
      "    0    0    0    0    0    0    0    0    0    0    0    0    0    0\n",
      "    0    0    0    0    0    0    0    0    0    0    0    0    0    0\n",
      "    0    0    0    0    0    0    0    0    0    0    0    0    0    0\n",
      "    0    0    0    0    0    0    0    0    0    0    0    0    0    0\n",
      "    0    0    0    0    0    0    0    0    0    0    0    0    0    0\n",
      "    0    0    0    0    0    0    0    0    0    0    0    0    0    0\n",
      "    0    0    0    0    0    0    0    0    0    0    0    0    0    0\n",
      "    0    0    0    0    0    0    0    0    0    0    0    0    0    0\n",
      "    0    0    0    0    0    0    0    0    0    0    0    0    0    0\n",
      "    0    0    0    0    0    0    0    0    0    0    0    0    0    0\n",
      "    0    0    0    0    0    0    0    0    0    0    0    0    0    0\n",
      "    0    0    0    0    0    0    0    0    0    0]\n",
      "231\n",
      "[   2   39  204  926  178    2   95   42  197   77  290 1283    7   78\n",
      "   94  143   34   16   23 1929   13  388   66   66    3    1  655  102\n",
      "  340 4970    3  797  275 1292  923 4930  149 4013  322   19    1 1187\n",
      "    1    7  132 1021 4835  622  944  136 2836  321  655  102 2611 3497\n",
      "  822  274    1    9  297    1  581 3495 1047   34    5    1 1496  503\n",
      "  412 1828  446   26    1  862  516 2083  217 4925  862 1363    1 3195\n",
      "  126   77  114  996  102  189  957  848   77  434  358   36  360  261\n",
      "  428   22 2186  223  173  153  177  655  102  131 1196    2    5 1805\n",
      "   26    2 1289  213 1196    0    0    0    0    0    0    0    0    0\n",
      "    0    0    0    0    0    0    0    0    0    0    0    0    0    0\n",
      "    0    0    0    0    0    0    0    0    0    0    0    0    0    0\n",
      "    0    0    0    0    0    0    0    0    0    0    0    0    0    0\n",
      "    0    0    0    0    0    0    0    0    0    0    0    0    0    0\n",
      "    0    0    0    0    0    0    0    0    0    0    0    0    0    0\n",
      "    0    0    0    0    0    0    0    0    0    0    0    0    0    0\n",
      "    0    0    0    0    0    0    0    0    0    0    0    0    0    0\n",
      "    0    0    0    0    0    0    0    0    0    0    0    0    0    0\n",
      "    0    0    0    0    0    0    0    0    0    0    0    0    0    0\n",
      "    0    0    0    0    0    0    0    0    0    0    0    0    0    0\n",
      "    0    0    0    0    0    0    0    0    0    0    0    0    0    0\n",
      "    0    0    0    0    0    0    0    0    0    0    0    0    0    0\n",
      "    0    0    0    0    0    0    0    0    0    0    0    0    0    0\n",
      "    0    0    0    0    0    0    0    0    0    0    0    0    0    0\n",
      "    0    0    0    0    0    0    0    0    0    0    0    0    0    0\n",
      "    0    0    0    0    0    0    0    0    0    0    0    0    0    0\n",
      "    0    0    0    0    0    0    0    0    0    0    0    0    0    0\n",
      "    0    0    0    0    0    0    0    0    0    0    0    0    0    0\n",
      "    0    0    0    0    0    0    0    0    0    0    0    0    0    0\n",
      "    0    0    0    0    0    0    0    0    0    0    0    0    0    0\n",
      "    0    0    0    0    0    0    0    0    0    0    0    0    0    0\n",
      "    0    0    0    0    0    0    0    0    0    0    0    0    0    0\n",
      "    0    0    0    0    0    0    0    0    0    0    0    0    0    0\n",
      "    0    0    0    0    0    0    0    0    0    0    0    0    0    0\n",
      "    0    0    0    0    0    0    0    0    0    0    0    0    0    0\n",
      "    0    0    0    0    0    0    0    0    0    0    0    0    0    0\n",
      "    0    0    0    0    0    0    0    0    0    0]\n",
      "117\n",
      "[2609 1113  407   25  468  555  143  753  121    3   39  653  231  263\n",
      "   17   78    3    3   35 1694 1294   12   58  188   15    3  874    1\n",
      "   43  207    3   35  176  290    6  161   48    1    3 1230    3   36\n",
      "  678  538  161 1569 2061  161   15 3086 1099  224    3 1230 1540    8\n",
      "  707    3   36  538  161   90  161 1554   20  317 1776  414 1244    0\n",
      "    0    0    0    0    0    0    0    0    0    0    0    0    0    0\n",
      "    0    0    0    0    0    0    0    0    0    0    0    0    0    0\n",
      "    0    0    0    0    0    0    0    0    0    0    0    0    0    0\n",
      "    0    0    0    0    0    0    0    0    0    0    0    0    0    0\n",
      "    0    0    0    0    0    0    0    0    0    0    0    0    0    0\n",
      "    0    0    0    0    0    0    0    0    0    0    0    0    0    0\n",
      "    0    0    0    0    0    0    0    0    0    0    0    0    0    0\n",
      "    0    0    0    0    0    0    0    0    0    0    0    0    0    0\n",
      "    0    0    0    0    0    0    0    0    0    0    0    0    0    0\n",
      "    0    0    0    0    0    0    0    0    0    0    0    0    0    0\n",
      "    0    0    0    0    0    0    0    0    0    0    0    0    0    0\n",
      "    0    0    0    0    0    0    0    0    0    0    0    0    0    0\n",
      "    0    0    0    0    0    0    0    0    0    0    0    0    0    0\n",
      "    0    0    0    0    0    0    0    0    0    0    0    0    0    0\n",
      "    0    0    0    0    0    0    0    0    0    0    0    0    0    0\n",
      "    0    0    0    0    0    0    0    0    0    0    0    0    0    0\n",
      "    0    0    0    0    0    0    0    0    0    0    0    0    0    0\n",
      "    0    0    0    0    0    0    0    0    0    0    0    0    0    0\n",
      "    0    0    0    0    0    0    0    0    0    0    0    0    0    0\n",
      "    0    0    0    0    0    0    0    0    0    0    0    0    0    0\n",
      "    0    0    0    0    0    0    0    0    0    0    0    0    0    0\n",
      "    0    0    0    0    0    0    0    0    0    0    0    0    0    0\n",
      "    0    0    0    0    0    0    0    0    0    0    0    0    0    0\n",
      "    0    0    0    0    0    0    0    0    0    0    0    0    0    0\n",
      "    0    0    0    0    0    0    0    0    0    0    0    0    0    0\n",
      "    0    0    0    0    0    0    0    0    0    0    0    0    0    0\n",
      "    0    0    0    0    0    0    0    0    0    0    0    0    0    0\n",
      "    0    0    0    0    0    0    0    0    0    0    0    0    0    0\n",
      "    0    0    0    0    0    0    0    0    0    0    0    0    0    0\n",
      "    0    0    0    0    0    0    0    0    0    0    0    0    0    0\n",
      "    0    0    0    0    0    0    0    0    0    0]\n",
      "69\n"
     ]
    }
   ],
   "source": [
    "# Use this cell to examine one of the processed reviews to make sure everything is working as intended.\n",
    "print(train_X[109])\n",
    "print(train_X_len[109])\n",
    "print(valid_X[97])\n",
    "print(valid_X_len[97])\n",
    "print(test_X[107])\n",
    "print(test_X_len[107])"
   ]
  },
  {
   "cell_type": "markdown",
   "metadata": {
    "colab_type": "text",
    "id": "UTfD56UeQ1gx"
   },
   "source": [
    "**Question:** In the cells above we use the `preprocess_data` and `convert_and_pad_data` methods to process both the training and testing set. Why or why not might this be a problem?"
   ]
  },
  {
   "cell_type": "markdown",
   "metadata": {
    "colab_type": "text",
    "id": "q2yh0_T2Q1gy"
   },
   "source": [
    "**Answer:** It shouldn't be a problem. After all the test data are simulating new real data, and after deployment the new data have to be preprocessed in the same way of the training data to be ready for the model. The important thing is that we based the dictionary only on the training data, to avoid overfitting."
   ]
  },
  {
   "cell_type": "markdown",
   "metadata": {
    "colab_type": "text",
    "id": "I5zefMNqQ1gz"
   },
   "source": [
    "## Step 3: Upload the data to S3\n",
    "\n",
    "As in the XGBoost notebook, we will need to upload the training dataset to S3 in order for our training code to access it. For now we will save it locally and we will upload to S3 later on.\n",
    "\n",
    "### Save the processed training dataset locally\n",
    "\n",
    "It is important to note the format of the data that we are saving as we will need to know it when we write the training code. In our case, each row of the dataset has the form `label`, `length`, `review[500]` where `review[500]` is a sequence of `500` integers representing the words in the review."
   ]
  },
  {
   "cell_type": "code",
   "execution_count": 21,
   "metadata": {
    "colab": {},
    "colab_type": "code",
    "id": "ELY3ZJBVQ1g0"
   },
   "outputs": [],
   "source": [
    "import pandas as pd\n",
    "    \n",
    "pd.concat([pd.DataFrame(train_y), pd.DataFrame(train_X_len), pd.DataFrame(train_X)], axis=1) \\\n",
    "        .to_csv(os.path.join(data_dir, 'train.csv'), header=False, index=False)\n",
    "pd.concat([pd.DataFrame(valid_y), pd.DataFrame(valid_X_len), pd.DataFrame(valid_X)], axis=1) \\\n",
    "        .to_csv(os.path.join(data_dir, 'validation.csv'), header=False, index=False)"
   ]
  },
  {
   "cell_type": "markdown",
   "metadata": {
    "colab_type": "text",
    "id": "k3MZezr2Q1g5"
   },
   "source": [
    "### Uploading the training data\n",
    "\n",
    "\n",
    "Next, we need to upload the training data to the SageMaker default S3 bucket so that we can provide access to it while training our model."
   ]
  },
  {
   "cell_type": "code",
   "execution_count": 22,
   "metadata": {
    "colab": {},
    "colab_type": "code",
    "id": "onpP83RwQ1g6"
   },
   "outputs": [],
   "source": [
    "import sagemaker\n",
    "\n",
    "sagemaker_session = sagemaker.Session()\n",
    "\n",
    "bucket = sagemaker_session.default_bucket()\n",
    "prefix = 'sagemaker/sentiment_rnn'\n",
    "\n",
    "role = sagemaker.get_execution_role()"
   ]
  },
  {
   "cell_type": "code",
   "execution_count": 23,
   "metadata": {
    "colab": {},
    "colab_type": "code",
    "id": "PKs39XY5Q1g_"
   },
   "outputs": [],
   "source": [
    "val_location = sagemaker_session.upload_data(os.path.join(data_dir, 'validation.csv'), bucket=bucket, key_prefix=prefix)\n",
    "input_data = sagemaker_session.upload_data(path=data_dir, bucket=bucket, key_prefix=prefix)"
   ]
  },
  {
   "cell_type": "markdown",
   "metadata": {
    "colab_type": "text",
    "id": "K2X0i0uHQ1hF"
   },
   "source": [
    "**NOTE:** The cell above uploads the entire contents of our data directory. This includes the `word_dict.pkl` file. This is fortunate as we will need this later on when we create an endpoint that accepts an arbitrary review. For now, we will just take note of the fact that it resides in the data directory (and so also in the S3 training bucket) and that we will need to make sure it gets saved in the model directory."
   ]
  },
  {
   "cell_type": "markdown",
   "metadata": {
    "colab_type": "text",
    "id": "FqP00ExxQ1hG"
   },
   "source": [
    "## Step 4: Build and Train the PyTorch Model\n",
    "\n",
    "In the XGBoost notebook we discussed what a model is in the SageMaker framework. In particular, a model comprises three objects\n",
    "\n",
    " - Model Artifacts,\n",
    " - Training Code, and\n",
    " - Inference Code,\n",
    " \n",
    "each of which interact with one another. In the XGBoost example we used training and inference code that was provided by Amazon. Here we will still be using containers provided by Amazon with the added benefit of being able to include our own custom code.\n",
    "\n",
    "We will start by implementing our own neural network in PyTorch along with a training script. For the purposes of this project we have provided the necessary model object in the `model.py` file, inside of the `train` folder. You can see the provided implementation by running the cell below."
   ]
  },
  {
   "cell_type": "code",
   "execution_count": 24,
   "metadata": {
    "colab": {
     "base_uri": "https://localhost:8080/",
     "height": 971
    },
    "colab_type": "code",
    "id": "F9k7BNOGQ1hH",
    "outputId": "6edf008c-8a69-4605-cae8-578bf64a3da8"
   },
   "outputs": [
    {
     "name": "stdout",
     "output_type": "stream",
     "text": [
      "\u001b[34mimport\u001b[39;49;00m \u001b[04m\u001b[36mtorch.nn\u001b[39;49;00m \u001b[34mas\u001b[39;49;00m \u001b[04m\u001b[36mnn\u001b[39;49;00m\r\n",
      "\u001b[34mimport\u001b[39;49;00m \u001b[04m\u001b[36mtorch\u001b[39;49;00m\r\n",
      "\r\n",
      "\u001b[34mclass\u001b[39;49;00m \u001b[04m\u001b[32mLSTMClassifier\u001b[39;49;00m(nn.Module):\r\n",
      "    \u001b[33m\"\"\"\u001b[39;49;00m\r\n",
      "\u001b[33m    This is the simple RNN model we will be using to perform Sentiment Analysis.\u001b[39;49;00m\r\n",
      "\u001b[33m    \"\"\"\u001b[39;49;00m\r\n",
      "\r\n",
      "    \u001b[34mdef\u001b[39;49;00m \u001b[32m__init__\u001b[39;49;00m(\u001b[36mself\u001b[39;49;00m, embedding_dim, hidden_dim, vocab_size, n_layers=\u001b[34m2\u001b[39;49;00m, in_dropout=\u001b[34m0.5\u001b[39;49;00m, lstm_dropout=\u001b[34m0.8\u001b[39;49;00m):\r\n",
      "        \u001b[33m\"\"\"\u001b[39;49;00m\r\n",
      "\u001b[33m        Initialize the model by settingg up the various layers.\u001b[39;49;00m\r\n",
      "\u001b[33m        \"\"\"\u001b[39;49;00m\r\n",
      "        \u001b[36msuper\u001b[39;49;00m(LSTMClassifier, \u001b[36mself\u001b[39;49;00m).\u001b[32m__init__\u001b[39;49;00m()\r\n",
      "\r\n",
      "        \u001b[36mself\u001b[39;49;00m.n_layers=n_layers\r\n",
      "        \u001b[36mself\u001b[39;49;00m.hidden_dim=hidden_dim\r\n",
      "        \u001b[36mself\u001b[39;49;00m.h0 = torch.nn.Parameter(torch.randn((\u001b[34m2\u001b[39;49;00m*n_layers, \u001b[34m1\u001b[39;49;00m, hidden_dim),requires_grad=\u001b[36mTrue\u001b[39;49;00m))\r\n",
      "        \u001b[36mself\u001b[39;49;00m.c0 = torch.nn.Parameter(torch.randn((\u001b[34m2\u001b[39;49;00m*n_layers, \u001b[34m1\u001b[39;49;00m, hidden_dim),requires_grad=\u001b[36mTrue\u001b[39;49;00m))\r\n",
      "        \u001b[36mself\u001b[39;49;00m.embedding = nn.Embedding(vocab_size, embedding_dim, padding_idx=\u001b[34m0\u001b[39;49;00m)\r\n",
      "        \u001b[36mself\u001b[39;49;00m.dropout = nn.Dropout(p=in_dropout)\r\n",
      "        \u001b[36mself\u001b[39;49;00m.lstm = nn.LSTM(embedding_dim, hidden_dim, num_layers=n_layers, dropout=lstm_dropout, bidirectional=\u001b[36mTrue\u001b[39;49;00m)\r\n",
      "        \u001b[36mself\u001b[39;49;00m.norm1 = nn.BatchNorm1d(\u001b[34m2\u001b[39;49;00m*hidden_dim)\r\n",
      "        \u001b[36mself\u001b[39;49;00m.dense = nn.Linear(\u001b[34m2\u001b[39;49;00m*hidden_dim, hidden_dim)\r\n",
      "        \u001b[36mself\u001b[39;49;00m.norm2 = nn.BatchNorm1d(hidden_dim)\r\n",
      "        \u001b[36mself\u001b[39;49;00m.classifier = nn.Linear(hidden_dim, \u001b[34m1\u001b[39;49;00m)\r\n",
      "        \u001b[36mself\u001b[39;49;00m.sig = nn.Sigmoid()\r\n",
      "        \r\n",
      "        \u001b[36mself\u001b[39;49;00m.word_dict = \u001b[36mNone\u001b[39;49;00m\r\n",
      "\r\n",
      "    \u001b[34mdef\u001b[39;49;00m \u001b[32mforward\u001b[39;49;00m(\u001b[36mself\u001b[39;49;00m, x):\r\n",
      "        \u001b[33m\"\"\"\u001b[39;49;00m\r\n",
      "\u001b[33m        Perform a forward pass of our model on some input.\u001b[39;49;00m\r\n",
      "\u001b[33m        \"\"\"\u001b[39;49;00m\r\n",
      "        \u001b[37m#print('input: {}'.format(x.shape))\u001b[39;49;00m\r\n",
      "        x = x.t() \u001b[37m#TF: because batch_first=False\u001b[39;49;00m\r\n",
      "        \u001b[37m#print('transposed: {}'.format(x.shape))\u001b[39;49;00m\r\n",
      "        lengths = x[\u001b[34m0\u001b[39;49;00m,:]\r\n",
      "        reviews = x[\u001b[34m1\u001b[39;49;00m:,:]\r\n",
      "        \u001b[37m#print('reviews: {}'.format(reviews.shape))\u001b[39;49;00m\r\n",
      "        fixed_length = reviews.shape[\u001b[34m0\u001b[39;49;00m]\r\n",
      "        batch_size=reviews.shape[\u001b[34m1\u001b[39;49;00m]\r\n",
      "        embeds = \u001b[36mself\u001b[39;49;00m.embedding(reviews)\r\n",
      "        embeds = \u001b[36mself\u001b[39;49;00m.dropout(embeds)\r\n",
      "        \u001b[37m#print('embedded: {}'.format(embeds.shape))\u001b[39;49;00m\r\n",
      "        \u001b[37m#TF: use learnable hidden state. i don't need the updated hidden because every review has his own history\u001b[39;49;00m\r\n",
      "        lstm_out, _ = \u001b[36mself\u001b[39;49;00m.lstm(embeds, (\u001b[36mself\u001b[39;49;00m.h0.repeat(\u001b[34m1\u001b[39;49;00m, batch_size, \u001b[34m1\u001b[39;49;00m), \r\n",
      "                                         \u001b[36mself\u001b[39;49;00m.c0.repeat(\u001b[34m1\u001b[39;49;00m, batch_size, \u001b[34m1\u001b[39;49;00m)))        \r\n",
      "        \u001b[37m#print('lstm out: {}'.format(lstm_out.shape))\u001b[39;49;00m\r\n",
      "        temp_out = lstm_out.view(fixed_length, batch_size, \u001b[34m2\u001b[39;49;00m, \u001b[36mself\u001b[39;49;00m.hidden_dim) \u001b[37m#reshape to separate the two directions\u001b[39;49;00m\r\n",
      "        \u001b[37m#print('lstm out after separation: {}'.format(temp_out.shape))\u001b[39;49;00m\r\n",
      "        \u001b[37m#TF: concatenate the last significative output of the right lstm (lenghts-1) with the last output of the left lstm (0)\u001b[39;49;00m\r\n",
      "        out = torch.cat((temp_out[-\u001b[34m1\u001b[39;49;00m, :, \u001b[34m0\u001b[39;49;00m, :], temp_out[\u001b[34m0\u001b[39;49;00m, :, \u001b[34m1\u001b[39;49;00m, :]), \u001b[34m1\u001b[39;49;00m).squeeze()        \r\n",
      "        \u001b[37m#print('resulting output after lstm: {}'.format(out.shape))\u001b[39;49;00m\r\n",
      "        out = \u001b[36mself\u001b[39;49;00m.norm1(out)\r\n",
      "        \u001b[37m#print('after batchnorm1: {}'.format(out.shape))\u001b[39;49;00m\r\n",
      "        out = \u001b[36mself\u001b[39;49;00m.dense(out)\r\n",
      "        \u001b[37m#print('after fc1: {}'.format(out.shape))\u001b[39;49;00m\r\n",
      "        out = \u001b[36mself\u001b[39;49;00m.norm2(out)\r\n",
      "        \u001b[37m#print('after batchnorm2: {}'.format(out.shape))\u001b[39;49;00m\r\n",
      "        out = \u001b[36mself\u001b[39;49;00m.classifier(out)\r\n",
      "        \u001b[37m#print('after classifier: {}'.format(out.shape))\u001b[39;49;00m\r\n",
      "        out = out.view(batch_size, -\u001b[34m1\u001b[39;49;00m, \u001b[34m1\u001b[39;49;00m)\r\n",
      "        \u001b[37m#print('predictions reshaped: {}'.format(out.shape))\u001b[39;49;00m\r\n",
      "        \u001b[37m#out = out[lengths - 1, range(len(lengths))].squeeze()\u001b[39;49;00m\r\n",
      "        \u001b[37m#print('prediction filtered: {}'.format(out.shape))\u001b[39;49;00m\r\n",
      "        out = \u001b[36mself\u001b[39;49;00m.sig(out).squeeze()\r\n",
      "        \u001b[37m#print('after sigmoid: {}'.format(out.shape))\u001b[39;49;00m\r\n",
      "        \u001b[34mreturn\u001b[39;49;00m out\r\n"
     ]
    }
   ],
   "source": [
    "!pygmentize train/model.py"
   ]
  },
  {
   "cell_type": "markdown",
   "metadata": {
    "colab_type": "text",
    "id": "6mSzVK_jQ1hM"
   },
   "source": [
    "The important takeaway from the implementation provided is that there are three parameters that we may wish to tweak to improve the performance of our model. These are the embedding dimension, the hidden dimension and the size of the vocabulary. We will likely want to make these parameters configurable in the training script so that if we wish to modify them we do not need to modify the script itself. We will see how to do this later on. To start we will write some of the training code in the notebook so that we can more easily diagnose any issues that arise.\n",
    "\n",
    "First we will load a small portion of the training data set to use as a sample. It would be very time consuming to try and train the model completely in the notebook as we do not have access to a gpu and the compute instance that we are using is not particularly powerful. However, we can work on a small bit of the data to get a feel for how our training script is behaving."
   ]
  },
  {
   "cell_type": "code",
   "execution_count": 25,
   "metadata": {
    "colab": {},
    "colab_type": "code",
    "id": "1VkWhrDSQ1hN"
   },
   "outputs": [],
   "source": [
    "import torch\n",
    "import torch.utils.data\n",
    "import pandas as pd\n",
    "\n",
    "# Read in only the first 250 rows\n",
    "train_sample = pd.read_csv(os.path.join(data_dir, 'train.csv'), header=None, names=None, nrows=250)\n",
    "valid_sample = pd.read_csv(os.path.join(data_dir, 'validation.csv'), header=None, names=None, nrows=250)\n",
    "#TF: create csv for the samples to test the hyperparameter tuning\n",
    "train_sample.to_csv(os.path.join(sample_dir, 'train.csv'), header=False, index=False)\n",
    "valid_sample.to_csv(os.path.join(sample_dir, 'validation.csv'), header=False, index=False)\n",
    "\n",
    "sample_prefix = prefix + '/sample'\n",
    "sample_val_location = sagemaker_session.upload_data(os.path.join(sample_dir, 'validation.csv'), bucket=bucket, key_prefix=sample_prefix)\n",
    "sample_input_data = sagemaker_session.upload_data(path=sample_dir, bucket=bucket, key_prefix=sample_prefix)\n",
    "\n",
    "# Turn the input pandas dataframe into tensors\n",
    "train_sample_y = torch.from_numpy(train_sample[[0]].values).float().squeeze()\n",
    "train_sample_X = torch.from_numpy(train_sample.drop([0], axis=1).values).long()\n",
    "valid_sample_y = torch.from_numpy(valid_sample[[0]].values).float().squeeze()\n",
    "valid_sample_X = torch.from_numpy(valid_sample.drop([0], axis=1).values).long()\n",
    "\n",
    "# Build the dataset\n",
    "train_sample_ds = torch.utils.data.TensorDataset(train_sample_X, train_sample_y)\n",
    "valid_sample_ds = torch.utils.data.TensorDataset(valid_sample_X, valid_sample_y)\n",
    "# Build the dataloader\n",
    "train_sample_dl = torch.utils.data.DataLoader(train_sample_ds, batch_size=50)\n",
    "valid_sample_dl = torch.utils.data.DataLoader(valid_sample_ds, batch_size=50)"
   ]
  },
  {
   "cell_type": "markdown",
   "metadata": {
    "colab_type": "text",
    "id": "Po4pwlOVQ1hR"
   },
   "source": [
    "### (TODO) Writing the training method\n",
    "\n",
    "Next we need to write the training code itself. This should be very similar to training methods that you have written before to train PyTorch models. We will leave any difficult aspects such as model saving / loading and parameter loading until a little later."
   ]
  },
  {
   "cell_type": "code",
   "execution_count": 26,
   "metadata": {
    "colab": {},
    "colab_type": "code",
    "id": "CtHwfwZcQ1hS"
   },
   "outputs": [],
   "source": [
    "import sys\n",
    "\n",
    "def local_train(model, train_loader, valid_loader, epochs, early_stopping_rounds, optimizer, loss_fn, device):\n",
    "    \"\"\"\n",
    "    This is the training method that is called by the PyTorch training script. The parameters\n",
    "    passed are as follows:\n",
    "    model        - The PyTorch model that we wish to train.\n",
    "    train_loader - The PyTorch DataLoader that should be used during training.\n",
    "    valid_loader - The PyTorch DataLoader that should be used for validation.\n",
    "    epochs       - The total number of epochs to train for.\n",
    "    optimizer    - The optimizer to use during training.\n",
    "    loss_fn      - The loss function used for training.\n",
    "    device       - Where the model and data should be loaded (gpu or cpu).\n",
    "    \"\"\"\n",
    "    \n",
    "    # TODO: Paste the train() method developed in the notebook here.\n",
    "    batch_size = next(iter(train_loader))[0].shape[0]\n",
    "    #TF: for early stopping\n",
    "    bad_rounds=0\n",
    "    last_valid_loss=np.Inf\n",
    "    #TF: for checkpoint\n",
    "    best_valid_loss=np.Inf\n",
    "    checkpoint_valid_acc=0\n",
    "    model_checkpoint=model\n",
    "    \n",
    "    for epoch in range(1, epochs + 1):\n",
    "        if bad_rounds == early_stopping_rounds:\n",
    "            break\n",
    "        sys.stdout.write(\"Starting Epoch {}\\n\".format(epoch))\n",
    "        model.train()\n",
    "        total_loss = 0\n",
    "        for batch in train_loader:         \n",
    "            batch_X, batch_y = batch\n",
    "            \n",
    "            batch_X = batch_X.to(device)\n",
    "            batch_y = batch_y.to(device)\n",
    "            \n",
    "            # TODO: Complete this train method to train the model provided.\n",
    "            model.zero_grad()\n",
    "            pred_y = model(batch_X)\n",
    "            loss = loss_fn(pred_y, batch_y)\n",
    "            loss.backward()\n",
    "            optimizer.step()           \n",
    "            total_loss += loss.data.item()            \n",
    "        sys.stdout.write(\"Epoch: {}, Training_Loss: {}\\n\".format(epoch, total_loss / len(train_loader)))\n",
    "        \n",
    "        model.eval()\n",
    "        total_loss = 0\n",
    "        num_correct = 0\n",
    "        for batch in valid_loader:         \n",
    "            batch_X, batch_y = batch\n",
    "            \n",
    "            batch_X = batch_X.to(device)\n",
    "            batch_y = batch_y.to(device)\n",
    "            \n",
    "            pred_y = model(batch_X)\n",
    "            loss = loss_fn(pred_y, batch_y)                    \n",
    "            total_loss += loss.data.item()            \n",
    "            # convert output probabilities to predicted class (0 or 1)\n",
    "            pred = torch.round(pred_y.squeeze())\n",
    "            pred = pred.to(device)\n",
    "    \n",
    "            # compare predictions to true label\n",
    "            correct_tensor = pred.eq(batch_y.float().view_as(pred))\n",
    "            correct = np.squeeze(correct_tensor.cpu().numpy())\n",
    "            num_correct += np.sum(correct)\n",
    "            valid_loss = total_loss / len(valid_loader)\n",
    "            valid_acc = num_correct / len(valid_loader.dataset)\n",
    "        sys.stdout.write(\"Epoch: {}, Validation_Loss: {}\\n\".format(epoch, valid_loss))\n",
    "        sys.stdout.write(\"Epoch: {}, Validation_Accuracy: {}\\n\".format(epoch, valid_acc))\n",
    "        if valid_loss <= last_valid_loss:\n",
    "            bad_rounds = 0\n",
    "        else:\n",
    "            bad_rounds += 1\n",
    "        last_valid_loss = valid_loss\n",
    "        if valid_loss <= best_valid_loss:\n",
    "            best_valid_loss=valid_loss   \n",
    "            checkpoint_valid_acc=valid_acc\n",
    "            model_checkpoint=model\n",
    "    sys.stdout.write(\"Final_Validation_Loss: {}\\n\".format(best_valid_loss))\n",
    "    sys.stdout.write(\"Final_Validation_Accuracy: {}\\n\".format(checkpoint_valid_acc))\n",
    "    model=model_checkpoint"
   ]
  },
  {
   "cell_type": "markdown",
   "metadata": {
    "colab_type": "text",
    "id": "_wlV0NQ0Q1hW"
   },
   "source": [
    "Supposing we have the training method above, we will test that it is working by writing a bit of code in the notebook that executes our training method on the small sample training set that we loaded earlier. The reason for doing this in the notebook is so that we have an opportunity to fix any errors that arise early when they are easier to diagnose."
   ]
  },
  {
   "cell_type": "code",
   "execution_count": 27,
   "metadata": {
    "colab": {
     "base_uri": "https://localhost:8080/",
     "height": 1000
    },
    "colab_type": "code",
    "id": "SrZssMliQ1hX",
    "outputId": "bfc9a2f9-f408-4a9f-db04-98e499194019"
   },
   "outputs": [
    {
     "name": "stdout",
     "output_type": "stream",
     "text": [
      "Starting Epoch 1\n",
      "Epoch: 1, Training_Loss: 0.7482645273208618\n",
      "Epoch: 1, Validation_Loss: 0.6968205690383911\n",
      "Epoch: 1, Validation_Accuracy: 0.468\n",
      "Starting Epoch 2\n",
      "Epoch: 2, Training_Loss: 0.755924916267395\n",
      "Epoch: 2, Validation_Loss: 0.6958762526512146\n",
      "Epoch: 2, Validation_Accuracy: 0.468\n",
      "Starting Epoch 3\n",
      "Epoch: 3, Training_Loss: 0.7449337840080261\n",
      "Epoch: 3, Validation_Loss: 0.6955542683601379\n",
      "Epoch: 3, Validation_Accuracy: 0.468\n",
      "Starting Epoch 4\n",
      "Epoch: 4, Training_Loss: 0.7225627064704895\n",
      "Epoch: 4, Validation_Loss: 0.6937081575393677\n",
      "Epoch: 4, Validation_Accuracy: 0.46\n",
      "Starting Epoch 5\n",
      "Epoch: 5, Training_Loss: 0.6829575419425964\n",
      "Epoch: 5, Validation_Loss: 0.6922082781791687\n",
      "Epoch: 5, Validation_Accuracy: 0.484\n",
      "Final_Validation_Loss: 0.6922082781791687\n",
      "Final_Validation_Accuracy: 0.484\n"
     ]
    }
   ],
   "source": [
    "import torch.optim as optim\n",
    "import importlib\n",
    "import train\n",
    "from train.model import LSTMClassifier\n",
    "importlib.reload(train.model)\n",
    "\n",
    "\n",
    "device = torch.device(\"cuda\" if torch.cuda.is_available() else \"cpu\")\n",
    "model = train.model.LSTMClassifier(32, 100, 5000).to(device)\n",
    "optimizer = optim.Adam(model.parameters())\n",
    "loss_fn = torch.nn.BCELoss()\n",
    "\n",
    "local_train(model, train_sample_dl, valid_sample_dl, 5, 3, optimizer, loss_fn, device)"
   ]
  },
  {
   "cell_type": "markdown",
   "metadata": {
    "colab_type": "text",
    "id": "Nv-YX4kHQ1hc"
   },
   "source": [
    "In order to construct a PyTorch model using SageMaker we must provide SageMaker with a training script. We may optionally include a directory which will be copied to the container and from which our training code will be run. When the training container is executed it will check the uploaded directory (if there is one) for a `requirements.txt` file and install any required Python libraries, after which the training script will be run."
   ]
  },
  {
   "cell_type": "markdown",
   "metadata": {
    "colab_type": "text",
    "id": "nQSwGSIAQ1hd"
   },
   "source": [
    "### (TODO) Training the model\n",
    "\n",
    "When a PyTorch model is constructed in SageMaker, an entry point must be specified. This is the Python file which will be executed when the model is trained. Inside of the `train` directory is a file called `train.py` which has been provided and which contains most of the necessary code to train our model. The only thing that is missing is the implementation of the `train()` method which you wrote earlier in this notebook.\n",
    "\n",
    "**TODO**: Copy the `train()` method written above and paste it into the `train/train.py` file where required.\n",
    "\n",
    "The way that SageMaker passes hyperparameters to the training script is by way of arguments. These arguments can then be parsed and used in the training script. To see how this is done take a look at the provided `train/train.py` file."
   ]
  },
  {
   "cell_type": "code",
   "execution_count": 32,
   "metadata": {
    "colab": {},
    "colab_type": "code",
    "id": "M8HjVEVxQ1he"
   },
   "outputs": [],
   "source": [
    "from sagemaker.pytorch import PyTorch\n",
    "\n",
    "estimator = PyTorch(entry_point=\"train.py\",\n",
    "                    source_dir=\"train\",\n",
    "                    role=role,\n",
    "                    framework_version='0.4.0',\n",
    "                    train_instance_count=1,\n",
    "                    train_instance_type='ml.p2.xlarge',\n",
    "                    hyperparameters={\n",
    "                        'epochs': 15,\n",
    "                        'batch-size': 128,\n",
    "                        'embedding_dim': 64,\n",
    "                        'hidden_dim': 200,\n",
    "                        'lr': 0.001,\n",
    "                        'early_stopping_rounds': 3,\n",
    "                    })\n",
    "\n",
    "# First, make sure to import the relevant objects used to construct the tuner\n",
    "from sagemaker.tuner import IntegerParameter, ContinuousParameter, HyperparameterTuner\n",
    "\n",
    "objective_metric_name = 'Validation-loss'\n",
    "metric_definitions = [{'Name': 'Training-loss',\n",
    "                       'Regex': 'Training_Loss: ([0-9\\\\.]+)'},\n",
    "                      {'Name': 'Validation-accuracy',\n",
    "                       'Regex': 'Validation_Accuracy: ([0-9\\\\.]+)'},\n",
    "                      {'Name': 'Validation-loss',\n",
    "                       'Regex': 'Validation_Loss: ([0-9\\\\.]+)'}]\n",
    "\n",
    "estimator_hyperparameter_tuner = HyperparameterTuner(estimator = estimator, # The estimator object to use as the basis for the training jobs.\n",
    "                                               objective_metric_name = objective_metric_name, # The metric used to compare trained models.\n",
    "                                               metric_definitions=metric_definitions,\n",
    "                                               objective_type = 'Minimize', # Whether we wish to minimize or maximize the metric.\n",
    "                                               max_jobs = 12, # The total number of models to train\n",
    "                                               max_parallel_jobs = 3, # The number of models to train in parallel\n",
    "                                               hyperparameter_ranges = {\n",
    "                                                   'hidden_dim': IntegerParameter(150, 200),\n",
    "                                                   'embedding_dim': IntegerParameter(32, 128),\n",
    "                                                   'lr': ContinuousParameter(0.001, 0.01),                                                   \n",
    "                                               },\n",
    "                                               early_stopping_type='Auto')"
   ]
  },
  {
   "cell_type": "code",
   "execution_count": 33,
   "metadata": {
    "colab": {},
    "colab_type": "code",
    "id": "GWse5rJ2Q1hl"
   },
   "outputs": [
    {
     "name": "stdout",
     "output_type": "stream",
     "text": [
      "................................................................................................................................................................................................................................................................................................................................................................................................................................................................................................................................................................................................................................................................................................................................................................................................................................................................................................................................................................................................................................................................................................................................................................................................................................................................................................................................................................................................................................................................................................................................................................................................................................................................................................................................................................................................!\n"
     ]
    }
   ],
   "source": [
    "estimator_hyperparameter_tuner.fit({'training': input_data, 'validation': val_location})\n",
    "#estimator_hyperparameter_tuner.fit({'training': sample_input_data, 'validation': sample_val_location})\n",
    "estimator_hyperparameter_tuner.wait()"
   ]
  },
  {
   "cell_type": "code",
   "execution_count": 34,
   "metadata": {},
   "outputs": [
    {
     "name": "stdout",
     "output_type": "stream",
     "text": [
      "2020-04-07 09:40:17 Starting - Preparing the instances for training\n",
      "2020-04-07 09:40:17 Downloading - Downloading input data\n",
      "2020-04-07 09:40:17 Training - Training image download completed. Training in progress.\n",
      "2020-04-07 09:40:17 Uploading - Uploading generated training model\n",
      "2020-04-07 09:40:17 Completed - Training job completed\u001b[34mbash: cannot set terminal process group (-1): Inappropriate ioctl for device\u001b[0m\n",
      "\u001b[34mbash: no job control in this shell\u001b[0m\n",
      "\u001b[34m2020-04-07 08:59:51,575 sagemaker-containers INFO     Imported framework sagemaker_pytorch_container.training\u001b[0m\n",
      "\u001b[34m2020-04-07 08:59:51,576 sagemaker-containers INFO     Failed to parse hyperparameter _tuning_objective_metric value Validation-loss to Json.\u001b[0m\n",
      "\u001b[34mReturning the value itself\u001b[0m\n",
      "\u001b[34m2020-04-07 08:59:51,601 sagemaker_pytorch_container.training INFO     Block until all host DNS lookups succeed.\u001b[0m\n",
      "\u001b[34m2020-04-07 08:59:53,026 sagemaker_pytorch_container.training INFO     Invoking user training script.\u001b[0m\n",
      "\u001b[34m2020-04-07 08:59:53,277 sagemaker-containers INFO     Module train does not provide a setup.py. \u001b[0m\n",
      "\u001b[34mGenerating setup.py\u001b[0m\n",
      "\u001b[34m2020-04-07 08:59:53,278 sagemaker-containers INFO     Generating setup.cfg\u001b[0m\n",
      "\u001b[34m2020-04-07 08:59:53,278 sagemaker-containers INFO     Generating MANIFEST.in\u001b[0m\n",
      "\u001b[34m2020-04-07 08:59:53,278 sagemaker-containers INFO     Installing module with the following command:\u001b[0m\n",
      "\u001b[34m/usr/bin/python -m pip install -U . -r requirements.txt\u001b[0m\n",
      "\u001b[34mProcessing /opt/ml/code\u001b[0m\n",
      "\u001b[34mCollecting pandas (from -r requirements.txt (line 1))\n",
      "  Downloading https://files.pythonhosted.org/packages/74/24/0cdbf8907e1e3bc5a8da03345c23cbed7044330bb8f73bb12e711a640a00/pandas-0.24.2-cp35-cp35m-manylinux1_x86_64.whl (10.0MB)\u001b[0m\n",
      "\u001b[34mCollecting numpy (from -r requirements.txt (line 2))\u001b[0m\n",
      "\u001b[34m  Downloading https://files.pythonhosted.org/packages/ff/18/c0b937e2f84095ae230196899e56d1d7d76c8e8424fb235ed7e5bb6d68af/numpy-1.18.2-cp35-cp35m-manylinux1_x86_64.whl (20.0MB)\u001b[0m\n",
      "\u001b[34mCollecting nltk (from -r requirements.txt (line 3))\n",
      "  Downloading https://files.pythonhosted.org/packages/f6/1d/d925cfb4f324ede997f6d47bea4d9babba51b49e87a767c170b77005889d/nltk-3.4.5.zip (1.5MB)\u001b[0m\n",
      "\u001b[34mCollecting beautifulsoup4 (from -r requirements.txt (line 4))\n",
      "  Downloading https://files.pythonhosted.org/packages/e8/b5/7bb03a696f2c9b7af792a8f51b82974e51c268f15e925fc834876a4efa0b/beautifulsoup4-4.9.0-py3-none-any.whl (109kB)\u001b[0m\n",
      "\u001b[34mCollecting html5lib (from -r requirements.txt (line 5))\n",
      "  Downloading https://files.pythonhosted.org/packages/a5/62/bbd2be0e7943ec8504b517e62bab011b4946e1258842bc159e5dfde15b96/html5lib-1.0.1-py2.py3-none-any.whl (117kB)\u001b[0m\n",
      "\u001b[34mRequirement already satisfied, skipping upgrade: python-dateutil>=2.5.0 in /usr/local/lib/python3.5/dist-packages (from pandas->-r requirements.txt (line 1)) (2.7.5)\u001b[0m\n",
      "\u001b[34mCollecting pytz>=2011k (from pandas->-r requirements.txt (line 1))\n",
      "  Downloading https://files.pythonhosted.org/packages/e7/f9/f0b53f88060247251bf481fa6ea62cd0d25bf1b11a87888e53ce5b7c8ad2/pytz-2019.3-py2.py3-none-any.whl (509kB)\u001b[0m\n",
      "\u001b[34mRequirement already satisfied, skipping upgrade: six in /usr/local/lib/python3.5/dist-packages (from nltk->-r requirements.txt (line 3)) (1.11.0)\u001b[0m\n",
      "\u001b[34mCollecting soupsieve>1.2 (from beautifulsoup4->-r requirements.txt (line 4))\n",
      "  Downloading https://files.pythonhosted.org/packages/05/cf/ea245e52f55823f19992447b008bcbb7f78efc5960d77f6c34b5b45b36dd/soupsieve-2.0-py2.py3-none-any.whl\u001b[0m\n",
      "\u001b[34mCollecting webencodings (from html5lib->-r requirements.txt (line 5))\u001b[0m\n",
      "\u001b[34m  Downloading https://files.pythonhosted.org/packages/f4/24/2a3e3df732393fed8b3ebf2ec078f05546de641fe1b667ee316ec1dcf3b7/webencodings-0.5.1-py2.py3-none-any.whl\u001b[0m\n",
      "\u001b[34mBuilding wheels for collected packages: nltk, train\n",
      "  Running setup.py bdist_wheel for nltk: started\n",
      "  Running setup.py bdist_wheel for nltk: finished with status 'done'\n",
      "  Stored in directory: /root/.cache/pip/wheels/96/86/f6/68ab24c23f207c0077381a5e3904b2815136b879538a24b483\n",
      "  Running setup.py bdist_wheel for train: started\u001b[0m\n",
      "\u001b[34m  Running setup.py bdist_wheel for train: finished with status 'done'\n",
      "  Stored in directory: /tmp/pip-ephem-wheel-cache-meq9wz23/wheels/35/24/16/37574d11bf9bde50616c67372a334f94fa8356bc7164af8ca3\u001b[0m\n",
      "\u001b[34mSuccessfully built nltk train\u001b[0m\n",
      "\u001b[34mInstalling collected packages: numpy, pytz, pandas, nltk, soupsieve, beautifulsoup4, webencodings, html5lib, train\n",
      "  Found existing installation: numpy 1.15.4\n",
      "    Uninstalling numpy-1.15.4:\u001b[0m\n",
      "\u001b[34m      Successfully uninstalled numpy-1.15.4\u001b[0m\n",
      "\u001b[34mSuccessfully installed beautifulsoup4-4.9.0 html5lib-1.0.1 nltk-3.4.5 numpy-1.18.2 pandas-0.24.2 pytz-2019.3 soupsieve-2.0 train-1.0.0 webencodings-0.5.1\u001b[0m\n",
      "\u001b[34mYou are using pip version 18.1, however version 20.0.2 is available.\u001b[0m\n",
      "\u001b[34mYou should consider upgrading via the 'pip install --upgrade pip' command.\u001b[0m\n",
      "\u001b[34m2020-04-07 09:00:06,051 sagemaker-containers INFO     Failed to parse hyperparameter _tuning_objective_metric value Validation-loss to Json.\u001b[0m\n",
      "\u001b[34mReturning the value itself\u001b[0m\n",
      "\u001b[34m2020-04-07 09:00:06,078 sagemaker-containers INFO     Invoking user script\n",
      "\u001b[0m\n",
      "\u001b[34mTraining Env:\n",
      "\u001b[0m\n",
      "\u001b[34m{\n",
      "    \"current_host\": \"algo-1\",\n",
      "    \"module_name\": \"train\",\n",
      "    \"input_config_dir\": \"/opt/ml/input/config\",\n",
      "    \"channel_input_dirs\": {\n",
      "        \"training\": \"/opt/ml/input/data/training\",\n",
      "        \"validation\": \"/opt/ml/input/data/validation\"\n",
      "    },\n",
      "    \"module_dir\": \"s3://sagemaker-us-east-2-721636405847/sagemaker-pytorch-2020-04-07-08-07-12-014/source/sourcedir.tar.gz\",\n",
      "    \"log_level\": 20,\n",
      "    \"output_intermediate_dir\": \"/opt/ml/output/intermediate\",\n",
      "    \"resource_config\": {\n",
      "        \"current_host\": \"algo-1\",\n",
      "        \"network_interface_name\": \"eth0\",\n",
      "        \"hosts\": [\n",
      "            \"algo-1\"\n",
      "        ]\n",
      "    },\n",
      "    \"output_dir\": \"/opt/ml/output\",\n",
      "    \"user_entry_point\": \"train.py\",\n",
      "    \"network_interface_name\": \"eth0\",\n",
      "    \"input_data_config\": {\n",
      "        \"training\": {\n",
      "            \"RecordWrapperType\": \"None\",\n",
      "            \"TrainingInputMode\": \"File\",\n",
      "            \"S3DistributionType\": \"FullyReplicated\"\n",
      "        },\n",
      "        \"validation\": {\n",
      "            \"RecordWrapperType\": \"None\",\n",
      "            \"TrainingInputMode\": \"File\",\n",
      "            \"S3DistributionType\": \"FullyReplicated\"\n",
      "        }\n",
      "    },\n",
      "    \"num_gpus\": 1,\n",
      "    \"job_name\": \"sagemaker-pytorch-200407-0807-009-df093bf6\",\n",
      "    \"additional_framework_parameters\": {\n",
      "        \"sagemaker_estimator_class_name\": \"PyTorch\",\n",
      "        \"sagemaker_estimator_module\": \"sagemaker.pytorch.estimator\"\n",
      "    },\n",
      "    \"input_dir\": \"/opt/ml/input\",\n",
      "    \"framework_module\": \"sagemaker_pytorch_container.training:main\",\n",
      "    \"num_cpus\": 4,\n",
      "    \"hosts\": [\n",
      "        \"algo-1\"\n",
      "    ],\n",
      "    \"model_dir\": \"/opt/ml/model\",\n",
      "    \"hyperparameters\": {\n",
      "        \"hidden_dim\": 177,\n",
      "        \"epochs\": 15,\n",
      "        \"early_stopping_rounds\": 3,\n",
      "        \"embedding_dim\": 119,\n",
      "        \"batch-size\": 128,\n",
      "        \"lr\": 0.0035637927010158748\n",
      "    },\n",
      "    \"output_data_dir\": \"/opt/ml/output/data\"\u001b[0m\n",
      "\u001b[34m}\n",
      "\u001b[0m\n",
      "\u001b[34mEnvironment variables:\n",
      "\u001b[0m\n",
      "\u001b[34mSM_OUTPUT_DIR=/opt/ml/output\u001b[0m\n",
      "\u001b[34mSM_LOG_LEVEL=20\u001b[0m\n",
      "\u001b[34mSM_RESOURCE_CONFIG={\"current_host\":\"algo-1\",\"hosts\":[\"algo-1\"],\"network_interface_name\":\"eth0\"}\u001b[0m\n",
      "\u001b[34mPYTHONPATH=/usr/local/bin:/usr/lib/python35.zip:/usr/lib/python3.5:/usr/lib/python3.5/plat-x86_64-linux-gnu:/usr/lib/python3.5/lib-dynload:/usr/local/lib/python3.5/dist-packages:/usr/lib/python3/dist-packages\u001b[0m\n",
      "\u001b[34mSM_FRAMEWORK_PARAMS={\"sagemaker_estimator_class_name\":\"PyTorch\",\"sagemaker_estimator_module\":\"sagemaker.pytorch.estimator\"}\u001b[0m\n",
      "\u001b[34mSM_INPUT_DIR=/opt/ml/input\u001b[0m\n",
      "\u001b[34mSM_HPS={\"batch-size\":128,\"early_stopping_rounds\":3,\"embedding_dim\":119,\"epochs\":15,\"hidden_dim\":177,\"lr\":0.0035637927010158748}\u001b[0m\n",
      "\u001b[34mSM_HP_LR=0.0035637927010158748\u001b[0m\n",
      "\u001b[34mSM_HP_BATCH-SIZE=128\u001b[0m\n",
      "\u001b[34mSM_CURRENT_HOST=algo-1\u001b[0m\n",
      "\u001b[34mSM_CHANNELS=[\"training\",\"validation\"]\u001b[0m\n",
      "\u001b[34mSM_TRAINING_ENV={\"additional_framework_parameters\":{\"sagemaker_estimator_class_name\":\"PyTorch\",\"sagemaker_estimator_module\":\"sagemaker.pytorch.estimator\"},\"channel_input_dirs\":{\"training\":\"/opt/ml/input/data/training\",\"validation\":\"/opt/ml/input/data/validation\"},\"current_host\":\"algo-1\",\"framework_module\":\"sagemaker_pytorch_container.training:main\",\"hosts\":[\"algo-1\"],\"hyperparameters\":{\"batch-size\":128,\"early_stopping_rounds\":3,\"embedding_dim\":119,\"epochs\":15,\"hidden_dim\":177,\"lr\":0.0035637927010158748},\"input_config_dir\":\"/opt/ml/input/config\",\"input_data_config\":{\"training\":{\"RecordWrapperType\":\"None\",\"S3DistributionType\":\"FullyReplicated\",\"TrainingInputMode\":\"File\"},\"validation\":{\"RecordWrapperType\":\"None\",\"S3DistributionType\":\"FullyReplicated\",\"TrainingInputMode\":\"File\"}},\"input_dir\":\"/opt/ml/input\",\"job_name\":\"sagemaker-pytorch-200407-0807-009-df093bf6\",\"log_level\":20,\"model_dir\":\"/opt/ml/model\",\"module_dir\":\"s3://sagemaker-us-east-2-721636405847/sagemaker-pytorch-2020-04-07-08-07-12-014/source/sourcedir.tar.gz\",\"module_name\":\"train\",\"network_interface_name\":\"eth0\",\"num_cpus\":4,\"num_gpus\":1,\"output_data_dir\":\"/opt/ml/output/data\",\"output_dir\":\"/opt/ml/output\",\"output_intermediate_dir\":\"/opt/ml/output/intermediate\",\"resource_config\":{\"current_host\":\"algo-1\",\"hosts\":[\"algo-1\"],\"network_interface_name\":\"eth0\"},\"user_entry_point\":\"train.py\"}\u001b[0m\n",
      "\u001b[34mSM_HP_HIDDEN_DIM=177\u001b[0m\n",
      "\u001b[34mSM_USER_ENTRY_POINT=train.py\u001b[0m\n",
      "\u001b[34mSM_NUM_CPUS=4\u001b[0m\n",
      "\u001b[34mSM_FRAMEWORK_MODULE=sagemaker_pytorch_container.training:main\u001b[0m\n",
      "\u001b[34mSM_OUTPUT_DATA_DIR=/opt/ml/output/data\u001b[0m\n",
      "\u001b[34mSM_OUTPUT_INTERMEDIATE_DIR=/opt/ml/output/intermediate\u001b[0m\n",
      "\u001b[34mSM_HP_EMBEDDING_DIM=119\u001b[0m\n",
      "\u001b[34mSM_MODULE_NAME=train\u001b[0m\n",
      "\u001b[34mSM_HOSTS=[\"algo-1\"]\u001b[0m\n",
      "\u001b[34mSM_NUM_GPUS=1\u001b[0m\n",
      "\u001b[34mSM_USER_ARGS=[\"--batch-size\",\"128\",\"--early_stopping_rounds\",\"3\",\"--embedding_dim\",\"119\",\"--epochs\",\"15\",\"--hidden_dim\",\"177\",\"--lr\",\"0.0035637927010158748\"]\u001b[0m\n",
      "\u001b[34mSM_MODULE_DIR=s3://sagemaker-us-east-2-721636405847/sagemaker-pytorch-2020-04-07-08-07-12-014/source/sourcedir.tar.gz\u001b[0m\n",
      "\u001b[34mSM_CHANNEL_TRAINING=/opt/ml/input/data/training\u001b[0m\n",
      "\u001b[34mSM_HP_EARLY_STOPPING_ROUNDS=3\u001b[0m\n",
      "\u001b[34mSM_INPUT_CONFIG_DIR=/opt/ml/input/config\u001b[0m\n",
      "\u001b[34mSM_HP_EPOCHS=15\u001b[0m\n",
      "\u001b[34mSM_INPUT_DATA_CONFIG={\"training\":{\"RecordWrapperType\":\"None\",\"S3DistributionType\":\"FullyReplicated\",\"TrainingInputMode\":\"File\"},\"validation\":{\"RecordWrapperType\":\"None\",\"S3DistributionType\":\"FullyReplicated\",\"TrainingInputMode\":\"File\"}}\u001b[0m\n",
      "\u001b[34mSM_CHANNEL_VALIDATION=/opt/ml/input/data/validation\u001b[0m\n",
      "\u001b[34mSM_NETWORK_INTERFACE_NAME=eth0\u001b[0m\n",
      "\u001b[34mSM_MODEL_DIR=/opt/ml/model\n",
      "\u001b[0m\n",
      "\u001b[34mInvoking script with the following command:\n",
      "\u001b[0m\n",
      "\u001b[34m/usr/bin/python -m train --batch-size 128 --early_stopping_rounds 3 --embedding_dim 119 --epochs 15 --hidden_dim 177 --lr 0.0035637927010158748\n",
      "\n",
      "\u001b[0m\n",
      "\u001b[34mUsing device cuda.\u001b[0m\n",
      "\u001b[34mGet train data loader.\u001b[0m\n",
      "\u001b[34mGet validation data loader.\u001b[0m\n",
      "\u001b[34mModel loaded with embedding_dim 119, hidden_dim 177, vocab_size 5000.\u001b[0m\n",
      "\u001b[34mStarting Epoch 1\u001b[0m\n",
      "\u001b[34mEpoch: 1, Training_Loss: 0.6372900757789611\u001b[0m\n",
      "\u001b[34mEpoch: 1, Validation_Loss: 0.48235571952093215\u001b[0m\n",
      "\u001b[34mEpoch: 1, Validation_Accuracy: 0.79\u001b[0m\n",
      "\u001b[34mStarting Epoch 2\u001b[0m\n",
      "\u001b[34mEpoch: 2, Training_Loss: 0.4339191192984581\u001b[0m\n",
      "\u001b[34mEpoch: 2, Validation_Loss: 0.4549097101839762\u001b[0m\n",
      "\u001b[34mEpoch: 2, Validation_Accuracy: 0.812125\u001b[0m\n",
      "\u001b[34mStarting Epoch 3\u001b[0m\n",
      "\u001b[34mEpoch: 3, Training_Loss: 0.3272992396950722\u001b[0m\n",
      "\u001b[34mEpoch: 3, Validation_Loss: 0.2937973950590406\u001b[0m\n",
      "\u001b[34mEpoch: 3, Validation_Accuracy: 0.886875\u001b[0m\n",
      "\u001b[34mStarting Epoch 4\u001b[0m\n",
      "\u001b[34mEpoch: 4, Training_Loss: 0.27703038120269774\u001b[0m\n",
      "\u001b[34mEpoch: 4, Validation_Loss: 0.28117773764663273\u001b[0m\n",
      "\u001b[34mEpoch: 4, Validation_Accuracy: 0.881125\u001b[0m\n",
      "\u001b[34mStarting Epoch 5\u001b[0m\n",
      "\u001b[34mEpoch: 5, Training_Loss: 0.2558418127298355\u001b[0m\n",
      "\u001b[34mEpoch: 5, Validation_Loss: 0.25922307845145937\u001b[0m\n",
      "\u001b[34mEpoch: 5, Validation_Accuracy: 0.895875\u001b[0m\n",
      "\u001b[34mStarting Epoch 6\u001b[0m\n",
      "\u001b[34mEpoch: 6, Training_Loss: 0.24449810820817947\u001b[0m\n",
      "\u001b[34mEpoch: 6, Validation_Loss: 0.26570207708411747\u001b[0m\n",
      "\u001b[34mEpoch: 6, Validation_Accuracy: 0.8905\u001b[0m\n",
      "\u001b[34mStarting Epoch 7\u001b[0m\n",
      "\u001b[34mEpoch: 7, Training_Loss: 0.23221564042568207\u001b[0m\n",
      "\u001b[34mEpoch: 7, Validation_Loss: 0.28037192826233215\u001b[0m\n",
      "\u001b[34mEpoch: 7, Validation_Accuracy: 0.888875\u001b[0m\n",
      "\u001b[34mStarting Epoch 8\u001b[0m\n",
      "\u001b[34mEpoch: 8, Training_Loss: 0.22097574338316917\u001b[0m\n",
      "\u001b[34mEpoch: 8, Validation_Loss: 0.2671504332905724\u001b[0m\n",
      "\u001b[34mEpoch: 8, Validation_Accuracy: 0.891625\u001b[0m\n",
      "\u001b[34mStarting Epoch 9\u001b[0m\n",
      "\u001b[34mEpoch: 9, Training_Loss: 0.21761748120188712\u001b[0m\n",
      "\u001b[34mEpoch: 9, Validation_Loss: 0.28518886816880057\u001b[0m\n",
      "\u001b[34mEpoch: 9, Validation_Accuracy: 0.885\u001b[0m\n",
      "\u001b[34mStarting Epoch 10\u001b[0m\n",
      "\u001b[34mEpoch: 10, Training_Loss: 0.20692535081505775\u001b[0m\n",
      "\u001b[34mEpoch: 10, Validation_Loss: 0.32483267098192187\u001b[0m\n",
      "\u001b[34mEpoch: 10, Validation_Accuracy: 0.864625\u001b[0m\n",
      "\u001b[34mStarting Epoch 11\u001b[0m\n",
      "\u001b[34mEpoch: 11, Training_Loss: 0.20132686156034468\u001b[0m\n",
      "\u001b[34mEpoch: 11, Validation_Loss: 0.2701811260647244\u001b[0m\n",
      "\u001b[34mEpoch: 11, Validation_Accuracy: 0.89125\u001b[0m\n",
      "\u001b[34mStarting Epoch 12\u001b[0m\n",
      "\u001b[34mEpoch: 12, Training_Loss: 0.19711921706795693\u001b[0m\n",
      "\u001b[34mEpoch: 12, Validation_Loss: 0.3157563377467413\u001b[0m\n",
      "\u001b[34mEpoch: 12, Validation_Accuracy: 0.88375\u001b[0m\n",
      "\u001b[34mStarting Epoch 13\u001b[0m\n",
      "\u001b[34mEpoch: 13, Training_Loss: 0.19867335063219072\u001b[0m\n",
      "\u001b[34mEpoch: 13, Validation_Loss: 0.2631568061927008\u001b[0m\n",
      "\u001b[34mEpoch: 13, Validation_Accuracy: 0.895125\u001b[0m\n",
      "\u001b[34mStarting Epoch 14\u001b[0m\n",
      "\u001b[34mEpoch: 14, Training_Loss: 0.18554402109980583\u001b[0m\n",
      "\u001b[34mEpoch: 14, Validation_Loss: 0.2660413786532387\u001b[0m\n",
      "\u001b[34mEpoch: 14, Validation_Accuracy: 0.890375\u001b[0m\n",
      "\u001b[34mStarting Epoch 15\u001b[0m\n",
      "\u001b[34mEpoch: 15, Training_Loss: 0.18194849383831024\u001b[0m\n",
      "\u001b[34mEpoch: 15, Validation_Loss: 0.2681521905793084\u001b[0m\n",
      "\u001b[34mEpoch: 15, Validation_Accuracy: 0.89125\u001b[0m\n",
      "\u001b[34mFinal_Validation_Loss: 0.25922307845145937\u001b[0m\n",
      "\u001b[34mFinal_Validation_Accuracy: 0.895875\u001b[0m\n",
      "\u001b[34m2020-04-07 09:39:28,625 sagemaker-containers INFO     Reporting training SUCCESS\u001b[0m\n",
      "Training seconds: 2493\n",
      "Billable seconds: 2493\n"
     ]
    }
   ],
   "source": [
    "estimator_attached = sagemaker.estimator.Estimator.attach(estimator_hyperparameter_tuner.best_training_job())"
   ]
  },
  {
   "cell_type": "markdown",
   "metadata": {
    "colab_type": "text",
    "id": "edaNoT7TQ1hq"
   },
   "source": [
    "## Step 5: Testing the model\n",
    "\n",
    "As mentioned at the top of this notebook, we will be testing this model by first deploying it and then sending the testing data to the deployed endpoint. We will do this so that we can make sure that the deployed model is working correctly.\n",
    "\n",
    "## Step 6: Deploy the model for testing\n",
    "\n",
    "Now that we have trained our model, we would like to test it to see how it performs. Currently our model takes input of the form `review_length, review[500]` where `review[500]` is a sequence of `500` integers which describe the words present in the review, encoded using `word_dict`. Fortunately for us, SageMaker provides built-in inference code for models with simple inputs such as this.\n",
    "\n",
    "There is one thing that we need to provide, however, and that is a function which loads the saved model. This function must be called `model_fn()` and takes as its only parameter a path to the directory where the model artifacts are stored. This function must also be present in the python file which we specified as the entry point. In our case the model loading function has been provided and so no changes need to be made.\n",
    "\n",
    "**NOTE**: When the built-in inference code is run it must import the `model_fn()` method from the `train.py` file. This is why the training code is wrapped in a main guard ( ie, `if __name__ == '__main__':` )\n",
    "\n",
    "Since we don't need to change anything in the code that was uploaded during training, we can simply deploy the current model as-is.\n",
    "\n",
    "**NOTE:** When deploying a model you are asking SageMaker to launch an compute instance that will wait for data to be sent to it. As a result, this compute instance will continue to run until *you* shut it down. This is important to know since the cost of a deployed endpoint depends on how long it has been running for.\n",
    "\n",
    "In other words **If you are no longer using a deployed endpoint, shut it down!**\n",
    "\n",
    "\n",
    "**TODO:** Deploy the trained model."
   ]
  },
  {
   "cell_type": "code",
   "execution_count": 53,
   "metadata": {
    "colab": {},
    "colab_type": "code",
    "id": "3obZ1B09Q1hr"
   },
   "outputs": [
    {
     "name": "stderr",
     "output_type": "stream",
     "text": [
      "WARNING:sagemaker:Using already existing model: sagemaker-pytorch-200407-0807-009-df093bf6\n"
     ]
    },
    {
     "name": "stdout",
     "output_type": "stream",
     "text": [
      "-------------------------------*"
     ]
    },
    {
     "ename": "UnexpectedStatusException",
     "evalue": "Error hosting endpoint sagemaker-pytorch-200407-0807-009-df093bf6: Failed. Reason:  The primary container for production variant AllTraffic did not pass the ping health check. Please check CloudWatch logs for this endpoint..",
     "output_type": "error",
     "traceback": [
      "\u001b[0;31m---------------------------------------------------------------------------\u001b[0m",
      "\u001b[0;31mUnexpectedStatusException\u001b[0m                 Traceback (most recent call last)",
      "\u001b[0;32m<ipython-input-53-d36e259cb7e5>\u001b[0m in \u001b[0;36m<module>\u001b[0;34m()\u001b[0m\n\u001b[0;32m----> 1\u001b[0;31m \u001b[0mpredictor\u001b[0m \u001b[0;34m=\u001b[0m \u001b[0mestimator_attached\u001b[0m\u001b[0;34m.\u001b[0m\u001b[0mdeploy\u001b[0m\u001b[0;34m(\u001b[0m\u001b[0minitial_instance_count\u001b[0m\u001b[0;34m=\u001b[0m\u001b[0;36m1\u001b[0m\u001b[0;34m,\u001b[0m \u001b[0minstance_type\u001b[0m\u001b[0;34m=\u001b[0m\u001b[0;34m'ml.m4.xlarge'\u001b[0m\u001b[0;34m)\u001b[0m\u001b[0;34m\u001b[0m\u001b[0m\n\u001b[0m",
      "\u001b[0;32m~/anaconda3/envs/pytorch_p36/lib/python3.6/site-packages/sagemaker/estimator.py\u001b[0m in \u001b[0;36mdeploy\u001b[0;34m(self, initial_instance_count, instance_type, accelerator_type, endpoint_name, use_compiled_model, update_endpoint, wait, model_name, kms_key, data_capture_config, tags, **kwargs)\u001b[0m\n\u001b[1;32m    691\u001b[0m             \u001b[0mwait\u001b[0m\u001b[0;34m=\u001b[0m\u001b[0mwait\u001b[0m\u001b[0;34m,\u001b[0m\u001b[0;34m\u001b[0m\u001b[0m\n\u001b[1;32m    692\u001b[0m             \u001b[0mkms_key\u001b[0m\u001b[0;34m=\u001b[0m\u001b[0mkms_key\u001b[0m\u001b[0;34m,\u001b[0m\u001b[0;34m\u001b[0m\u001b[0m\n\u001b[0;32m--> 693\u001b[0;31m             \u001b[0mdata_capture_config\u001b[0m\u001b[0;34m=\u001b[0m\u001b[0mdata_capture_config\u001b[0m\u001b[0;34m,\u001b[0m\u001b[0;34m\u001b[0m\u001b[0m\n\u001b[0m\u001b[1;32m    694\u001b[0m         )\n\u001b[1;32m    695\u001b[0m \u001b[0;34m\u001b[0m\u001b[0m\n",
      "\u001b[0;32m~/anaconda3/envs/pytorch_p36/lib/python3.6/site-packages/sagemaker/model.py\u001b[0m in \u001b[0;36mdeploy\u001b[0;34m(self, initial_instance_count, instance_type, accelerator_type, endpoint_name, update_endpoint, tags, kms_key, wait, data_capture_config)\u001b[0m\n\u001b[1;32m    478\u001b[0m                 \u001b[0mkms_key\u001b[0m\u001b[0;34m=\u001b[0m\u001b[0mkms_key\u001b[0m\u001b[0;34m,\u001b[0m\u001b[0;34m\u001b[0m\u001b[0m\n\u001b[1;32m    479\u001b[0m                 \u001b[0mwait\u001b[0m\u001b[0;34m=\u001b[0m\u001b[0mwait\u001b[0m\u001b[0;34m,\u001b[0m\u001b[0;34m\u001b[0m\u001b[0m\n\u001b[0;32m--> 480\u001b[0;31m                 \u001b[0mdata_capture_config_dict\u001b[0m\u001b[0;34m=\u001b[0m\u001b[0mdata_capture_config_dict\u001b[0m\u001b[0;34m,\u001b[0m\u001b[0;34m\u001b[0m\u001b[0m\n\u001b[0m\u001b[1;32m    481\u001b[0m             )\n\u001b[1;32m    482\u001b[0m \u001b[0;34m\u001b[0m\u001b[0m\n",
      "\u001b[0;32m~/anaconda3/envs/pytorch_p36/lib/python3.6/site-packages/sagemaker/session.py\u001b[0m in \u001b[0;36mendpoint_from_production_variants\u001b[0;34m(self, name, production_variants, tags, kms_key, wait, data_capture_config_dict)\u001b[0m\n\u001b[1;32m   2849\u001b[0m \u001b[0;34m\u001b[0m\u001b[0m\n\u001b[1;32m   2850\u001b[0m             \u001b[0mself\u001b[0m\u001b[0;34m.\u001b[0m\u001b[0msagemaker_client\u001b[0m\u001b[0;34m.\u001b[0m\u001b[0mcreate_endpoint_config\u001b[0m\u001b[0;34m(\u001b[0m\u001b[0;34m**\u001b[0m\u001b[0mconfig_options\u001b[0m\u001b[0;34m)\u001b[0m\u001b[0;34m\u001b[0m\u001b[0m\n\u001b[0;32m-> 2851\u001b[0;31m         \u001b[0;32mreturn\u001b[0m \u001b[0mself\u001b[0m\u001b[0;34m.\u001b[0m\u001b[0mcreate_endpoint\u001b[0m\u001b[0;34m(\u001b[0m\u001b[0mendpoint_name\u001b[0m\u001b[0;34m=\u001b[0m\u001b[0mname\u001b[0m\u001b[0;34m,\u001b[0m \u001b[0mconfig_name\u001b[0m\u001b[0;34m=\u001b[0m\u001b[0mname\u001b[0m\u001b[0;34m,\u001b[0m \u001b[0mtags\u001b[0m\u001b[0;34m=\u001b[0m\u001b[0mtags\u001b[0m\u001b[0;34m,\u001b[0m \u001b[0mwait\u001b[0m\u001b[0;34m=\u001b[0m\u001b[0mwait\u001b[0m\u001b[0;34m)\u001b[0m\u001b[0;34m\u001b[0m\u001b[0m\n\u001b[0m\u001b[1;32m   2852\u001b[0m \u001b[0;34m\u001b[0m\u001b[0m\n\u001b[1;32m   2853\u001b[0m     \u001b[0;32mdef\u001b[0m \u001b[0mexpand_role\u001b[0m\u001b[0;34m(\u001b[0m\u001b[0mself\u001b[0m\u001b[0;34m,\u001b[0m \u001b[0mrole\u001b[0m\u001b[0;34m)\u001b[0m\u001b[0;34m:\u001b[0m\u001b[0;34m\u001b[0m\u001b[0m\n",
      "\u001b[0;32m~/anaconda3/envs/pytorch_p36/lib/python3.6/site-packages/sagemaker/session.py\u001b[0m in \u001b[0;36mcreate_endpoint\u001b[0;34m(self, endpoint_name, config_name, tags, wait)\u001b[0m\n\u001b[1;32m   2381\u001b[0m         )\n\u001b[1;32m   2382\u001b[0m         \u001b[0;32mif\u001b[0m \u001b[0mwait\u001b[0m\u001b[0;34m:\u001b[0m\u001b[0;34m\u001b[0m\u001b[0m\n\u001b[0;32m-> 2383\u001b[0;31m             \u001b[0mself\u001b[0m\u001b[0;34m.\u001b[0m\u001b[0mwait_for_endpoint\u001b[0m\u001b[0;34m(\u001b[0m\u001b[0mendpoint_name\u001b[0m\u001b[0;34m)\u001b[0m\u001b[0;34m\u001b[0m\u001b[0m\n\u001b[0m\u001b[1;32m   2384\u001b[0m         \u001b[0;32mreturn\u001b[0m \u001b[0mendpoint_name\u001b[0m\u001b[0;34m\u001b[0m\u001b[0m\n\u001b[1;32m   2385\u001b[0m \u001b[0;34m\u001b[0m\u001b[0m\n",
      "\u001b[0;32m~/anaconda3/envs/pytorch_p36/lib/python3.6/site-packages/sagemaker/session.py\u001b[0m in \u001b[0;36mwait_for_endpoint\u001b[0;34m(self, endpoint, poll)\u001b[0m\n\u001b[1;32m   2638\u001b[0m                 ),\n\u001b[1;32m   2639\u001b[0m                 \u001b[0mallowed_statuses\u001b[0m\u001b[0;34m=\u001b[0m\u001b[0;34m[\u001b[0m\u001b[0;34m\"InService\"\u001b[0m\u001b[0;34m]\u001b[0m\u001b[0;34m,\u001b[0m\u001b[0;34m\u001b[0m\u001b[0m\n\u001b[0;32m-> 2640\u001b[0;31m                 \u001b[0mactual_status\u001b[0m\u001b[0;34m=\u001b[0m\u001b[0mstatus\u001b[0m\u001b[0;34m,\u001b[0m\u001b[0;34m\u001b[0m\u001b[0m\n\u001b[0m\u001b[1;32m   2641\u001b[0m             )\n\u001b[1;32m   2642\u001b[0m         \u001b[0;32mreturn\u001b[0m \u001b[0mdesc\u001b[0m\u001b[0;34m\u001b[0m\u001b[0m\n",
      "\u001b[0;31mUnexpectedStatusException\u001b[0m: Error hosting endpoint sagemaker-pytorch-200407-0807-009-df093bf6: Failed. Reason:  The primary container for production variant AllTraffic did not pass the ping health check. Please check CloudWatch logs for this endpoint.."
     ]
    }
   ],
   "source": [
    "predictor = estimator_attached.deploy(initial_instance_count=1, instance_type='ml.m4.xlarge')"
   ]
  },
  {
   "cell_type": "markdown",
   "metadata": {
    "colab_type": "text",
    "id": "Cu-cHWfMQ1hx"
   },
   "source": [
    "## Step 7 - Use the model for testing\n",
    "\n",
    "Once deployed, we can read in the test data and send it off to our deployed model to get some results. Once we collect all of the results we can determine how accurate our model is."
   ]
  },
  {
   "cell_type": "code",
   "execution_count": null,
   "metadata": {
    "colab": {},
    "colab_type": "code",
    "id": "V9Bv7814Q1hy"
   },
   "outputs": [],
   "source": [
    "test_X = pd.concat([pd.DataFrame(test_X_len), pd.DataFrame(test_X)], axis=1)"
   ]
  },
  {
   "cell_type": "code",
   "execution_count": null,
   "metadata": {
    "colab": {},
    "colab_type": "code",
    "id": "5m9eCja5Q1h3"
   },
   "outputs": [],
   "source": [
    "# We split the data into chunks and send each chunk seperately, accumulating the results.\n",
    "\n",
    "def predict(data, rows=512):\n",
    "    split_array = np.array_split(data, int(data.shape[0] / float(rows) + 1))\n",
    "    predictions = np.array([])\n",
    "    for array in split_array:\n",
    "        predictions = np.append(predictions, predictor.predict(array))\n",
    "    \n",
    "    return predictions"
   ]
  },
  {
   "cell_type": "code",
   "execution_count": null,
   "metadata": {
    "colab": {},
    "colab_type": "code",
    "id": "TVxdx2_KQ1h-"
   },
   "outputs": [],
   "source": [
    "predictions = predict(test_X.values)\n",
    "predictions = [round(num) for num in predictions]"
   ]
  },
  {
   "cell_type": "code",
   "execution_count": null,
   "metadata": {
    "colab": {},
    "colab_type": "code",
    "id": "dt7vv2qvQ1iJ"
   },
   "outputs": [],
   "source": [
    "from sklearn.metrics import accuracy_score\n",
    "accuracy_score(test_y, predictions)"
   ]
  },
  {
   "cell_type": "markdown",
   "metadata": {
    "colab_type": "text",
    "id": "65vJOUJBQ1iT"
   },
   "source": [
    "**Question:** How does this model compare to the XGBoost model you created earlier? Why might these two models perform differently on this dataset? Which do *you* think is better for sentiment analysis?"
   ]
  },
  {
   "cell_type": "markdown",
   "metadata": {
    "colab_type": "text",
    "id": "gpYW2qirQ1iU"
   },
   "source": [
    "**Answer:**"
   ]
  },
  {
   "cell_type": "markdown",
   "metadata": {
    "colab_type": "text",
    "id": "ZacN9v-pQ1iW"
   },
   "source": [
    "### (TODO) More testing\n",
    "\n",
    "We now have a trained model which has been deployed and which we can send processed reviews to and which returns the predicted sentiment. However, ultimately we would like to be able to send our model an unprocessed review. That is, we would like to send the review itself as a string. For example, suppose we wish to send the following review to our model."
   ]
  },
  {
   "cell_type": "code",
   "execution_count": null,
   "metadata": {
    "colab": {},
    "colab_type": "code",
    "id": "0UIs78EbQ1ib"
   },
   "outputs": [],
   "source": [
    "test_review = 'The simplest pleasures in life are the best, and this film is one of them. Combining a rather basic storyline of love and adventure this movie transcends the usual weekend fair with wit and unmitigated charm.'"
   ]
  },
  {
   "cell_type": "markdown",
   "metadata": {
    "colab_type": "text",
    "id": "vDtBTk1GQ1in"
   },
   "source": [
    "The question we now need to answer is, how do we send this review to our model?\n",
    "\n",
    "Recall in the first section of this notebook we did a bunch of data processing to the IMDb dataset. In particular, we did two specific things to the provided reviews.\n",
    " - Removed any html tags and stemmed the input\n",
    " - Encoded the review as a sequence of integers using `word_dict`\n",
    " \n",
    "In order process the review we will need to repeat these two steps.\n",
    "\n",
    "**TODO**: Using the `review_to_words` and `convert_and_pad` methods from section one, convert `test_review` into a numpy array `test_data` suitable to send to our model. Remember that our model expects input of the form `review_length, review[500]`."
   ]
  },
  {
   "cell_type": "code",
   "execution_count": null,
   "metadata": {
    "colab": {},
    "colab_type": "code",
    "id": "_Ulj4yljQ1ip"
   },
   "outputs": [],
   "source": [
    "# TODO: Convert test_review into a form usable by the model and save the results in test_data\n",
    "test_data = preprocess_data(test_review)\n",
    "test_data, _ = convert_and_pad_data(word_dict, test_data)"
   ]
  },
  {
   "cell_type": "markdown",
   "metadata": {
    "colab_type": "text",
    "id": "7v8YpHUiQ1iy"
   },
   "source": [
    "Now that we have processed the review, we can send the resulting array to our model to predict the sentiment of the review."
   ]
  },
  {
   "cell_type": "code",
   "execution_count": null,
   "metadata": {
    "colab": {},
    "colab_type": "code",
    "id": "dos4GqLVQ1i0"
   },
   "outputs": [],
   "source": [
    "predictor.predict(test_data)"
   ]
  },
  {
   "cell_type": "markdown",
   "metadata": {
    "colab_type": "text",
    "id": "aMhoGPM1Q1i9"
   },
   "source": [
    "Since the return value of our model is close to `1`, we can be certain that the review we submitted is positive."
   ]
  },
  {
   "cell_type": "markdown",
   "metadata": {
    "colab_type": "text",
    "id": "7nULYFGDQ1jA"
   },
   "source": [
    "### Delete the endpoint\n",
    "\n",
    "Of course, just like in the XGBoost notebook, once we've deployed an endpoint it continues to run until we tell it to shut down. Since we are done using our endpoint for now, we can delete it."
   ]
  },
  {
   "cell_type": "code",
   "execution_count": null,
   "metadata": {
    "colab": {},
    "colab_type": "code",
    "id": "tx6OBYFeQ1jD"
   },
   "outputs": [],
   "source": [
    "estimator.delete_endpoint()"
   ]
  },
  {
   "cell_type": "markdown",
   "metadata": {
    "colab_type": "text",
    "id": "O8mvtyq2Q1jT"
   },
   "source": [
    "## Step 6 (again) - Deploy the model for the web app\n",
    "\n",
    "Now that we know that our model is working, it's time to create some custom inference code so that we can send the model a review which has not been processed and have it determine the sentiment of the review.\n",
    "\n",
    "As we saw above, by default the estimator which we created, when deployed, will use the entry script and directory which we provided when creating the model. However, since we now wish to accept a string as input and our model expects a processed review, we need to write some custom inference code.\n",
    "\n",
    "We will store the code that we write in the `serve` directory. Provided in this directory is the `model.py` file that we used to construct our model, a `utils.py` file which contains the `review_to_words` and `convert_and_pad` pre-processing functions which we used during the initial data processing, and `predict.py`, the file which will contain our custom inference code. Note also that `requirements.txt` is present which will tell SageMaker what Python libraries are required by our custom inference code.\n",
    "\n",
    "When deploying a PyTorch model in SageMaker, you are expected to provide four functions which the SageMaker inference container will use.\n",
    " - `model_fn`: This function is the same function that we used in the training script and it tells SageMaker how to load our model.\n",
    " - `input_fn`: This function receives the raw serialized input that has been sent to the model's endpoint and its job is to de-serialize and make the input available for the inference code.\n",
    " - `output_fn`: This function takes the output of the inference code and its job is to serialize this output and return it to the caller of the model's endpoint.\n",
    " - `predict_fn`: The heart of the inference script, this is where the actual prediction is done and is the function which you will need to complete.\n",
    "\n",
    "For the simple website that we are constructing during this project, the `input_fn` and `output_fn` methods are relatively straightforward. We only require being able to accept a string as input and we expect to return a single value as output. You might imagine though that in a more complex application the input or output may be image data or some other binary data which would require some effort to serialize.\n",
    "\n",
    "### (TODO) Writing inference code\n",
    "\n",
    "Before writing our custom inference code, we will begin by taking a look at the code which has been provided."
   ]
  },
  {
   "cell_type": "code",
   "execution_count": null,
   "metadata": {
    "colab": {},
    "colab_type": "code",
    "id": "pga4tsQNQ1jU"
   },
   "outputs": [],
   "source": [
    "!pygmentize serve/predict.py"
   ]
  },
  {
   "cell_type": "markdown",
   "metadata": {
    "colab_type": "text",
    "id": "3lPTJhhvQ1jf"
   },
   "source": [
    "As mentioned earlier, the `model_fn` method is the same as the one provided in the training code and the `input_fn` and `output_fn` methods are very simple and your task will be to complete the `predict_fn` method. Make sure that you save the completed file as `predict.py` in the `serve` directory.\n",
    "\n",
    "**TODO**: Complete the `predict_fn()` method in the `serve/predict.py` file."
   ]
  },
  {
   "cell_type": "markdown",
   "metadata": {
    "colab_type": "text",
    "id": "kCeZWbVnQ1jh"
   },
   "source": [
    "### Deploying the model\n",
    "\n",
    "Now that the custom inference code has been written, we will create and deploy our model. To begin with, we need to construct a new PyTorchModel object which points to the model artifacts created during training and also points to the inference code that we wish to use. Then we can call the deploy method to launch the deployment container.\n",
    "\n",
    "**NOTE**: The default behaviour for a deployed PyTorch model is to assume that any input passed to the predictor is a `numpy` array. In our case we want to send a string so we need to construct a simple wrapper around the `RealTimePredictor` class to accomodate simple strings. In a more complicated situation you may want to provide a serialization object, for example if you wanted to sent image data."
   ]
  },
  {
   "cell_type": "code",
   "execution_count": null,
   "metadata": {
    "colab": {},
    "colab_type": "code",
    "id": "KFJ1fepMQ1ji"
   },
   "outputs": [],
   "source": [
    "from sagemaker.predictor import RealTimePredictor\n",
    "from sagemaker.pytorch import PyTorchModel\n",
    "\n",
    "class StringPredictor(RealTimePredictor):\n",
    "    def __init__(self, endpoint_name, sagemaker_session):\n",
    "        super(StringPredictor, self).__init__(endpoint_name, sagemaker_session, content_type='text/plain')\n",
    "\n",
    "model = PyTorchModel(model_data=estimator.model_data,\n",
    "                     role = role,\n",
    "                     framework_version='0.4.0',\n",
    "                     entry_point='predict.py',\n",
    "                     source_dir='serve',\n",
    "                     predictor_cls=StringPredictor)\n",
    "predictor = model.deploy(initial_instance_count=1, instance_type='ml.p2.xlarge')"
   ]
  },
  {
   "cell_type": "markdown",
   "metadata": {
    "colab_type": "text",
    "id": "FM4w2ciqQ1js"
   },
   "source": [
    "### Testing the model\n",
    "\n",
    "Now that we have deployed our model with the custom inference code, we should test to see if everything is working. Here we test our model by loading the first `250` positive and negative reviews and send them to the endpoint, then collect the results. The reason for only sending some of the data is that the amount of time it takes for our model to process the input and then perform inference is quite long and so testing the entire data set would be prohibitive."
   ]
  },
  {
   "cell_type": "code",
   "execution_count": null,
   "metadata": {
    "colab": {},
    "colab_type": "code",
    "id": "y8PMDaY9Q1jt"
   },
   "outputs": [],
   "source": [
    "import glob\n",
    "\n",
    "def test_reviews(data_dir='../data/aclImdb', stop=250):\n",
    "    \n",
    "    results = []\n",
    "    ground = []\n",
    "    \n",
    "    # We make sure to test both positive and negative reviews    \n",
    "    for sentiment in ['pos', 'neg']:\n",
    "        \n",
    "        path = os.path.join(data_dir, 'test', sentiment, '*.txt')\n",
    "        files = glob.glob(path)\n",
    "        \n",
    "        files_read = 0\n",
    "        \n",
    "        print('Starting ', sentiment, ' files')\n",
    "        \n",
    "        # Iterate through the files and send them to the predictor\n",
    "        for f in files:\n",
    "            with open(f) as review:\n",
    "                # First, we store the ground truth (was the review positive or negative)\n",
    "                if sentiment == 'pos':\n",
    "                    ground.append(1)\n",
    "                else:\n",
    "                    ground.append(0)\n",
    "                # Read in the review and convert to 'utf-8' for transmission via HTTP\n",
    "                review_input = review.read().encode('utf-8')\n",
    "                # Send the review to the predictor and store the results\n",
    "                results.append(int(predictor.predict(review_input)))\n",
    "                \n",
    "            # Sending reviews to our endpoint one at a time takes a while so we\n",
    "            # only send a small number of reviews\n",
    "            files_read += 1\n",
    "            if files_read == stop:\n",
    "                break\n",
    "            \n",
    "    return ground, results"
   ]
  },
  {
   "cell_type": "code",
   "execution_count": null,
   "metadata": {
    "colab": {},
    "colab_type": "code",
    "id": "fwkoPKxFQ1j7"
   },
   "outputs": [],
   "source": [
    "ground, results = test_reviews()"
   ]
  },
  {
   "cell_type": "code",
   "execution_count": null,
   "metadata": {
    "colab": {},
    "colab_type": "code",
    "id": "GFqIcP6zQ1kF"
   },
   "outputs": [],
   "source": [
    "from sklearn.metrics import accuracy_score\n",
    "accuracy_score(ground, results)"
   ]
  },
  {
   "cell_type": "markdown",
   "metadata": {
    "colab_type": "text",
    "id": "lDRVxnqyQ1kM"
   },
   "source": [
    "As an additional test, we can try sending the `test_review` that we looked at earlier."
   ]
  },
  {
   "cell_type": "code",
   "execution_count": null,
   "metadata": {
    "colab": {},
    "colab_type": "code",
    "id": "Fxyu6igYQ1kO"
   },
   "outputs": [],
   "source": [
    "predictor.predict(test_review)"
   ]
  },
  {
   "cell_type": "markdown",
   "metadata": {
    "colab_type": "text",
    "id": "PoJKpDOBQ1kY"
   },
   "source": [
    "Now that we know our endpoint is working as expected, we can set up the web page that will interact with it. If you don't have time to finish the project now, make sure to skip down to the end of this notebook and shut down your endpoint. You can deploy it again when you come back."
   ]
  },
  {
   "cell_type": "markdown",
   "metadata": {
    "colab_type": "text",
    "id": "_cznsDYAQ1ke"
   },
   "source": [
    "## Step 7 (again): Use the model for the web app\n",
    "\n",
    "> **TODO:** This entire section and the next contain tasks for you to complete, mostly using the AWS console.\n",
    "\n",
    "So far we have been accessing our model endpoint by constructing a predictor object which uses the endpoint and then just using the predictor object to perform inference. What if we wanted to create a web app which accessed our model? The way things are set up currently makes that not possible since in order to access a SageMaker endpoint the app would first have to authenticate with AWS using an IAM role which included access to SageMaker endpoints. However, there is an easier way! We just need to use some additional AWS services.\n",
    "\n",
    "<img src=\"Web App Diagram.svg\">\n",
    "\n",
    "The diagram above gives an overview of how the various services will work together. On the far right is the model which we trained above and which is deployed using SageMaker. On the far left is our web app that collects a user's movie review, sends it off and expects a positive or negative sentiment in return.\n",
    "\n",
    "In the middle is where some of the magic happens. We will construct a Lambda function, which you can think of as a straightforward Python function that can be executed whenever a specified event occurs. We will give this function permission to send and recieve data from a SageMaker endpoint.\n",
    "\n",
    "Lastly, the method we will use to execute the Lambda function is a new endpoint that we will create using API Gateway. This endpoint will be a url that listens for data to be sent to it. Once it gets some data it will pass that data on to the Lambda function and then return whatever the Lambda function returns. Essentially it will act as an interface that lets our web app communicate with the Lambda function.\n",
    "\n",
    "### Setting up a Lambda function\n",
    "\n",
    "The first thing we are going to do is set up a Lambda function. This Lambda function will be executed whenever our public API has data sent to it. When it is executed it will receive the data, perform any sort of processing that is required, send the data (the review) to the SageMaker endpoint we've created and then return the result.\n",
    "\n",
    "#### Part A: Create an IAM Role for the Lambda function\n",
    "\n",
    "Since we want the Lambda function to call a SageMaker endpoint, we need to make sure that it has permission to do so. To do this, we will construct a role that we can later give the Lambda function.\n",
    "\n",
    "Using the AWS Console, navigate to the **IAM** page and click on **Roles**. Then, click on **Create role**. Make sure that the **AWS service** is the type of trusted entity selected and choose **Lambda** as the service that will use this role, then click **Next: Permissions**.\n",
    "\n",
    "In the search box type `sagemaker` and select the check box next to the **AmazonSageMakerFullAccess** policy. Then, click on **Next: Review**.\n",
    "\n",
    "Lastly, give this role a name. Make sure you use a name that you will remember later on, for example `LambdaSageMakerRole`. Then, click on **Create role**.\n",
    "\n",
    "#### Part B: Create a Lambda function\n",
    "\n",
    "Now it is time to actually create the Lambda function.\n",
    "\n",
    "Using the AWS Console, navigate to the AWS Lambda page and click on **Create a function**. When you get to the next page, make sure that **Author from scratch** is selected. Now, name your Lambda function, using a name that you will remember later on, for example `sentiment_analysis_func`. Make sure that the **Python 3.6** runtime is selected and then choose the role that you created in the previous part. Then, click on **Create Function**.\n",
    "\n",
    "On the next page you will see some information about the Lambda function you've just created. If you scroll down you should see an editor in which you can write the code that will be executed when your Lambda function is triggered. In our example, we will use the code below. \n",
    "\n",
    "```python\n",
    "# We need to use the low-level library to interact with SageMaker since the SageMaker API\n",
    "# is not available natively through Lambda.\n",
    "import boto3\n",
    "\n",
    "def lambda_handler(event, context):\n",
    "\n",
    "    # The SageMaker runtime is what allows us to invoke the endpoint that we've created.\n",
    "    runtime = boto3.Session().client('sagemaker-runtime')\n",
    "\n",
    "    # Now we use the SageMaker runtime to invoke our endpoint, sending the review we were given\n",
    "    response = runtime.invoke_endpoint(EndpointName = '**ENDPOINT NAME HERE**',    # The name of the endpoint we created\n",
    "                                       ContentType = 'text/plain',                 # The data format that is expected\n",
    "                                       Body = event['body'])                       # The actual review\n",
    "\n",
    "    # The response is an HTTP response whose body contains the result of our inference\n",
    "    result = response['Body'].read().decode('utf-8')\n",
    "\n",
    "    return {\n",
    "        'statusCode' : 200,\n",
    "        'headers' : { 'Content-Type' : 'text/plain', 'Access-Control-Allow-Origin' : '*' },\n",
    "        'body' : result\n",
    "    }\n",
    "```\n",
    "\n",
    "Once you have copy and pasted the code above into the Lambda code editor, replace the `**ENDPOINT NAME HERE**` portion with the name of the endpoint that we deployed earlier. You can determine the name of the endpoint using the code cell below."
   ]
  },
  {
   "cell_type": "code",
   "execution_count": null,
   "metadata": {
    "colab": {},
    "colab_type": "code",
    "id": "gYBlhPFoQ1kf"
   },
   "outputs": [],
   "source": [
    "predictor.endpoint"
   ]
  },
  {
   "cell_type": "markdown",
   "metadata": {
    "colab_type": "text",
    "id": "P9ASaQkzQ1kq"
   },
   "source": [
    "Once you have added the endpoint name to the Lambda function, click on **Save**. Your Lambda function is now up and running. Next we need to create a way for our web app to execute the Lambda function.\n",
    "\n",
    "### Setting up API Gateway\n",
    "\n",
    "Now that our Lambda function is set up, it is time to create a new API using API Gateway that will trigger the Lambda function we have just created.\n",
    "\n",
    "Using AWS Console, navigate to **Amazon API Gateway** and then click on **Get started**.\n",
    "\n",
    "On the next page, make sure that **New API** is selected and give the new api a name, for example, `sentiment_analysis_api`. Then, click on **Create API**.\n",
    "\n",
    "Now we have created an API, however it doesn't currently do anything. What we want it to do is to trigger the Lambda function that we created earlier.\n",
    "\n",
    "Select the **Actions** dropdown menu and click **Create Method**. A new blank method will be created, select its dropdown menu and select **POST**, then click on the check mark beside it.\n",
    "\n",
    "For the integration point, make sure that **Lambda Function** is selected and click on the **Use Lambda Proxy integration**. This option makes sure that the data that is sent to the API is then sent directly to the Lambda function with no processing. It also means that the return value must be a proper response object as it will also not be processed by API Gateway.\n",
    "\n",
    "Type the name of the Lambda function you created earlier into the **Lambda Function** text entry box and then click on **Save**. Click on **OK** in the pop-up box that then appears, giving permission to API Gateway to invoke the Lambda function you created.\n",
    "\n",
    "The last step in creating the API Gateway is to select the **Actions** dropdown and click on **Deploy API**. You will need to create a new Deployment stage and name it anything you like, for example `prod`.\n",
    "\n",
    "You have now successfully set up a public API to access your SageMaker model. Make sure to copy or write down the URL provided to invoke your newly created public API as this will be needed in the next step. This URL can be found at the top of the page, highlighted in blue next to the text **Invoke URL**."
   ]
  },
  {
   "cell_type": "markdown",
   "metadata": {
    "colab_type": "text",
    "id": "aB8oCetCQ1ks"
   },
   "source": [
    "## Step 4: Deploying our web app\n",
    "\n",
    "Now that we have a publicly available API, we can start using it in a web app. For our purposes, we have provided a simple static html file which can make use of the public api you created earlier.\n",
    "\n",
    "In the `website` folder there should be a file called `index.html`. Download the file to your computer and open that file up in a text editor of your choice. There should be a line which contains **\\*\\*REPLACE WITH PUBLIC API URL\\*\\***. Replace this string with the url that you wrote down in the last step and then save the file.\n",
    "\n",
    "Now, if you open `index.html` on your local computer, your browser will behave as a local web server and you can use the provided site to interact with your SageMaker model.\n",
    "\n",
    "If you'd like to go further, you can host this html file anywhere you'd like, for example using github or hosting a static site on Amazon's S3. Once you have done this you can share the link with anyone you'd like and have them play with it too!\n",
    "\n",
    "> **Important Note** In order for the web app to communicate with the SageMaker endpoint, the endpoint has to actually be deployed and running. This means that you are paying for it. Make sure that the endpoint is running when you want to use the web app but that you shut it down when you don't need it, otherwise you will end up with a surprisingly large AWS bill.\n",
    "\n",
    "**TODO:** Make sure that you include the edited `index.html` file in your project submission."
   ]
  },
  {
   "cell_type": "markdown",
   "metadata": {
    "colab_type": "text",
    "id": "TrvEafSUQ1kz"
   },
   "source": [
    "Now that your web app is working, trying playing around with it and see how well it works.\n",
    "\n",
    "**Question**: Give an example of a review that you entered into your web app. What was the predicted sentiment of your example review?"
   ]
  },
  {
   "cell_type": "markdown",
   "metadata": {
    "colab_type": "text",
    "id": "RVsdrS79Q1k0"
   },
   "source": [
    "**Answer:**"
   ]
  },
  {
   "cell_type": "markdown",
   "metadata": {
    "colab_type": "text",
    "id": "Pz7IECpEQ1k5"
   },
   "source": [
    "### Delete the endpoint\n",
    "\n",
    "Remember to always shut down your endpoint if you are no longer using it. You are charged for the length of time that the endpoint is running so if you forget and leave it on you could end up with an unexpectedly large bill."
   ]
  },
  {
   "cell_type": "code",
   "execution_count": null,
   "metadata": {
    "colab": {},
    "colab_type": "code",
    "id": "Kzn18FUPQ1k8"
   },
   "outputs": [],
   "source": [
    "predictor.delete_endpoint()"
   ]
  },
  {
   "cell_type": "code",
   "execution_count": null,
   "metadata": {
    "colab": {},
    "colab_type": "code",
    "id": "YljtDNs2Q1lG"
   },
   "outputs": [],
   "source": []
  }
 ],
 "metadata": {
  "accelerator": "GPU",
  "colab": {
   "collapsed_sections": [
    "ZacN9v-pQ1iW",
    "7nULYFGDQ1jA",
    "kCeZWbVnQ1jh",
    "FM4w2ciqQ1js",
    "P9ASaQkzQ1kq",
    "Pz7IECpEQ1k5"
   ],
   "name": "SageMaker Project.ipynb",
   "provenance": []
  },
  "kernelspec": {
   "display_name": "conda_pytorch_p36",
   "language": "python",
   "name": "conda_pytorch_p36"
  },
  "language_info": {
   "codemirror_mode": {
    "name": "ipython",
    "version": 3
   },
   "file_extension": ".py",
   "mimetype": "text/x-python",
   "name": "python",
   "nbconvert_exporter": "python",
   "pygments_lexer": "ipython3",
   "version": "3.6.5"
  }
 },
 "nbformat": 4,
 "nbformat_minor": 1
}
